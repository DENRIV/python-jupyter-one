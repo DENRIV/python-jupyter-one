{
 "cells": [
  {
   "cell_type": "code",
   "execution_count": null,
   "metadata": {},
   "outputs": [],
   "source": [
    "# If ... Else\n",
    "\n",
    "# If\n",
    "# Si ? , en pregunta\n",
    "\n",
    "# Else\n",
    "# caso contrario\n",
    "\n",
    "# Comparaciones:\n",
    "\n",
    "\"\"\"\n",
    "Equals: a == b\n",
    "Not Equals: a != b\n",
    "Less than: a < b\n",
    "Less than or equal to: a <= b\n",
    "Greater than: a > b\n",
    "Greater than or equal to: a >= b\n",
    "\"\"\"\n"
   ]
  },
  {
   "cell_type": "code",
   "execution_count": 1,
   "metadata": {},
   "outputs": [
    {
     "name": "stdout",
     "output_type": "stream",
     "text": [
      "Desaprobado\n"
     ]
    }
   ],
   "source": [
    "nota1 = 8\n",
    "nota2 = 10\n",
    "nota3 = 14\n",
    "\n",
    "if nota1 >= 11:\n",
    "    print(\"Aprobado\")\n",
    "else:\n",
    "    print(\"Desaprobado\")\n"
   ]
  },
  {
   "cell_type": "code",
   "execution_count": 2,
   "metadata": {},
   "outputs": [
    {
     "name": "stdout",
     "output_type": "stream",
     "text": [
      "Desaprobado\n"
     ]
    }
   ],
   "source": [
    "nota1 = 8\n",
    "nota2 = 10\n",
    "nota3 = 14\n",
    "\n",
    "if nota2 >= 11:\n",
    "    print(\"Aprobado\")\n",
    "else:\n",
    "    print(\"Desaprobado\")"
   ]
  },
  {
   "cell_type": "code",
   "execution_count": 3,
   "metadata": {},
   "outputs": [
    {
     "name": "stdout",
     "output_type": "stream",
     "text": [
      "Aprobado\n"
     ]
    }
   ],
   "source": [
    "nota1 = 8\n",
    "nota2 = 10\n",
    "nota3 = 14\n",
    "\n",
    "if nota3 >= 11:\n",
    "    print(\"Aprobado\")\n",
    "else:\n",
    "    print(\"Desaprobado\")"
   ]
  },
  {
   "cell_type": "code",
   "execution_count": 4,
   "metadata": {},
   "outputs": [
    {
     "name": "stdout",
     "output_type": "stream",
     "text": [
      "[8, 10, 14]\n"
     ]
    }
   ],
   "source": [
    "# Lista\n",
    "\n",
    "notas = [8,10,14]\n",
    "print(notas)"
   ]
  },
  {
   "cell_type": "code",
   "execution_count": 6,
   "metadata": {},
   "outputs": [
    {
     "name": "stdout",
     "output_type": "stream",
     "text": [
      "8\n",
      "10\n",
      "14\n"
     ]
    }
   ],
   "source": [
    "notas = [8,10,14]\n",
    "\n",
    "for i in notas:\n",
    "    print(i)"
   ]
  },
  {
   "cell_type": "code",
   "execution_count": 7,
   "metadata": {},
   "outputs": [
    {
     "name": "stdout",
     "output_type": "stream",
     "text": [
      "Nota:  8\n",
      "Nota:  10\n",
      "Nota:  14\n"
     ]
    }
   ],
   "source": [
    "notas = [8,10,14]\n",
    "\n",
    "for i in notas:\n",
    "    print(\"Nota: \", i)"
   ]
  },
  {
   "cell_type": "code",
   "execution_count": 8,
   "metadata": {},
   "outputs": [
    {
     "name": "stdout",
     "output_type": "stream",
     "text": [
      "Desaprobado\n",
      "Desaprobado\n",
      "Aprobado\n"
     ]
    }
   ],
   "source": [
    "notas = [8,10,14]\n",
    "\n",
    "for i in notas:\n",
    "    if i >= 11:\n",
    "        print(\"Aprobado\")\n",
    "    else:\n",
    "        print(\"Desaprobado\")"
   ]
  },
  {
   "cell_type": "code",
   "execution_count": 9,
   "metadata": {},
   "outputs": [
    {
     "name": "stdout",
     "output_type": "stream",
     "text": [
      "Nota:  8  Desaprobado\n",
      "Nota:  10  Desaprobado\n",
      "Nota:  14  Aprobado\n"
     ]
    }
   ],
   "source": [
    "notas = [8,10,14]\n",
    "\n",
    "for i in notas:\n",
    "    if i >= 11:\n",
    "        print(\"Nota: \", i, \" Aprobado\")\n",
    "    else:\n",
    "        print(\"Nota: \", i, \" Desaprobado\")"
   ]
  },
  {
   "cell_type": "code",
   "execution_count": 10,
   "metadata": {},
   "outputs": [
    {
     "name": "stdout",
     "output_type": "stream",
     "text": [
      "Nota:  8  Desaprobado\n",
      "Nota:  10  Desaprobado\n",
      "Nota:  14  Aprobado\n"
     ]
    }
   ],
   "source": [
    "notas = [8,10,14]\n",
    "\n",
    "for i in notas:\n",
    "    if i >= 11:\n",
    "        estado = \" Aprobado\"\n",
    "    else:\n",
    "        estado = \" Desaprobado\"\n",
    "    \n",
    "    print(\"Nota: \", i, estado)"
   ]
  },
  {
   "cell_type": "code",
   "execution_count": 11,
   "metadata": {},
   "outputs": [
    {
     "name": "stdout",
     "output_type": "stream",
     "text": [
      "Nota:  8   Desaprobado\n",
      "Nota:  10   Desaprobado\n",
      "Nota:  14   Aprobado\n"
     ]
    }
   ],
   "source": [
    "notas = [8,10,14]\n",
    "\n",
    "for i in notas:\n",
    "    if i >= 11:\n",
    "        estado = \"Aprobado\"\n",
    "    else:\n",
    "        estado = \"Desaprobado\"\n",
    "    \n",
    "    print(\"Nota: \", i, \" \",estado)"
   ]
  },
  {
   "cell_type": "code",
   "execution_count": 12,
   "metadata": {},
   "outputs": [
    {
     "name": "stdout",
     "output_type": "stream",
     "text": [
      "Nota:  8   Desaprobado\n",
      "Nota:  10   Desaprobado\n",
      "Nota:  14   Aprobado\n"
     ]
    }
   ],
   "source": [
    "notas = [8,10,14]\n",
    "\n",
    "for n in notas:\n",
    "    if n >= 11:\n",
    "        estado = \"Aprobado\"\n",
    "    else:\n",
    "        estado = \"Desaprobado\"\n",
    "    \n",
    "    print(\"Nota: \", n, \" \",estado)"
   ]
  },
  {
   "cell_type": "code",
   "execution_count": 16,
   "metadata": {},
   "outputs": [
    {
     "name": "stdout",
     "output_type": "stream",
     "text": [
      "0\n",
      "1\n",
      "2\n",
      "3\n"
     ]
    }
   ],
   "source": [
    "cantidadElementos = 4\n",
    "for i in range(cantidadElementos):\n",
    "    print(i)"
   ]
  },
  {
   "cell_type": "code",
   "execution_count": 17,
   "metadata": {},
   "outputs": [
    {
     "name": "stdout",
     "output_type": "stream",
     "text": [
      "[8.5, 10.0, 10.5, 15.0]\n"
     ]
    }
   ],
   "source": [
    "notas1 = [5,8,10,14]\n",
    "notas2 = [12,12,11,16]\n",
    "\n",
    "cantidadElementos = len(notas1)\n",
    "\n",
    "notas = []\n",
    "# Calculando Promedio Simple\n",
    "for i in range(cantidadElementos):\n",
    "    promedio = (notas1[i] + notas2[i])/2 \n",
    "    notas.append(promedio)\n",
    "    \n",
    "print(notas)"
   ]
  },
  {
   "cell_type": "code",
   "execution_count": 18,
   "metadata": {},
   "outputs": [
    {
     "name": "stdout",
     "output_type": "stream",
     "text": [
      "Nota:  8.5   Desaprobado\n",
      "Nota:  10.0   Desaprobado\n",
      "Nota:  10.5   Desaprobado\n",
      "Nota:  15.0   Aprobado\n"
     ]
    }
   ],
   "source": [
    "notas1 = [5,8,10,14]\n",
    "notas2 = [12,12,11,16]\n",
    "\n",
    "cantidadElementos = len(notas1)\n",
    "\n",
    "notas = []\n",
    "# Calculando Promedio Simple\n",
    "for i in range(cantidadElementos):\n",
    "    promedio = (notas1[i] + notas2[i])/2 \n",
    "    notas.append(promedio)\n",
    "    \n",
    "for n in notas:\n",
    "    if n >= 11:\n",
    "        estado = \"Aprobado\"\n",
    "    else:\n",
    "        estado = \"Desaprobado\"\n",
    "    \n",
    "    print(\"Nota: \", n, \" \",estado)    "
   ]
  },
  {
   "cell_type": "code",
   "execution_count": 19,
   "metadata": {},
   "outputs": [
    {
     "name": "stdout",
     "output_type": "stream",
     "text": [
      "Nota:  8.5   Desaprobado\n",
      "Nota:  10.0   Desaprobado\n",
      "Nota:  10.5   Aprobado\n",
      "Nota:  15.0   Aprobado\n"
     ]
    }
   ],
   "source": [
    "notas1 = [5,8,10,14]\n",
    "notas2 = [12,12,11,16]\n",
    "\n",
    "cantidadElementos = len(notas1)\n",
    "\n",
    "notas = []\n",
    "# Calculando Promedio Simple\n",
    "for i in range(cantidadElementos):\n",
    "    promedio = (notas1[i] + notas2[i])/2 \n",
    "    notas.append(promedio)\n",
    "    \n",
    "for n in notas:\n",
    "    if n >= 10.5:\n",
    "        estado = \"Aprobado\"\n",
    "    else:\n",
    "        estado = \"Desaprobado\"\n",
    "    \n",
    "    print(\"Nota: \", n, \" \",estado)  "
   ]
  },
  {
   "cell_type": "code",
   "execution_count": 20,
   "metadata": {},
   "outputs": [
    {
     "data": {
      "text/plain": [
       "1.54"
      ]
     },
     "execution_count": 20,
     "metadata": {},
     "output_type": "execute_result"
    }
   ],
   "source": [
    "# redondear\n",
    "round(1.539, 2)"
   ]
  },
  {
   "cell_type": "code",
   "execution_count": 21,
   "metadata": {},
   "outputs": [
    {
     "data": {
      "text/plain": [
       "1.5"
      ]
     },
     "execution_count": 21,
     "metadata": {},
     "output_type": "execute_result"
    }
   ],
   "source": [
    "# redondear\n",
    "round(1.539, 1)"
   ]
  },
  {
   "cell_type": "code",
   "execution_count": 22,
   "metadata": {},
   "outputs": [
    {
     "data": {
      "text/plain": [
       "2.0"
      ]
     },
     "execution_count": 22,
     "metadata": {},
     "output_type": "execute_result"
    }
   ],
   "source": [
    "# redondear\n",
    "round(1.539, 0)"
   ]
  },
  {
   "cell_type": "code",
   "execution_count": 23,
   "metadata": {},
   "outputs": [
    {
     "data": {
      "text/plain": [
       "2.0"
      ]
     },
     "execution_count": 23,
     "metadata": {},
     "output_type": "execute_result"
    }
   ],
   "source": [
    "# redondear\n",
    "round(1.5, 0)"
   ]
  },
  {
   "cell_type": "code",
   "execution_count": 24,
   "metadata": {},
   "outputs": [
    {
     "data": {
      "text/plain": [
       "1.0"
      ]
     },
     "execution_count": 24,
     "metadata": {},
     "output_type": "execute_result"
    }
   ],
   "source": [
    "# redondear\n",
    "round(1.49, 0)"
   ]
  },
  {
   "cell_type": "code",
   "execution_count": 26,
   "metadata": {},
   "outputs": [
    {
     "name": "stdout",
     "output_type": "stream",
     "text": [
      "[8.5, 10.0, 10.5, 15.0]\n"
     ]
    }
   ],
   "source": [
    "notas1 = [5,8,10,14]\n",
    "notas2 = [12,12,11,16]\n",
    "\n",
    "cantidadElementos = len(notas1)\n",
    "\n",
    "notas = []\n",
    "# Calculando Promedio Simple\n",
    "for i in range(cantidadElementos):\n",
    "    promedio = (notas1[i] + notas2[i])/2 \n",
    "    notas.append(promedio)\n",
    "    \n",
    "print(notas)    "
   ]
  },
  {
   "cell_type": "code",
   "execution_count": 29,
   "metadata": {},
   "outputs": [
    {
     "name": "stdout",
     "output_type": "stream",
     "text": [
      "[8.0, 10.0, 10.0, 15.0]\n"
     ]
    }
   ],
   "source": [
    "notas1 = [5,8,10,14]\n",
    "notas2 = [12,12,11,16]\n",
    "\n",
    "cantidadElementos = len(notas1)\n",
    "\n",
    "notas = []\n",
    "# Calculando Promedio Simple\n",
    "for i in range(cantidadElementos):\n",
    "    promedio = round((notas1[i] + notas2[i])/2 , 0)\n",
    "    notas.append(promedio)\n",
    "    \n",
    "print(notas)  "
   ]
  },
  {
   "cell_type": "code",
   "execution_count": 30,
   "metadata": {},
   "outputs": [
    {
     "name": "stdout",
     "output_type": "stream",
     "text": [
      "10\n"
     ]
    }
   ],
   "source": [
    "# floor\n",
    "# piso\n",
    "import math\n",
    "n = 10.5\n",
    "y = math.floor(n)\n",
    "print(y)"
   ]
  },
  {
   "cell_type": "code",
   "execution_count": 32,
   "metadata": {},
   "outputs": [
    {
     "name": "stdout",
     "output_type": "stream",
     "text": [
      "11\n"
     ]
    }
   ],
   "source": [
    "# ceil\n",
    "# techo\n",
    "import math\n",
    "n = 10.5\n",
    "y = math.ceil(n)\n",
    "print(y)"
   ]
  },
  {
   "cell_type": "code",
   "execution_count": 33,
   "metadata": {},
   "outputs": [
    {
     "name": "stdout",
     "output_type": "stream",
     "text": [
      "11\n"
     ]
    }
   ],
   "source": [
    "# ceil\n",
    "# techo\n",
    "import math\n",
    "n = 10.4\n",
    "y = math.ceil(n)\n",
    "print(y)"
   ]
  },
  {
   "cell_type": "code",
   "execution_count": 35,
   "metadata": {},
   "outputs": [
    {
     "name": "stdout",
     "output_type": "stream",
     "text": [
      "11\n",
      "10\n",
      "11\n"
     ]
    }
   ],
   "source": [
    "import math\n",
    "def redondear(n):\n",
    "    if n - math.floor(n) < 0.5:\n",
    "        return math.floor(n)\n",
    "    return math.ceil(n)\n",
    "\n",
    "print( redondear(10.5) )\n",
    "print( redondear(10.49) )\n",
    "print( redondear(10.51) )\n"
   ]
  },
  {
   "cell_type": "code",
   "execution_count": 37,
   "metadata": {},
   "outputs": [
    {
     "name": "stdout",
     "output_type": "stream",
     "text": [
      "[9, 10, 11, 15]\n"
     ]
    }
   ],
   "source": [
    "# LibrerIa\n",
    "import math\n",
    "\n",
    "# FunciOn\n",
    "def redondear(n):\n",
    "    if n - math.floor(n) < 0.5:\n",
    "        return math.floor(n)\n",
    "    return math.ceil(n)\n",
    "\n",
    "# Lista(s)\n",
    "notas1 = [5,8,10,14]\n",
    "notas2 = [12,12,11,16]\n",
    "\n",
    "# cantidadElementos de la Lista\n",
    "cantidadElementos = len(notas1)\n",
    "\n",
    "# Lista VacIa, 3ra Lista\n",
    "notas = []\n",
    "\n",
    "for i in range(cantidadElementos):\n",
    "    # Calculando Promedio Simple y redondeando\n",
    "    promedio = redondear((notas1[i] + notas2[i])/2)\n",
    "    # agregar resultado a la 3ra Lista\n",
    "    notas.append(promedio)\n",
    "    \n",
    "print(notas) \n"
   ]
  },
  {
   "cell_type": "code",
   "execution_count": 40,
   "metadata": {
    "scrolled": true
   },
   "outputs": [
    {
     "name": "stdout",
     "output_type": "stream",
     "text": [
      "[5, 8, 10, 14]\n",
      "[12, 12, 11, 16]\n",
      "Nota:  9   Desaprobado\n",
      "Nota:  10   Desaprobado\n",
      "Nota:  11   Aprobado\n",
      "Nota:  15   Aprobado\n"
     ]
    }
   ],
   "source": [
    "# LibrerIa\n",
    "import math\n",
    "\n",
    "# FunciOn\n",
    "def redondear(n):\n",
    "    if n - math.floor(n) < 0.5:\n",
    "        return math.floor(n)\n",
    "    return math.ceil(n)\n",
    "\n",
    "# Lista(s)\n",
    "notas1 = [5,8,10,14]\n",
    "notas2 = [12,12,11,16]\n",
    "\n",
    "# cantidadElementos de la Lista\n",
    "cantidadElementos = len(notas1)\n",
    "\n",
    "# Lista VacIa, 3ra Lista\n",
    "notas = []\n",
    "\n",
    "for i in range(cantidadElementos):\n",
    "    # Calculando Promedio Simple y redondeando\n",
    "    promedio = redondear((notas1[i] + notas2[i])/2)\n",
    "    # agregar resultado a la 3ra Lista\n",
    "    notas.append(promedio)\n",
    "    \n",
    "print(notas1)\n",
    "print(notas2)\n",
    "# print(notas) \n",
    "   \n",
    "for n in notas:\n",
    "    if n >= 10.5:\n",
    "        estado = \"Aprobado\"\n",
    "    else:\n",
    "        estado = \"Desaprobado\"\n",
    "    \n",
    "    print(\"Nota: \", n, \" \",estado)  "
   ]
  },
  {
   "cell_type": "code",
   "execution_count": 41,
   "metadata": {},
   "outputs": [
    {
     "name": "stdout",
     "output_type": "stream",
     "text": [
      "[5, 8, 10, 14, 16, 20, 7]\n",
      "[12, 12, 11, 16, 11, 6, 15]\n",
      "Nota:  9   Desaprobado\n",
      "Nota:  10   Desaprobado\n",
      "Nota:  11   Aprobado\n",
      "Nota:  15   Aprobado\n",
      "Nota:  14   Aprobado\n",
      "Nota:  13   Aprobado\n",
      "Nota:  11   Aprobado\n"
     ]
    }
   ],
   "source": [
    "# LibrerIa\n",
    "import math\n",
    "\n",
    "# FunciOn\n",
    "def redondear(n):\n",
    "    if n - math.floor(n) < 0.5:\n",
    "        return math.floor(n)\n",
    "    return math.ceil(n)\n",
    "\n",
    "# Lista(s)\n",
    "notas1 = [ 5, 8,10,14,16,20, 7]\n",
    "notas2 = [12,12,11,16,11, 6,15]\n",
    "\n",
    "# cantidadElementos de la Lista\n",
    "cantidadElementos = len(notas1)\n",
    "\n",
    "# Lista VacIa, 3ra Lista\n",
    "notas = []\n",
    "\n",
    "for i in range(cantidadElementos):\n",
    "    # Calculando Promedio Simple y redondeando\n",
    "    promedio = redondear((notas1[i] + notas2[i])/2)\n",
    "    # agregar resultado a la 3ra Lista\n",
    "    notas.append(promedio)\n",
    "    \n",
    "print(notas1)\n",
    "print(notas2)\n",
    "# print(notas) \n",
    "   \n",
    "for n in notas:\n",
    "    if n >= 10.5:\n",
    "        estado = \"Aprobado\"\n",
    "    else:\n",
    "        estado = \"Desaprobado\"\n",
    "    \n",
    "    print(\"Nota: \", n, \" \",estado)  "
   ]
  },
  {
   "cell_type": "code",
   "execution_count": null,
   "metadata": {},
   "outputs": [],
   "source": []
  }
 ],
 "metadata": {
  "kernelspec": {
   "display_name": "Python 3",
   "language": "python",
   "name": "python3"
  },
  "language_info": {
   "codemirror_mode": {
    "name": "ipython",
    "version": 3
   },
   "file_extension": ".py",
   "mimetype": "text/x-python",
   "name": "python",
   "nbconvert_exporter": "python",
   "pygments_lexer": "ipython3",
   "version": "3.7.1"
  }
 },
 "nbformat": 4,
 "nbformat_minor": 4
}
