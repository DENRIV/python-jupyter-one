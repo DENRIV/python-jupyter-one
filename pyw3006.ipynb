{
 "cells": [
  {
   "cell_type": "code",
   "execution_count": 3,
   "metadata": {},
   "outputs": [
    {
     "name": "stdout",
     "output_type": "stream",
     "text": [
      "   id                    auto  ratio  tipooctanaje  kilometraje\n",
      "0   1        CAMIONETA NISSAN    5.0            90          100\n",
      "1   2     AUTO TOYOTA COROLLA    3.5            90          100\n",
      "2   3  CAMIONETA HYLUX TOYOTA    9.5            98          100\n",
      "3   4   PICK UP NISSAN NAVARA    8.0            98          100\n"
     ]
    }
   ],
   "source": [
    "# df dataframe\n",
    "\n",
    "import pandas as pd\n",
    "df1 = pd.read_excel (r'autos.xlsx', sheet_name='Hoja1')\n",
    "print (df1)"
   ]
  },
  {
   "cell_type": "code",
   "execution_count": 2,
   "metadata": {},
   "outputs": [
    {
     "name": "stdout",
     "output_type": "stream",
     "text": [
      "   id  octanaje  precio_octanaje\n",
      "0   1        90             13.3\n",
      "1   2        98             16.6\n"
     ]
    }
   ],
   "source": [
    "import pandas as pd\n",
    "df2 = pd.read_excel (r'autos.xlsx', sheet_name='Hoja2')\n",
    "print (df2)"
   ]
  },
  {
   "cell_type": "code",
   "execution_count": 4,
   "metadata": {
    "scrolled": true
   },
   "outputs": [
    {
     "name": "stdout",
     "output_type": "stream",
     "text": [
      "   id                    auto  ratio  tipooctanaje  kilometraje\n",
      "0   1        CAMIONETA NISSAN    5.0            90          100\n",
      "1   2     AUTO TOYOTA COROLLA    3.5            90          100\n",
      "2   3  CAMIONETA HYLUX TOYOTA    9.5            98          100\n",
      "3   4   PICK UP NISSAN NAVARA    8.0            98          100\n",
      "   id  octanaje  precio_octanaje\n",
      "0   1        90             13.3\n",
      "1   2        98             16.6\n"
     ]
    }
   ],
   "source": [
    "import pandas as pd\n",
    "df1 = pd.read_excel (r'autos.xlsx', sheet_name='Hoja1')\n",
    "df2 = pd.read_excel (r'autos.xlsx', sheet_name='Hoja2')\n",
    "print (df1)\n",
    "print (df2)"
   ]
  },
  {
   "cell_type": "code",
   "execution_count": 5,
   "metadata": {},
   "outputs": [
    {
     "name": "stdout",
     "output_type": "stream",
     "text": [
      "id                             1\n",
      "auto            CAMIONETA NISSAN\n",
      "ratio                          5\n",
      "tipooctanaje                  90\n",
      "kilometraje                  100\n",
      "Name: 0, dtype: object\n",
      "id                                2\n",
      "auto            AUTO TOYOTA COROLLA\n",
      "ratio                           3.5\n",
      "tipooctanaje                     90\n",
      "kilometraje                     100\n",
      "Name: 1, dtype: object\n",
      "id                                   3\n",
      "auto            CAMIONETA HYLUX TOYOTA\n",
      "ratio                              9.5\n",
      "tipooctanaje                        98\n",
      "kilometraje                        100\n",
      "Name: 2, dtype: object\n",
      "id                                  4\n",
      "auto            PICK UP NISSAN NAVARA\n",
      "ratio                               8\n",
      "tipooctanaje                       98\n",
      "kilometraje                       100\n",
      "Name: 3, dtype: object\n"
     ]
    }
   ],
   "source": [
    "import pandas as pd\n",
    "df1 = pd.read_excel (r'autos.xlsx', sheet_name='Hoja1')\n",
    "df2 = pd.read_excel (r'autos.xlsx', sheet_name='Hoja2')\n",
    "\n",
    "for i, row in df1.iterrows():\n",
    "    print(row)"
   ]
  },
  {
   "cell_type": "code",
   "execution_count": 7,
   "metadata": {},
   "outputs": [
    {
     "name": "stdout",
     "output_type": "stream",
     "text": [
      "1\n",
      "CAMIONETA NISSAN\n",
      "2\n",
      "AUTO TOYOTA COROLLA\n",
      "3\n",
      "CAMIONETA HYLUX TOYOTA\n",
      "4\n",
      "PICK UP NISSAN NAVARA\n"
     ]
    }
   ],
   "source": [
    "import pandas as pd\n",
    "df1 = pd.read_excel (r'autos.xlsx', sheet_name='Hoja1')\n",
    "df2 = pd.read_excel (r'autos.xlsx', sheet_name='Hoja2')\n",
    "\n",
    "for i, row in df1.iterrows():\n",
    "    print(row[0])\n",
    "    print(row[1])\n",
    "    "
   ]
  },
  {
   "cell_type": "code",
   "execution_count": 8,
   "metadata": {},
   "outputs": [
    {
     "name": "stdout",
     "output_type": "stream",
     "text": [
      "5.0\n",
      "100\n",
      "3.5\n",
      "100\n",
      "9.5\n",
      "100\n",
      "8.0\n",
      "100\n"
     ]
    }
   ],
   "source": [
    "import pandas as pd\n",
    "df1 = pd.read_excel (r'autos.xlsx', sheet_name='Hoja1')\n",
    "df2 = pd.read_excel (r'autos.xlsx', sheet_name='Hoja2')\n",
    "\n",
    "for i, row in df1.iterrows():\n",
    "    print(row[2])\n",
    "    print(row[4])"
   ]
  },
  {
   "cell_type": "code",
   "execution_count": 9,
   "metadata": {},
   "outputs": [
    {
     "name": "stdout",
     "output_type": "stream",
     "text": [
      "consumo_de_combustible  gl. : 5.0\n",
      "consumo_de_combustible  gl. : 3.5\n",
      "consumo_de_combustible  gl. : 9.5\n",
      "consumo_de_combustible  gl. : 8.0\n"
     ]
    }
   ],
   "source": [
    "import pandas as pd\n",
    "df1 = pd.read_excel (r'autos.xlsx', sheet_name='Hoja1')\n",
    "df2 = pd.read_excel (r'autos.xlsx', sheet_name='Hoja2')\n",
    "\n",
    "for i, row in df1.iterrows():\n",
    "    #  consumo_de_combustible = kilometraje[i] * ratio[i]/100\n",
    "    consumo_de_combustible = row[2] * row[4]/100\n",
    "    print(\"consumo_de_combustible  gl. :\", consumo_de_combustible)"
   ]
  },
  {
   "cell_type": "code",
   "execution_count": 11,
   "metadata": {},
   "outputs": [
    {
     "name": "stdout",
     "output_type": "stream",
     "text": [
      "CAMIONETA NISSAN\n",
      "consumo_de_combustible  gl. : 5.0\n",
      "AUTO TOYOTA COROLLA\n",
      "consumo_de_combustible  gl. : 3.5\n",
      "CAMIONETA HYLUX TOYOTA\n",
      "consumo_de_combustible  gl. : 9.5\n",
      "PICK UP NISSAN NAVARA\n",
      "consumo_de_combustible  gl. : 8.0\n"
     ]
    }
   ],
   "source": [
    "import pandas as pd\n",
    "df1 = pd.read_excel (r'autos.xlsx', sheet_name='Hoja1')\n",
    "df2 = pd.read_excel (r'autos.xlsx', sheet_name='Hoja2')\n",
    "\n",
    "for i, row in df1.iterrows():\n",
    "    print(row[1])\n",
    "    #  consumo_de_combustible = kilometraje[i] * ratio[i]/100\n",
    "    consumo_de_combustible = row[2] * row[4]/100\n",
    "    print(\"consumo_de_combustible  gl. :\", consumo_de_combustible)"
   ]
  },
  {
   "cell_type": "code",
   "execution_count": 13,
   "metadata": {},
   "outputs": [
    {
     "name": "stdout",
     "output_type": "stream",
     "text": [
      "xprecio_octanaje:  13.3\n"
     ]
    }
   ],
   "source": [
    "import pandas as pd\n",
    "df1 = pd.read_excel (r'autos.xlsx', sheet_name='Hoja1')\n",
    "df2 = pd.read_excel (r'autos.xlsx', sheet_name='Hoja2')\n",
    "\n",
    "xoctanaje = 90\n",
    "xprecio_octanaje = 0\n",
    "for j, row2 in df2.iterrows():    \n",
    "    if xoctanaje == row2[1]:\n",
    "        xprecio_octanaje = row2[2]\n",
    "print(\"xprecio_octanaje: \",xprecio_octanaje)"
   ]
  },
  {
   "cell_type": "code",
   "execution_count": 14,
   "metadata": {},
   "outputs": [
    {
     "name": "stdout",
     "output_type": "stream",
     "text": [
      "xprecio_octanaje:  16.6\n"
     ]
    }
   ],
   "source": [
    "import pandas as pd\n",
    "df1 = pd.read_excel (r'autos.xlsx', sheet_name='Hoja1')\n",
    "df2 = pd.read_excel (r'autos.xlsx', sheet_name='Hoja2')\n",
    "\n",
    "xoctanaje = 98\n",
    "xprecio_octanaje = 0\n",
    "for j, row2 in df2.iterrows():    \n",
    "    if xoctanaje == row2[1]:\n",
    "        xprecio_octanaje = row2[2]\n",
    "print(\"xprecio_octanaje: \",xprecio_octanaje)"
   ]
  },
  {
   "cell_type": "code",
   "execution_count": 15,
   "metadata": {},
   "outputs": [
    {
     "name": "stdout",
     "output_type": "stream",
     "text": [
      "xprecio_octanaje:  0\n"
     ]
    }
   ],
   "source": [
    "import pandas as pd\n",
    "df1 = pd.read_excel (r'autos.xlsx', sheet_name='Hoja1')\n",
    "df2 = pd.read_excel (r'autos.xlsx', sheet_name='Hoja2')\n",
    "\n",
    "xoctanaje = 85\n",
    "xprecio_octanaje = 0\n",
    "for j, row2 in df2.iterrows():    \n",
    "    if xoctanaje == row2[1]:\n",
    "        xprecio_octanaje = row2[2]\n",
    "print(\"xprecio_octanaje: \",xprecio_octanaje)"
   ]
  },
  {
   "cell_type": "code",
   "execution_count": 17,
   "metadata": {},
   "outputs": [
    {
     "name": "stdout",
     "output_type": "stream",
     "text": [
      "CAMIONETA NISSAN\n",
      "consumo_de_combustible  gl. : 5.0\n",
      "xprecio_octanaje:  13.3\n",
      "AUTO TOYOTA COROLLA\n",
      "consumo_de_combustible  gl. : 3.5\n",
      "xprecio_octanaje:  13.3\n",
      "CAMIONETA HYLUX TOYOTA\n",
      "consumo_de_combustible  gl. : 9.5\n",
      "xprecio_octanaje:  16.6\n",
      "PICK UP NISSAN NAVARA\n",
      "consumo_de_combustible  gl. : 8.0\n",
      "xprecio_octanaje:  16.6\n"
     ]
    }
   ],
   "source": [
    "\n",
    "import pandas as pd\n",
    "df1 = pd.read_excel (r'autos.xlsx', sheet_name='Hoja1')\n",
    "df2 = pd.read_excel (r'autos.xlsx', sheet_name='Hoja2')\n",
    "\n",
    "for i, row in df1.iterrows():\n",
    "    print(row[1])\n",
    "    #  consumo_de_combustible = kilometraje[i] * ratio[i]/100\n",
    "    consumo_de_combustible = row[2] * row[4]/100\n",
    "    print(\"consumo_de_combustible  gl. :\", consumo_de_combustible)\n",
    "    \n",
    "    xoctanaje = row[3]\n",
    "    xprecio_octanaje = 0\n",
    "    for j, row2 in df2.iterrows():    \n",
    "        if xoctanaje == row2[1]:\n",
    "            xprecio_octanaje = row2[2]\n",
    "    print(\"xprecio_octanaje: \",xprecio_octanaje)\n",
    "    "
   ]
  },
  {
   "cell_type": "code",
   "execution_count": 18,
   "metadata": {},
   "outputs": [
    {
     "name": "stdout",
     "output_type": "stream",
     "text": [
      "CAMIONETA NISSAN\n",
      "consumo_de_combustible  gl. : 5.0\n",
      "xprecio_octanaje:  13.3\n",
      "precio_de_combustible  PEN/SOL : 66.5\n",
      "AUTO TOYOTA COROLLA\n",
      "consumo_de_combustible  gl. : 3.5\n",
      "xprecio_octanaje:  13.3\n",
      "precio_de_combustible  PEN/SOL : 46.550000000000004\n",
      "CAMIONETA HYLUX TOYOTA\n",
      "consumo_de_combustible  gl. : 9.5\n",
      "xprecio_octanaje:  16.6\n",
      "precio_de_combustible  PEN/SOL : 157.70000000000002\n",
      "PICK UP NISSAN NAVARA\n",
      "consumo_de_combustible  gl. : 8.0\n",
      "xprecio_octanaje:  16.6\n",
      "precio_de_combustible  PEN/SOL : 132.8\n"
     ]
    }
   ],
   "source": [
    "import pandas as pd\n",
    "df1 = pd.read_excel (r'autos.xlsx', sheet_name='Hoja1')\n",
    "df2 = pd.read_excel (r'autos.xlsx', sheet_name='Hoja2')\n",
    "\n",
    "for i, row in df1.iterrows():\n",
    "    print(row[1])\n",
    "    #  consumo_de_combustible = kilometraje[i] * ratio[i]/100\n",
    "    consumo_de_combustible = row[2] * row[4]/100\n",
    "    print(\"consumo_de_combustible  gl. :\", consumo_de_combustible)\n",
    "    \n",
    "    xoctanaje = row[3]\n",
    "    xprecio_octanaje = 0\n",
    "    for j, row2 in df2.iterrows():    \n",
    "        if xoctanaje == row2[1]:\n",
    "            xprecio_octanaje = row2[2]\n",
    "    print(\"xprecio_octanaje: \",xprecio_octanaje)\n",
    "    \n",
    "    precio_octanaje_vehiculo = xprecio_octanaje\n",
    "    precio_de_combustible = consumo_de_combustible * precio_octanaje_vehiculo\n",
    "    print(\"precio_de_combustible  PEN/SOL :\", precio_de_combustible)"
   ]
  },
  {
   "cell_type": "code",
   "execution_count": 20,
   "metadata": {},
   "outputs": [
    {
     "name": "stdout",
     "output_type": "stream",
     "text": [
      "CAMIONETA NISSAN\n",
      "consumo_de_combustible  gl. : 25.0\n",
      "xprecio_octanaje:  13.3\n",
      "precio_de_combustible  PEN/SOL : 332.5\n",
      "AUTO TOYOTA COROLLA\n",
      "consumo_de_combustible  gl. : 1.75\n",
      "xprecio_octanaje:  13.3\n",
      "precio_de_combustible  PEN/SOL : 23.275000000000002\n",
      "CAMIONETA HYLUX TOYOTA\n",
      "consumo_de_combustible  gl. : 9.5\n",
      "xprecio_octanaje:  16.6\n",
      "precio_de_combustible  PEN/SOL : 157.70000000000002\n",
      "PICK UP NISSAN NAVARA\n",
      "consumo_de_combustible  gl. : 80.0\n",
      "xprecio_octanaje:  16.6\n",
      "precio_de_combustible  PEN/SOL : 1328.0\n",
      "\n",
      "sumatoria PEN/SOL: 1841.475\n"
     ]
    }
   ],
   "source": [
    "import pandas as pd\n",
    "df1 = pd.read_excel (r'autos.xlsx', sheet_name='Hoja1')\n",
    "df2 = pd.read_excel (r'autos.xlsx', sheet_name='Hoja2')\n",
    "sumatoria = 0\n",
    "for i, row in df1.iterrows():\n",
    "    print(row[1])\n",
    "    #  consumo_de_combustible = kilometraje[i] * ratio[i]/100\n",
    "    consumo_de_combustible = row[2] * row[4]/100\n",
    "    print(\"consumo_de_combustible  gl. :\", consumo_de_combustible)\n",
    "    \n",
    "    xoctanaje = row[3]\n",
    "    xprecio_octanaje = 0\n",
    "    for j, row2 in df2.iterrows():    \n",
    "        if xoctanaje == row2[1]:\n",
    "            xprecio_octanaje = row2[2]\n",
    "    print(\"xprecio_octanaje: \",xprecio_octanaje)\n",
    "    \n",
    "    precio_octanaje_vehiculo = xprecio_octanaje\n",
    "    precio_de_combustible = consumo_de_combustible * precio_octanaje_vehiculo\n",
    "    print(\"precio_de_combustible  PEN/SOL :\", precio_de_combustible)\n",
    "    \n",
    "    sumatoria = sumatoria + precio_de_combustible\n",
    "    \n",
    "    \n",
    "print(\"\")    \n",
    "print(\"sumatoria PEN/SOL:\",sumatoria)     "
   ]
  },
  {
   "cell_type": "code",
   "execution_count": 25,
   "metadata": {},
   "outputs": [
    {
     "name": "stdout",
     "output_type": "stream",
     "text": [
      "CAMIONETA NISSAN\n",
      "consumo_de_combustible  gl. : 25.0\n",
      "precio_de_combustible  PEN/SOL : 332.5\n",
      "AUTO TOYOTA COROLLA\n",
      "consumo_de_combustible  gl. : 1.75\n",
      "precio_de_combustible  PEN/SOL : 23.275000000000002\n",
      "CAMIONETA HYLUX TOYOTA\n",
      "consumo_de_combustible  gl. : 9.5\n",
      "precio_de_combustible  PEN/SOL : 157.70000000000002\n",
      "PICK UP NISSAN NAVARA\n",
      "consumo_de_combustible  gl. : 80.0\n",
      "precio_de_combustible  PEN/SOL : 1328.0\n",
      "X\n",
      "consumo_de_combustible  gl. : 7.0\n",
      "precio_de_combustible  PEN/SOL : 93.10000000000001\n",
      "Y\n",
      "consumo_de_combustible  gl. : 4.5\n",
      "precio_de_combustible  PEN/SOL : 45.0\n",
      "\n",
      "sumatoria PEN/SOL: 1979.5749999999998\n"
     ]
    }
   ],
   "source": [
    "import pandas as pd\n",
    "df1 = pd.read_excel (r'autos.xlsx', sheet_name='Hoja1')\n",
    "df2 = pd.read_excel (r'autos.xlsx', sheet_name='Hoja2')\n",
    "sumatoria = 0\n",
    "for i, row in df1.iterrows():\n",
    "    print(row[1])\n",
    "    consumo_de_combustible = row[2] * row[4]/100\n",
    "    print(\"consumo_de_combustible  gl. :\", consumo_de_combustible)\n",
    "    \n",
    "    xoctanaje = row[3]\n",
    "    precio_octanaje_vehiculo = 0\n",
    "    for j, row2 in df2.iterrows():    \n",
    "        if xoctanaje == row2[1]:\n",
    "            precio_octanaje_vehiculo = row2[2]\n",
    "\n",
    "    precio_de_combustible = consumo_de_combustible * precio_octanaje_vehiculo\n",
    "    print(\"precio_de_combustible  PEN/SOL :\", precio_de_combustible)\n",
    "    \n",
    "    sumatoria = sumatoria + precio_de_combustible\n",
    "    \n",
    "print(\"\\nsumatoria PEN/SOL:\",sumatoria)  "
   ]
  },
  {
   "cell_type": "code",
   "execution_count": 28,
   "metadata": {},
   "outputs": [
    {
     "name": "stdout",
     "output_type": "stream",
     "text": [
      "   id                    auto  ratio  tipooctanaje  kilometraje\n",
      "0   1        CAMIONETA NISSAN    5.0            90          500\n",
      "1   2     AUTO TOYOTA COROLLA    3.5            90           50\n",
      "2   3  CAMIONETA HYLUX TOYOTA    9.5            98          100\n",
      "3   4   PICK UP NISSAN NAVARA    8.0            98         1000\n",
      "   id  octanaje  precio_octanaje\n",
      "0   1        90             13.3\n",
      "1   2        98             16.6\n",
      "2   3        85             10.0\n",
      "   id  year  month  day  kilometraje\n",
      "0   1  2020      8   14          500\n",
      "1   2  2020      8   14           50\n",
      "2   3  2020      8   14          100\n",
      "3   4  2020      8   14         1000\n",
      "4   1  2020      8   15            0\n",
      "5   2  2020      8   15          500\n",
      "6   3  2020      8   15          150\n",
      "7   4  2020      8   15            0\n",
      "   id  year  month  day  precio_octanaje\n",
      "0   1  2020      8   14             13.3\n",
      "1   2  2020      8   14             16.6\n",
      "2   3  2020      8   14             10.0\n",
      "3   1  2020      8   15             14.0\n",
      "4   2  2020      8   15             16.0\n",
      "5   3  2020      8   15              9.5\n"
     ]
    }
   ],
   "source": [
    "import pandas as pd\n",
    "df1 = pd.read_excel (r'autos.xlsx', sheet_name='Hoja1')\n",
    "df2 = pd.read_excel (r'autos.xlsx', sheet_name='Hoja2')\n",
    "df3 = pd.read_excel (r'autos.xlsx', sheet_name='Hoja3')\n",
    "df4 = pd.read_excel (r'autos.xlsx', sheet_name='Hoja4')\n",
    "\n",
    "print(df1)\n",
    "print(df2)\n",
    "print(df3)\n",
    "print(df4)\n"
   ]
  },
  {
   "cell_type": "code",
   "execution_count": null,
   "metadata": {},
   "outputs": [],
   "source": []
  }
 ],
 "metadata": {
  "kernelspec": {
   "display_name": "Python 3",
   "language": "python",
   "name": "python3"
  },
  "language_info": {
   "codemirror_mode": {
    "name": "ipython",
    "version": 3
   },
   "file_extension": ".py",
   "mimetype": "text/x-python",
   "name": "python",
   "nbconvert_exporter": "python",
   "pygments_lexer": "ipython3",
   "version": "3.7.1"
  }
 },
 "nbformat": 4,
 "nbformat_minor": 4
}
