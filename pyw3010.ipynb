{
 "cells": [
  {
   "cell_type": "code",
   "execution_count": 2,
   "metadata": {},
   "outputs": [
    {
     "name": "stdout",
     "output_type": "stream",
     "text": [
      "5\n"
     ]
    }
   ],
   "source": [
    "# CLASES\n",
    "\n",
    "class MiClase:\n",
    "  x = 5\n",
    "\n",
    "p1 = MiClase()\n",
    "print(p1.x)"
   ]
  },
  {
   "cell_type": "code",
   "execution_count": 3,
   "metadata": {},
   "outputs": [
    {
     "name": "stdout",
     "output_type": "stream",
     "text": [
      "5\n"
     ]
    }
   ],
   "source": [
    "# CLASES\n",
    "\n",
    "# Definir una clase de nombre MiClase\n",
    "class MiClase:\n",
    "  # tiene una variable x igual a 5\n",
    "  # la variable se le denomina ATRIBUTO\n",
    "  x = 5\n",
    "\n",
    "# Se crea un OBJETO de nombre Objeto1 en base a la Clase MiClase\n",
    "Objeto1 = MiClase()\n",
    "\n",
    "# Se imprime el valor de x que pertenece al Objeto Objeto1\n",
    "print(Objeto1.x)\n"
   ]
  },
  {
   "cell_type": "code",
   "execution_count": 4,
   "metadata": {},
   "outputs": [
    {
     "name": "stdout",
     "output_type": "stream",
     "text": [
      "5\n"
     ]
    }
   ],
   "source": [
    "# CLASES\n",
    "\n",
    "# Definir una clase de nombre UnaClase\n",
    "class UnaClase:\n",
    "  # tiene una variable x igual a 5\n",
    "  # la variable se le denomina ATRIBUTO\n",
    "  x = 5\n",
    "\n",
    "# Se crea un OBJETO de nombre p1 en base a la Clase UnaClase\n",
    "p1 = UnaClase()\n",
    "\n",
    "# Se imprime el valor de x que pertenece al Objeto p1\n",
    "print(p1.x)"
   ]
  },
  {
   "cell_type": "code",
   "execution_count": 5,
   "metadata": {},
   "outputs": [
    {
     "name": "stdout",
     "output_type": "stream",
     "text": [
      "1\n",
      "2\n"
     ]
    }
   ],
   "source": [
    "class PuntoXY:\n",
    "  x = 1\n",
    "  y = 2\n",
    "\n",
    "punto = PuntoXY()\n",
    "print(punto.x)\n",
    "print(punto.y)"
   ]
  },
  {
   "cell_type": "code",
   "execution_count": 6,
   "metadata": {},
   "outputs": [
    {
     "name": "stdout",
     "output_type": "stream",
     "text": [
      "1 2\n"
     ]
    }
   ],
   "source": [
    "class PuntoXY:\n",
    "  x = 1\n",
    "  y = 2\n",
    "\n",
    "punto = PuntoXY()\n",
    "print(punto.x, punto.y)"
   ]
  },
  {
   "cell_type": "code",
   "execution_count": 7,
   "metadata": {},
   "outputs": [
    {
     "name": "stdout",
     "output_type": "stream",
     "text": [
      "1 2\n"
     ]
    }
   ],
   "source": [
    "class PuntoXY:\n",
    "  x = 1\n",
    "  y = 2\n",
    "\n",
    "p1 = PuntoXY()\n",
    "print(p1.x, p1.y)"
   ]
  },
  {
   "cell_type": "code",
   "execution_count": 8,
   "metadata": {},
   "outputs": [
    {
     "name": "stdout",
     "output_type": "stream",
     "text": [
      "1 2\n"
     ]
    }
   ],
   "source": [
    "# clase PuntoXY\n",
    "class PuntoXY:\n",
    "  # atributos o variables  x y\n",
    "  x = 1\n",
    "  y = 2\n",
    "\n",
    "# objeto p1\n",
    "p1 = PuntoXY()\n",
    "# imprimir los valores de los atributos del objeto p1\n",
    "print(p1.x, p1.y)"
   ]
  },
  {
   "cell_type": "code",
   "execution_count": 9,
   "metadata": {},
   "outputs": [
    {
     "name": "stdout",
     "output_type": "stream",
     "text": [
      "1 2\n",
      "1 2\n"
     ]
    }
   ],
   "source": [
    "class PuntoXY:\n",
    "  x = 1\n",
    "  y = 2\n",
    "\n",
    "# objetos  p1 p2    \n",
    "p1 = PuntoXY()\n",
    "p2 = PuntoXY()\n",
    "print(p1.x, p1.y)\n",
    "print(p2.x, p2.y)"
   ]
  },
  {
   "cell_type": "code",
   "execution_count": 12,
   "metadata": {},
   "outputs": [
    {
     "name": "stdout",
     "output_type": "stream",
     "text": [
      "Juan\n",
      "36\n"
     ]
    }
   ],
   "source": [
    "class Person:\n",
    "  def __init__(self, name, age):\n",
    "    self.name = name\n",
    "    self.age = age\n",
    "\n",
    "pe1 = Person(\"Juan\", 36)\n",
    "\n",
    "print(pe1.name)\n",
    "print(pe1.age)\n"
   ]
  },
  {
   "cell_type": "code",
   "execution_count": 16,
   "metadata": {},
   "outputs": [
    {
     "name": "stdout",
     "output_type": "stream",
     "text": [
      "Juan\n",
      "36\n"
     ]
    }
   ],
   "source": [
    "class Persona:\n",
    "  def __init__(self, nombre, edad):\n",
    "    self.nombre = nombre\n",
    "    self.edad = edad\n",
    "\n",
    "pe1 = Persona(\"Juan\", 36)\n",
    "\n",
    "print(pe1.nombre)\n",
    "print(pe1.edad)\n"
   ]
  },
  {
   "cell_type": "code",
   "execution_count": 17,
   "metadata": {},
   "outputs": [
    {
     "name": "stdout",
     "output_type": "stream",
     "text": [
      "Juan\n",
      "36\n"
     ]
    }
   ],
   "source": [
    "# clase Persona \n",
    "class Persona:\n",
    "  # funciOn para INICIALIZAR los ATRIBUTOS  \n",
    "  def __init__(self, nombre, edad):\n",
    "    # ATRIBUTO 1 nombre    \n",
    "    self.nombre = nombre\n",
    "    # ATRIBUTO 2 edad\n",
    "    self.edad = edad\n",
    "\n",
    "# Se crea un OBJETO de nombre pe1 en base a la Clase Persona    \n",
    "pe1 = Persona(\"Juan\", 36)\n",
    "\n",
    "# se imprimen los ATRIBUTOS del objeto pe1\n",
    "print(pe1.nombre)\n",
    "print(pe1.edad)\n"
   ]
  },
  {
   "cell_type": "code",
   "execution_count": 22,
   "metadata": {},
   "outputs": [
    {
     "name": "stdout",
     "output_type": "stream",
     "text": [
      "1 2\n"
     ]
    }
   ],
   "source": [
    "class PuntoXY:\n",
    "  x = 1\n",
    "  y = 2\n",
    "\n",
    "p1 = PuntoXY()\n",
    "print(p1.x, p1.y)"
   ]
  },
  {
   "cell_type": "code",
   "execution_count": 23,
   "metadata": {},
   "outputs": [
    {
     "name": "stdout",
     "output_type": "stream",
     "text": [
      "1 2\n"
     ]
    }
   ],
   "source": [
    "class PuntoXY:\n",
    "  def __init__(self, x, y):  \n",
    "    self.x = x\n",
    "    self.y = y\n",
    "\n",
    "p1 = PuntoXY(1,2)\n",
    "print(p1.x, p1.y)"
   ]
  },
  {
   "cell_type": "code",
   "execution_count": 25,
   "metadata": {},
   "outputs": [
    {
     "name": "stdout",
     "output_type": "stream",
     "text": [
      "1 2\n",
      "2 4\n"
     ]
    }
   ],
   "source": [
    "class PuntoXY:\n",
    "  def __init__(self, x, y):  \n",
    "    self.x = x\n",
    "    self.y = y\n",
    "\n",
    "p1 = PuntoXY(1,2)\n",
    "print(p1.x, p1.y)\n",
    "\n",
    "p2 = PuntoXY(2,4)\n",
    "print(p2.x, p2.y)\n"
   ]
  },
  {
   "cell_type": "code",
   "execution_count": 26,
   "metadata": {},
   "outputs": [
    {
     "data": {
      "image/png": "[encoded data removed]",
      "text/plain": [
       "<Figure size 432x288 with 1 Axes>"
      ]
     },
     "metadata": {
      "needs_background": "light"
     },
     "output_type": "display_data"
    }
   ],
   "source": [
    "# PLANO CARTESINO\n",
    "# https://www.geogebra.org/m/Wk7Y7N6V\n",
    "\n",
    "# 4 puntos en el plano (x,y): x=[x1,x2,x3,x4] y y=[y1,y2,y3,y4]\n",
    "x=[-1 , 0.5 ,    1,-0.5]\n",
    "y=[ 0.5,  1 , -0.5, -1 ]\n",
    "\n",
    "import matplotlib.pyplot as plt\n",
    "\n",
    "plt.plot(x,y, 'ro')\n",
    "plt.axis('equal')\n",
    "plt.show()"
   ]
  },
  {
   "cell_type": "code",
   "execution_count": 27,
   "metadata": {},
   "outputs": [
    {
     "data": {
      "image/png": "[encoded data removed]",
      "text/plain": [
       "<Figure size 432x288 with 1 Axes>"
      ]
     },
     "metadata": {
      "needs_background": "light"
     },
     "output_type": "display_data"
    }
   ],
   "source": [
    "x=[-1 , 0.5 ]\n",
    "y=[ 0.5,  1 ]\n",
    "import matplotlib.pyplot as plt\n",
    "plt.plot(x,y, 'ro')\n",
    "plt.axis('equal')\n",
    "plt.show()"
   ]
  },
  {
   "cell_type": "code",
   "execution_count": 30,
   "metadata": {},
   "outputs": [
    {
     "data": {
      "image/png": "[encoded data removed]",
      "text/plain": [
       "<Figure size 432x288 with 1 Axes>"
      ]
     },
     "metadata": {
      "needs_background": "light"
     },
     "output_type": "display_data"
    }
   ],
   "source": [
    "x=[-1 , 0.5 ]\n",
    "y=[ 0.5,  1 ]\n",
    "import matplotlib.pyplot as plt\n",
    "# graficar los puntos\n",
    "plt.plot(x,y, 'ro')\n",
    "plt.axis('equal')\n",
    "\n",
    "# graficar la recta\n",
    "x1, x2 = x[0], x[1]\n",
    "y1, y2 = y[0], y[1]\n",
    "plt.plot([x1,x2],[y1,y2],'k-')\n",
    "\n",
    "# mostar imagen\n",
    "plt.show()\n"
   ]
  },
  {
   "cell_type": "code",
   "execution_count": 32,
   "metadata": {},
   "outputs": [
    {
     "data": {
      "image/png": "[encoded data removed]",
      "text/plain": [
       "<Figure size 432x288 with 1 Axes>"
      ]
     },
     "metadata": {
      "needs_background": "light"
     },
     "output_type": "display_data"
    }
   ],
   "source": [
    "import matplotlib.pyplot as plt\n",
    "\n",
    "plt.plot([1,2],[2,4],'k-')\n",
    "\n",
    "plt.show()"
   ]
  },
  {
   "cell_type": "code",
   "execution_count": 37,
   "metadata": {},
   "outputs": [
    {
     "name": "stdout",
     "output_type": "stream",
     "text": [
      "1 2\n",
      "2 4\n"
     ]
    },
    {
     "data": {
      "image/png": "[encoded data removed]",
      "text/plain": [
       "<Figure size 432x288 with 1 Axes>"
      ]
     },
     "metadata": {
      "needs_background": "light"
     },
     "output_type": "display_data"
    }
   ],
   "source": [
    "class PuntoXY:\n",
    "  def __init__(self, x, y):  \n",
    "    self.x = x\n",
    "    self.y = y\n",
    "\n",
    "p1 = PuntoXY(1,2)\n",
    "print(p1.x, p1.y)\n",
    "\n",
    "p2 = PuntoXY(2,4)\n",
    "print(p2.x, p2.y)\n",
    "\n",
    "import matplotlib.pyplot as plt\n",
    "\n",
    "plt.plot([p1.x, p2.x],[p1.y, p2.y],'k-')\n",
    "\n",
    "plt.show()"
   ]
  },
  {
   "cell_type": "code",
   "execution_count": 39,
   "metadata": {},
   "outputs": [
    {
     "name": "stdout",
     "output_type": "stream",
     "text": [
      "2 2\n",
      "3 4\n"
     ]
    },
    {
     "data": {
      "image/png": "[encoded data removed]",
      "text/plain": [
       "<Figure size 432x288 with 1 Axes>"
      ]
     },
     "metadata": {
      "needs_background": "light"
     },
     "output_type": "display_data"
    }
   ],
   "source": [
    "class PuntoXY:\n",
    "  def __init__(self, x, y):  \n",
    "    self.x = x\n",
    "    self.y = y\n",
    "p1 = PuntoXY(2,2)\n",
    "print(p1.x, p1.y)\n",
    "p2 = PuntoXY(3,4)\n",
    "print(p2.x, p2.y)\n",
    "\n",
    "import matplotlib.pyplot as plt\n",
    "plt.plot([p1.x, p2.x],[p1.y, p2.y],'k-')\n",
    "plt.show()"
   ]
  },
  {
   "cell_type": "code",
   "execution_count": 63,
   "metadata": {},
   "outputs": [
    {
     "name": "stdout",
     "output_type": "stream",
     "text": [
      "2 2\n",
      "-1 5\n"
     ]
    },
    {
     "data": {
      "image/png": "[encoded data removed]",
      "text/plain": [
       "<Figure size 432x288 with 1 Axes>"
      ]
     },
     "metadata": {
      "needs_background": "light"
     },
     "output_type": "display_data"
    }
   ],
   "source": [
    "class PuntoXY:\n",
    "  def __init__(self, x, y):  \n",
    "    self.x = x\n",
    "    self.y = y\n",
    "p1 = PuntoXY(2,2)\n",
    "print(p1.x, p1.y)\n",
    "p2 = PuntoXY(-1,5)\n",
    "print(p2.x, p2.y)\n",
    "\n",
    "import matplotlib.pyplot as plt\n",
    "plt.plot([p1.x, p2.x],[p1.y, p2.y],'k-')\n",
    "plt.show()"
   ]
  },
  {
   "cell_type": "code",
   "execution_count": 41,
   "metadata": {},
   "outputs": [
    {
     "name": "stdout",
     "output_type": "stream",
     "text": [
      "Hello my name is John\n"
     ]
    }
   ],
   "source": [
    "class Person:\n",
    "  def __init__(self, name, age):\n",
    "    self.name = name\n",
    "    self.age = age\n",
    "\n",
    "  def myfunc(self):\n",
    "    print(\"Hello my name is \" + self.name)\n",
    "\n",
    "p1 = Person(\"John\", 36)\n",
    "p1.myfunc()"
   ]
  },
  {
   "cell_type": "code",
   "execution_count": 43,
   "metadata": {},
   "outputs": [
    {
     "name": "stdout",
     "output_type": "stream",
     "text": [
      "Hola mi nombre es Matusalem\n"
     ]
    }
   ],
   "source": [
    "class Persona:\n",
    "  def __init__(self, nombre, edad):\n",
    "    self.nombre = nombre\n",
    "    self.edad = edad\n",
    "\n",
    "  def miFunciOnHola(self):\n",
    "    print(\"Hola mi nombre es \" + self.nombre)\n",
    "\n",
    "pe1 = Persona(\"Matusalem\", 1000)\n",
    "pe1.miFunciOnHola()"
   ]
  },
  {
   "cell_type": "code",
   "execution_count": 44,
   "metadata": {},
   "outputs": [
    {
     "name": "stdout",
     "output_type": "stream",
     "text": [
      "Hola mi nombre es Matusalem\n"
     ]
    }
   ],
   "source": [
    "# clase ersona \n",
    "class Persona:\n",
    "  # FUNCION O METODO DE INICIALIZACION  \n",
    "  def __init__(self, nombre, edad):\n",
    "    # ATRIBUTOS O VARIABLES    \n",
    "    self.nombre = nombre\n",
    "    self.edad = edad\n",
    "\n",
    "  # FUNCION O METODO miFunciOnHola\n",
    "  def miFunciOnHola(self):\n",
    "    print(\"Hola mi nombre es \" + self.nombre)\n",
    "\n",
    "# Crear Objeto pe1 de la clase Persona\n",
    "pe1 = Persona(\"Matusalem\", 1000)\n",
    "\n",
    "# llamar a la FUNCION o METODO miFunciOnHola  del objeto pe1\n",
    "pe1.miFunciOnHola()"
   ]
  },
  {
   "cell_type": "code",
   "execution_count": 48,
   "metadata": {},
   "outputs": [
    {
     "name": "stdout",
     "output_type": "stream",
     "text": [
      "2 2\n",
      "2 3\n"
     ]
    }
   ],
   "source": [
    "class PuntoXY:\n",
    "  def __init__(self, x, y):  \n",
    "    self.x = x\n",
    "    self.y = y\n",
    "  def printPuntoXY():\n",
    "    print(self.x, self.y)\n",
    "p1 = PuntoXY(2,2)\n",
    "print(p1.x, p1.y)\n",
    "p2 = PuntoXY(2,3)\n",
    "print(p2.x, p2.y)"
   ]
  },
  {
   "cell_type": "code",
   "execution_count": 50,
   "metadata": {},
   "outputs": [
    {
     "name": "stdout",
     "output_type": "stream",
     "text": [
      "2 2\n",
      "2 3\n"
     ]
    }
   ],
   "source": [
    "class PuntoXY:\n",
    "  def __init__(self, x, y):  \n",
    "    self.x = x\n",
    "    self.y = y\n",
    "  def printPuntoXY(self):\n",
    "    print(self.x, self.y)\n",
    "p1 = PuntoXY(2,2)\n",
    "p1.printPuntoXY()\n",
    "p2 = PuntoXY(2,3)\n",
    "p2.printPuntoXY()"
   ]
  },
  {
   "cell_type": "code",
   "execution_count": 52,
   "metadata": {},
   "outputs": [
    {
     "name": "stdout",
     "output_type": "stream",
     "text": [
      "2 2\n",
      "2 3\n"
     ]
    }
   ],
   "source": [
    "class PuntoXY:\n",
    "  def __init__(self, x, y):  \n",
    "    self.x = x\n",
    "    self.y = y\n",
    "  def printPuntoXY(self):\n",
    "    print(self.x, self.y)\n",
    "\n",
    "class Recta:\n",
    "  def __init__(self, p1, p2):  \n",
    "    self.p1 = p1\n",
    "    self.p2 = p2    \n",
    "    \n",
    "p1 = PuntoXY(2,2)\n",
    "p1.printPuntoXY()\n",
    "p2 = PuntoXY(2,3)\n",
    "p2.printPuntoXY()    "
   ]
  },
  {
   "cell_type": "code",
   "execution_count": 68,
   "metadata": {},
   "outputs": [
    {
     "name": "stdout",
     "output_type": "stream",
     "text": [
      "2 2\n",
      "3 4\n"
     ]
    }
   ],
   "source": [
    "class PuntoXY:\n",
    "  def __init__(self, x, y):  \n",
    "    self.x = x\n",
    "    self.y = y\n",
    "  def printPuntoXY(self):\n",
    "    print(self.x, self.y)\n",
    "\n",
    "class Recta:\n",
    "  def __init__(self, p1, p2):  \n",
    "    self.p1 = p1\n",
    "    self.p2 = p2    \n",
    "    \n",
    "p1 = PuntoXY(2,2)\n",
    "p1.printPuntoXY()\n",
    "p2 = PuntoXY(3,4)\n",
    "p2.printPuntoXY()  \n",
    "\n",
    "recta1 = Recta(p1, p2)\n"
   ]
  },
  {
   "cell_type": "code",
   "execution_count": 69,
   "metadata": {},
   "outputs": [
    {
     "name": "stdout",
     "output_type": "stream",
     "text": [
      "2 2\n",
      "3 4\n",
      "2 2\n",
      "3 4\n"
     ]
    }
   ],
   "source": [
    "class PuntoXY:\n",
    "  def __init__(self, x, y):  \n",
    "    self.x = x\n",
    "    self.y = y\n",
    "  def printPuntoXY(self):\n",
    "    print(self.x, self.y)\n",
    "\n",
    "class Recta:\n",
    "  def __init__(self, p1, p2):  \n",
    "    self.p1 = p1\n",
    "    self.p2 = p2    \n",
    "    \n",
    "p1 = PuntoXY(2,2)\n",
    "p1.printPuntoXY()\n",
    "p2 = PuntoXY(3,4)\n",
    "p2.printPuntoXY()  \n",
    "\n",
    "recta1 = Recta(p1, p2)\n",
    "recta1.p1.printPuntoXY()\n",
    "recta1.p2.printPuntoXY()"
   ]
  },
  {
   "cell_type": "code",
   "execution_count": 70,
   "metadata": {},
   "outputs": [
    {
     "name": "stdout",
     "output_type": "stream",
     "text": [
      "puntos\n",
      "2 2\n",
      "3 4\n",
      "listas\n",
      "[2, 3]\n",
      "[2, 4]\n"
     ]
    }
   ],
   "source": [
    "class PuntoXY:\n",
    "  def __init__(self, x, y):  \n",
    "    self.x = x\n",
    "    self.y = y\n",
    "  def printPuntoXY(self):\n",
    "    print(self.x, self.y)\n",
    "\n",
    "class Recta:\n",
    "  def __init__(self, p1, p2):  \n",
    "    self.p1 = p1\n",
    "    self.p2 = p2  \n",
    "  def listaX(self):\n",
    "    return [p1.x, p2.x]\n",
    "  def listaY(self):\n",
    "    return [p1.y, p2.y]\n",
    "\n",
    "p1 = PuntoXY(2,2)\n",
    "p2 = PuntoXY(3,4)\n",
    "\n",
    "recta1 = Recta(p1, p2)\n",
    "print(\"puntos\")\n",
    "recta1.p1.printPuntoXY()\n",
    "recta1.p2.printPuntoXY()\n",
    "print(\"listas\")\n",
    "print(recta1.listaX())\n",
    "print(recta1.listaY())"
   ]
  },
  {
   "cell_type": "code",
   "execution_count": 71,
   "metadata": {},
   "outputs": [
    {
     "name": "stdout",
     "output_type": "stream",
     "text": [
      "puntos\n",
      "2 2\n",
      "3 4\n",
      "listas\n",
      "[2, 3]\n",
      "[2, 4]\n"
     ]
    },
    {
     "data": {
      "image/png": "[encoded data removed]",
      "text/plain": [
       "<Figure size 432x288 with 1 Axes>"
      ]
     },
     "metadata": {
      "needs_background": "light"
     },
     "output_type": "display_data"
    }
   ],
   "source": [
    "class PuntoXY:\n",
    "  def __init__(self, x, y):  \n",
    "    self.x = x\n",
    "    self.y = y\n",
    "  def printPuntoXY(self):\n",
    "    print(self.x, self.y)\n",
    "\n",
    "class Recta:\n",
    "  def __init__(self, p1, p2):  \n",
    "    self.p1 = p1\n",
    "    self.p2 = p2  \n",
    "  def listaX(self):\n",
    "    return [p1.x, p2.x]\n",
    "  def listaY(self):\n",
    "    return [p1.y, p2.y]\n",
    "\n",
    "p1 = PuntoXY(2,2)\n",
    "p2 = PuntoXY(3,4)\n",
    "\n",
    "recta1 = Recta(p1, p2)\n",
    "print(\"puntos\")\n",
    "recta1.p1.printPuntoXY()\n",
    "recta1.p2.printPuntoXY()\n",
    "print(\"listas\")\n",
    "print(recta1.listaX())\n",
    "print(recta1.listaY())\n",
    "\n",
    "import matplotlib.pyplot as plt\n",
    "#plt.plot([p1.x, p2.x],[p1.y, p2.y],'k-')\n",
    "plt.plot([2, 3],[2, 4],'k-')\n",
    "plt.show()"
   ]
  },
  {
   "cell_type": "code",
   "execution_count": 72,
   "metadata": {},
   "outputs": [
    {
     "name": "stdout",
     "output_type": "stream",
     "text": [
      "puntos\n",
      "2 2\n",
      "3 4\n",
      "listas\n",
      "[2, 3]\n",
      "[2, 4]\n"
     ]
    },
    {
     "data": {
      "image/png": "[encoded data removed]",
      "text/plain": [
       "<Figure size 432x288 with 1 Axes>"
      ]
     },
     "metadata": {
      "needs_background": "light"
     },
     "output_type": "display_data"
    }
   ],
   "source": [
    "class PuntoXY:\n",
    "  def __init__(self, x, y):  \n",
    "    self.x = x\n",
    "    self.y = y\n",
    "  def printPuntoXY(self):\n",
    "    print(self.x, self.y)\n",
    "\n",
    "class Recta:\n",
    "  def __init__(self, p1, p2):  \n",
    "    self.p1 = p1\n",
    "    self.p2 = p2  \n",
    "  def listaX(self):\n",
    "    return [p1.x, p2.x]\n",
    "  def listaY(self):\n",
    "    return [p1.y, p2.y]\n",
    "\n",
    "p1 = PuntoXY(2,2)\n",
    "p2 = PuntoXY(3,4)\n",
    "\n",
    "recta1 = Recta(p1, p2)\n",
    "print(\"puntos\")\n",
    "recta1.p1.printPuntoXY()\n",
    "recta1.p2.printPuntoXY()\n",
    "print(\"listas\")\n",
    "print(recta1.listaX())\n",
    "print(recta1.listaY())\n",
    "\n",
    "import matplotlib.pyplot as plt\n",
    "#plt.plot([p1.x, p2.x],[p1.y, p2.y],'k-')\n",
    "plt.plot(recta1.listaX(),recta1.listaY(),'k-')\n",
    "plt.show()"
   ]
  },
  {
   "cell_type": "code",
   "execution_count": 73,
   "metadata": {},
   "outputs": [
    {
     "name": "stdout",
     "output_type": "stream",
     "text": [
      "puntos\n",
      "2 2\n",
      "3 4\n",
      "listas\n",
      "[2, 3]\n",
      "[2, 4]\n"
     ]
    },
    {
     "data": {
      "image/png": "[encoded data removed]",
      "text/plain": [
       "<Figure size 432x288 with 1 Axes>"
      ]
     },
     "metadata": {
      "needs_background": "light"
     },
     "output_type": "display_data"
    }
   ],
   "source": [
    "class PuntoXY:\n",
    "  def __init__(self, x, y):  \n",
    "    self.x = x\n",
    "    self.y = y\n",
    "  def printPuntoXY(self):\n",
    "    print(self.x, self.y)\n",
    "\n",
    "class Recta:\n",
    "  def __init__(self, p1, p2):  \n",
    "    self.p1 = p1\n",
    "    self.p2 = p2  \n",
    "  def listaX(self):\n",
    "    return [p1.x, p2.x]\n",
    "  def listaY(self):\n",
    "    return [p1.y, p2.y]\n",
    "\n",
    "p1 = PuntoXY(2,2)\n",
    "p2 = PuntoXY(3,4)\n",
    "\n",
    "recta1 = Recta(p1, p2)\n",
    "print(\"puntos\")\n",
    "recta1.p1.printPuntoXY()\n",
    "recta1.p2.printPuntoXY()\n",
    "print(\"listas\")\n",
    "print(recta1.listaX())\n",
    "print(recta1.listaY())\n",
    "\n",
    "import matplotlib.pyplot as plt\n",
    "plt.plot(recta1.listaX(),recta1.listaY(), 'ro')\n",
    "plt.axis('equal')\n",
    "plt.plot(recta1.listaX(),recta1.listaY(),'k-')\n",
    "plt.show()"
   ]
  },
  {
   "cell_type": "code",
   "execution_count": 74,
   "metadata": {},
   "outputs": [
    {
     "data": {
      "image/png": "[encoded data removed]",
      "text/plain": [
       "<Figure size 432x288 with 1 Axes>"
      ]
     },
     "metadata": {
      "needs_background": "light"
     },
     "output_type": "display_data"
    }
   ],
   "source": [
    "# MOdulos \n",
    "from mpl_toolkits.mplot3d import axes3d\n",
    "import matplotlib.pyplot as plt\n",
    "import numpy as np\n",
    "\n",
    "# Creamos la figura\n",
    "fig = plt.figure()\n",
    "\n",
    "# Agregar un plano 3D\n",
    "ax1 = fig.add_subplot(111,projection='3d')\n",
    "\n",
    "# Datos en array bi-dimensional\n",
    "x = np.array([[1,2,3,4,5,6,7,8,9,10]])\n",
    "y = np.array([[5,6,7,8,2,5,6,3,7,2]])\n",
    "z = np.array([[1,2,6,3,2,7,3,3,7,2]])\n",
    "\n",
    "# plot_wireframe nos permite agregar los datos x, y, z. Por ello es 3D\n",
    "# Es necesario que los datos esten contenidos en un array bi-dimensional\n",
    "ax1.plot_wireframe(x, y, z)\n",
    "\n",
    "# Mostramos el gráfico\n",
    "plt.show()"
   ]
  },
  {
   "cell_type": "code",
   "execution_count": null,
   "metadata": {},
   "outputs": [],
   "source": []
  }
 ],
 "metadata": {
  "kernelspec": {
   "display_name": "Python 3",
   "language": "python",
   "name": "python3"
  },
  "language_info": {
   "codemirror_mode": {
    "name": "ipython",
    "version": 3
   },
   "file_extension": ".py",
   "mimetype": "text/x-python",
   "name": "python",
   "nbconvert_exporter": "python",
   "pygments_lexer": "ipython3",
   "version": "3.7.1"
  }
 },
 "nbformat": 4,
 "nbformat_minor": 4
}
