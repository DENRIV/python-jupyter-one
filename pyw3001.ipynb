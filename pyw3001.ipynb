{
 "cells": [
  {
   "cell_type": "code",
   "execution_count": 5,
   "metadata": {},
   "outputs": [
    {
     "data": {
      "text/plain": [
       "'\\ncomentarios\\ncomentarios\\ncomentarios\\n'"
      ]
     },
     "execution_count": 5,
     "metadata": {},
     "output_type": "execute_result"
    }
   ],
   "source": [
    "#  Python\n",
    "# LENGUAJE DE PROGRAMACION\n",
    "\n",
    "#  Anaconda\n",
    "# Software que contiene a Jupyter\n",
    "\n",
    "#  Jupyter\n",
    "# Herramienta para escribir programas ( en Python )\n",
    "\n",
    "# Comentarios\n",
    "\n",
    "# https://www.w3schools.com/python/\n",
    "\n",
    "\"\"\"\n",
    "comentarios\n",
    "comentarios\n",
    "comentarios\n",
    "\"\"\""
   ]
  },
  {
   "cell_type": "code",
   "execution_count": 1,
   "metadata": {},
   "outputs": [
    {
     "name": "stdout",
     "output_type": "stream",
     "text": [
      "Hello, World!\n"
     ]
    }
   ],
   "source": [
    "print(\"Hello, World!\")"
   ]
  },
  {
   "cell_type": "code",
   "execution_count": 2,
   "metadata": {},
   "outputs": [
    {
     "name": "stdout",
     "output_type": "stream",
     "text": [
      "Hola, Mundo!\n"
     ]
    }
   ],
   "source": [
    "print(\"Hola, Mundo!\")"
   ]
  },
  {
   "cell_type": "code",
   "execution_count": 4,
   "metadata": {},
   "outputs": [
    {
     "name": "stdout",
     "output_type": "stream",
     "text": [
      "5\n",
      "Hello, World!\n"
     ]
    }
   ],
   "source": [
    "# variable NUMERO\n",
    "x = 5\n",
    "# variable TEXTO\n",
    "y = \"Hello, World!\"\n",
    "\n",
    "# Imprimir el valor de la variable x\n",
    "print(x)\n",
    "# Imprimir el valor de la variable y\n",
    "print(y)"
   ]
  },
  {
   "cell_type": "code",
   "execution_count": 8,
   "metadata": {},
   "outputs": [
    {
     "name": "stdout",
     "output_type": "stream",
     "text": [
      "4\n",
      "Hola\n"
     ]
    }
   ],
   "source": [
    "# x es asignado con el valor de 4\n",
    "x = 4\n",
    "print(x)\n",
    "# luego, x es asignado con el valor de un texto \"Hola\"\n",
    "x = \"Hola\"\n",
    "print(x)"
   ]
  },
  {
   "cell_type": "code",
   "execution_count": null,
   "metadata": {},
   "outputs": [],
   "source": [
    "# Nombres adeucados para variables\n",
    "\n",
    "nombre = \"\"\n",
    "nombrePersona = \"\"\n",
    "nombreDePersona = \"\"\n",
    "variable1 = 10\n",
    "variable2 = 20\n",
    "\n",
    "variable10 = 100\n",
    "\n",
    "num = 1\n",
    "\n",
    "tasaPorcentual = 5\n",
    "\n",
    "pesoDeNota = 0.50\n",
    "pesoNota   = 0.25\n",
    "\n",
    "listaDeVariables = []\n",
    "\n",
    "\n"
   ]
  },
  {
   "cell_type": "code",
   "execution_count": 9,
   "metadata": {},
   "outputs": [
    {
     "name": "stdout",
     "output_type": "stream",
     "text": [
      "Hola\n"
     ]
    }
   ],
   "source": [
    "# tipos de datos\n",
    "\n",
    "#  Text Type:\tstr\n",
    "# tipo TEXTO\n",
    "\n",
    "t = \"Hola\"\n",
    "print(t)\n"
   ]
  },
  {
   "cell_type": "code",
   "execution_count": 11,
   "metadata": {},
   "outputs": [
    {
     "name": "stdout",
     "output_type": "stream",
     "text": [
      "10\n",
      "3.1415\n"
     ]
    }
   ],
   "source": [
    "# tipos de datos\n",
    "\n",
    "#  Numeric Types:\tint, float, complex\n",
    "# tipo NUMERO\n",
    "\n",
    "# entero\n",
    "n = 10\n",
    "print(n)\n",
    "\n",
    "# decimal\n",
    "pi = 3.1415\n",
    "print(pi)\n"
   ]
  },
  {
   "cell_type": "code",
   "execution_count": 12,
   "metadata": {},
   "outputs": [
    {
     "name": "stdout",
     "output_type": "stream",
     "text": [
      "[1, 2, 3, 4]\n"
     ]
    }
   ],
   "source": [
    "# tipos de datos\n",
    "\n",
    "#  Sequence Types:\tlist, tuple, range\n",
    "\n",
    "# lista, tupla, rango\n",
    "\n",
    "lst = [1,2,3,4]\n",
    "print(lst)\n"
   ]
  },
  {
   "cell_type": "code",
   "execution_count": null,
   "metadata": {},
   "outputs": [],
   "source": [
    "# tipos de datos\n",
    "\n",
    "#  Mapping Type:\tdict\n",
    "# mapas\n",
    "\n",
    "# ...\n"
   ]
  },
  {
   "cell_type": "code",
   "execution_count": 13,
   "metadata": {},
   "outputs": [
    {
     "name": "stdout",
     "output_type": "stream",
     "text": [
      "(1, 2, 3)\n"
     ]
    }
   ],
   "source": [
    "# tipos de datos\n",
    "\n",
    "#  Set Types:\tset, frozenset\n",
    "# Conjuntos\n",
    "\n",
    "set = (1,2,3)\n",
    "print(set)\n"
   ]
  },
  {
   "cell_type": "code",
   "execution_count": 15,
   "metadata": {},
   "outputs": [
    {
     "name": "stdout",
     "output_type": "stream",
     "text": [
      "True\n",
      "False\n"
     ]
    }
   ],
   "source": [
    "# tipos de datos\n",
    "\n",
    "# Boolean Type:\tbool\n",
    "# Boleanos o LOGICOS\n",
    "\n",
    "# solo pueden tener un valor que sea VERDADERO O FALSE\n",
    "\n",
    "#  True\n",
    "# VERDADERO\n",
    "\n",
    "#  False\n",
    "# FALSE\n",
    "\n",
    "b = True\n",
    "print(b)\n",
    "\n",
    "d = False\n",
    "print(d)\n",
    "\n",
    "\n"
   ]
  },
  {
   "cell_type": "code",
   "execution_count": 16,
   "metadata": {},
   "outputs": [
    {
     "name": "stdout",
     "output_type": "stream",
     "text": [
      "b'Hello'\n"
     ]
    }
   ],
   "source": [
    "# tipos de datos\n",
    "\n",
    "#  Binary Types:\tbytes, bytearray, memoryview\n",
    "\n",
    "# Tipos Binarios\n",
    "\n",
    "bin = b\"Hello\"\n",
    "\n",
    "print(bin)\n",
    "\n",
    "# 2^0  2 a la potencia cero es igual a 1\n",
    "\n",
    "# 1 = 2^0\n",
    "# 2 = 2^1\n",
    "# 3 = 2^1 + 2^0\n",
    "# 4 = 2^1 + 2^1\n",
    "# 5 = 2^2 +    + 2^0\n",
    "# ...\n",
    "\n",
    "# 1 = binario(1)\n",
    "# 2 = binario(10)\n",
    "# 3 = binario(11)\n",
    "# 4 = binario(100)\n",
    "# 5 = binario(101)\n",
    "# ...\n",
    "\n"
   ]
  },
  {
   "cell_type": "code",
   "execution_count": 17,
   "metadata": {},
   "outputs": [
    {
     "data": {
      "text/plain": [
       "'\\nx = \"Hello World\"\\tstr\\t\\nx = 20\\tint\\t\\nx = 20.5\\tfloat\\t\\nx = 1j\\tcomplex\\t\\nx = [\"apple\", \"banana\", \"cherry\"]\\tlist\\t\\nx = (\"apple\", \"banana\", \"cherry\")\\ttuple\\t\\nx = range(6)\\trange\\t\\nx = {\"name\" : \"John\", \"age\" : 36}\\tdict\\t\\nx = {\"apple\", \"banana\", \"cherry\"}\\tset\\t\\nx = frozenset({\"apple\", \"banana\", \"cherry\"})\\tfrozenset\\t\\nx = True\\tbool\\t\\nx = b\"Hello\"\\tbytes\\t\\nx = bytearray(5)\\tbytearray\\t\\nx = memoryview(bytes(5))\\tmemoryview\\n\\n'"
      ]
     },
     "execution_count": 17,
     "metadata": {},
     "output_type": "execute_result"
    }
   ],
   "source": [
    "# tipos de datos\n",
    "\n",
    "\"\"\"\n",
    "x = \"Hello World\"\tstr\t\n",
    "x = 20\tint\t\n",
    "x = 20.5\tfloat\t\n",
    "x = 1j\tcomplex\t\n",
    "x = [\"apple\", \"banana\", \"cherry\"]\tlist\t\n",
    "x = (\"apple\", \"banana\", \"cherry\")\ttuple\t\n",
    "x = range(6)\trange\t\n",
    "x = {\"name\" : \"John\", \"age\" : 36}\tdict\t\n",
    "x = {\"apple\", \"banana\", \"cherry\"}\tset\t\n",
    "x = frozenset({\"apple\", \"banana\", \"cherry\"})\tfrozenset\t\n",
    "x = True\tbool\t\n",
    "x = b\"Hello\"\tbytes\t\n",
    "x = bytearray(5)\tbytearray\t\n",
    "x = memoryview(bytes(5))\tmemoryview\n",
    "\n",
    "\"\"\""
   ]
  },
  {
   "cell_type": "code",
   "execution_count": 18,
   "metadata": {},
   "outputs": [
    {
     "data": {
      "text/plain": [
       "'\\nx = str(\"Hello World\")\\tstr\\t\\nx = int(20)\\tint\\t\\nx = float(20.5)\\tfloat\\t\\nx = complex(1j)\\tcomplex\\t\\nx = list((\"apple\", \"banana\", \"cherry\"))\\tlist\\t\\nx = tuple((\"apple\", \"banana\", \"cherry\"))\\ttuple\\t\\nx = range(6)\\trange\\t\\nx = dict(name=\"John\", age=36)\\tdict\\t\\nx = set((\"apple\", \"banana\", \"cherry\"))\\tset\\t\\nx = frozenset((\"apple\", \"banana\", \"cherry\"))\\tfrozenset\\t\\nx = bool(5)\\tbool\\t\\nx = bytes(5)\\tbytes\\t\\nx = bytearray(5)\\tbytearray\\t\\nx = memoryview(bytes(5))\\tmemoryview\\n'"
      ]
     },
     "execution_count": 18,
     "metadata": {},
     "output_type": "execute_result"
    }
   ],
   "source": [
    "# tipos de datos puntuales\n",
    "\n",
    "\"\"\"\n",
    "x = str(\"Hello World\")\tstr\t\n",
    "x = int(20)\tint\t\n",
    "x = float(20.5)\tfloat\t\n",
    "x = complex(1j)\tcomplex\t\n",
    "x = list((\"apple\", \"banana\", \"cherry\"))\tlist\t\n",
    "x = tuple((\"apple\", \"banana\", \"cherry\"))\ttuple\t\n",
    "x = range(6)\trange\t\n",
    "x = dict(name=\"John\", age=36)\tdict\t\n",
    "x = set((\"apple\", \"banana\", \"cherry\"))\tset\t\n",
    "x = frozenset((\"apple\", \"banana\", \"cherry\"))\tfrozenset\t\n",
    "x = bool(5)\tbool\t\n",
    "x = bytes(5)\tbytes\t\n",
    "x = bytearray(5)\tbytearray\t\n",
    "x = memoryview(bytes(5))\tmemoryview\n",
    "\"\"\"\n",
    "\n"
   ]
  },
  {
   "cell_type": "code",
   "execution_count": 20,
   "metadata": {},
   "outputs": [
    {
     "name": "stdout",
     "output_type": "stream",
     "text": [
      "<class 'int'>\n",
      "<class 'float'>\n",
      "<class 'complex'>\n",
      "1\n",
      "2.8\n",
      "1j\n"
     ]
    }
   ],
   "source": [
    "# NUMEROS\n",
    "\n",
    "#  int\n",
    "# entero\n",
    "x = 1    \n",
    "\n",
    "#  float\n",
    "# decimal\n",
    "y = 2.8  \n",
    "\n",
    "#  complex\n",
    "# complejo\n",
    "z = 1j   \n",
    "\n",
    "# imprimir el tipo de dato de la variable\n",
    "print(type(x))\n",
    "print(type(y))\n",
    "print(type(z))\n",
    "\n",
    "# imprimir el valor de la variable\n",
    "print(x)\n",
    "print(y)\n",
    "print(z)\n"
   ]
  },
  {
   "cell_type": "code",
   "execution_count": 22,
   "metadata": {},
   "outputs": [
    {
     "name": "stdout",
     "output_type": "stream",
     "text": [
      "<class 'int'>\n",
      "<class 'int'>\n",
      "<class 'int'>\n",
      "1\n",
      "35656222554887711\n",
      "-3255522\n"
     ]
    }
   ],
   "source": [
    "# NUMEROS\n",
    "\n",
    "#  int\n",
    "\n",
    "x = 1\n",
    "y = 35656222554887711\n",
    "z = -3255522\n",
    "\n",
    "print(type(x))\n",
    "print(type(y))\n",
    "print(type(z))\n",
    "\n",
    "# imprimir el valor de la variable\n",
    "print(x)\n",
    "print(y)\n",
    "print(z)\n"
   ]
  },
  {
   "cell_type": "code",
   "execution_count": 24,
   "metadata": {},
   "outputs": [
    {
     "name": "stdout",
     "output_type": "stream",
     "text": [
      "<class 'float'>\n",
      "<class 'float'>\n",
      "<class 'float'>\n",
      "1.1\n",
      "1.0\n",
      "-35.59\n"
     ]
    }
   ],
   "source": [
    "# NUMEROS\n",
    "\n",
    "#  float\n",
    "\n",
    "x = 1.10\n",
    "y = 1.0\n",
    "z = -35.59\n",
    "\n",
    "print(type(x))\n",
    "print(type(y))\n",
    "print(type(z))\n",
    "\n",
    "# imprimir el valor de la variable\n",
    "print(x)\n",
    "print(y)\n",
    "print(z)"
   ]
  },
  {
   "cell_type": "code",
   "execution_count": 27,
   "metadata": {},
   "outputs": [
    {
     "name": "stdout",
     "output_type": "stream",
     "text": [
      "<class 'float'>\n",
      "<class 'float'>\n",
      "<class 'float'>\n",
      "35000.0\n",
      "120000.0\n",
      "-8.77e+101\n"
     ]
    }
   ],
   "source": [
    "# NUMEROS\n",
    "\n",
    "#  float\n",
    "\n",
    "# usando la NOTACION MATEMATICA e\n",
    "\n",
    "x = 35e3\n",
    "y = 12E4\n",
    "z = -87.7e100\n",
    "\n",
    "print(type(x))\n",
    "print(type(y))\n",
    "print(type(z))\n",
    "\n",
    "# imprimir el valor de la variable\n",
    "print(x)\n",
    "print(y)\n",
    "print(z)"
   ]
  },
  {
   "cell_type": "code",
   "execution_count": 28,
   "metadata": {},
   "outputs": [
    {
     "name": "stdout",
     "output_type": "stream",
     "text": [
      "<class 'complex'>\n",
      "<class 'complex'>\n",
      "<class 'complex'>\n",
      "(3+5j)\n",
      "5j\n",
      "(-0-5j)\n"
     ]
    }
   ],
   "source": [
    "# NUMEROS\n",
    "\n",
    "#  Complex\n",
    "x = 3+5j\n",
    "y = 5j\n",
    "z = -5j\n",
    "\n",
    "print(type(x))\n",
    "print(type(y))\n",
    "print(type(z))\n",
    "\n",
    "# imprimir el valor de la variable\n",
    "print(x)\n",
    "print(y)\n",
    "print(z)"
   ]
  },
  {
   "cell_type": "code",
   "execution_count": 29,
   "metadata": {},
   "outputs": [
    {
     "name": "stdout",
     "output_type": "stream",
     "text": [
      "1.0\n",
      "2\n",
      "(1+0j)\n",
      "<class 'float'>\n",
      "<class 'int'>\n",
      "<class 'complex'>\n"
     ]
    }
   ],
   "source": [
    "# conversiones\n",
    "\n",
    "#  int\n",
    "x = 1    \n",
    "#  float\n",
    "y = 2.8 \n",
    "#  complex\n",
    "z = 1j  \n",
    "\n",
    "#convert from int to float:\n",
    "# convertir de int a decimal\n",
    "a = float(x)\n",
    "\n",
    "#convert from float to int:\n",
    "# convertir de decimal a int\n",
    "b = int(y)\n",
    "\n",
    "#convert from int to complex:\n",
    "# convertir de int a comlejo\n",
    "c = complex(x)\n",
    "\n",
    "print(a)\n",
    "print(b)\n",
    "print(c)\n",
    "\n",
    "print(type(a))\n",
    "print(type(b))\n",
    "print(type(c))\n"
   ]
  },
  {
   "cell_type": "code",
   "execution_count": 40,
   "metadata": {},
   "outputs": [
    {
     "name": "stdout",
     "output_type": "stream",
     "text": [
      "1\n",
      "4\n",
      "2\n"
     ]
    }
   ],
   "source": [
    "# NUMEROS ALEATORIOS\n",
    "# NUMEROS al azar\n",
    "\n",
    "import random\n",
    "\n",
    "# genera un NUMERO ALEATORIO entre 1 y 10\n",
    "print(random.randrange(1, 10))\n",
    "print(random.randrange(1, 10))\n",
    "print(random.randrange(1, 10))\n",
    "# [1:10>"
   ]
  },
  {
   "cell_type": "code",
   "execution_count": 47,
   "metadata": {},
   "outputs": [
    {
     "name": "stdout",
     "output_type": "stream",
     "text": [
      "2\n",
      "2\n"
     ]
    }
   ],
   "source": [
    "\n",
    "# genera un NUMERO ALEATORIO entre 1 y 3\n",
    "print(random.randrange(1, 3))\n",
    "print(random.randrange(1, 3))\n",
    "# [1:3>\n"
   ]
  },
  {
   "cell_type": "code",
   "execution_count": 51,
   "metadata": {},
   "outputs": [
    {
     "name": "stdout",
     "output_type": "stream",
     "text": [
      "2\n"
     ]
    }
   ],
   "source": [
    "# genera un NUMERO ALEATORIO entre 2 y 6\n",
    "print(random.randrange(2, 6))\n",
    "# [2:6>"
   ]
  },
  {
   "cell_type": "code",
   "execution_count": 55,
   "metadata": {},
   "outputs": [
    {
     "name": "stdout",
     "output_type": "stream",
     "text": [
      "18\n"
     ]
    }
   ],
   "source": [
    "\n",
    "# rango entre 5 y menor que 20\n",
    "x = random.randrange(5, 20)\n",
    "print(x)\n"
   ]
  },
  {
   "cell_type": "code",
   "execution_count": 60,
   "metadata": {},
   "outputs": [
    {
     "name": "stdout",
     "output_type": "stream",
     "text": [
      "8\n"
     ]
    }
   ],
   "source": [
    "\n",
    "# rango entre 5 y menor que 21\n",
    "x = random.randrange(5, 21)\n",
    "print(x)\n"
   ]
  },
  {
   "cell_type": "code",
   "execution_count": 65,
   "metadata": {},
   "outputs": [
    {
     "name": "stdout",
     "output_type": "stream",
     "text": [
      "20\n",
      "8\n",
      "suma:  28\n"
     ]
    }
   ],
   "source": [
    "# PROBLEMA \n",
    "# Sumar 2 NUMEROS ALEATORIOS\n",
    "# cada uno entre el rango de 5 y 20\n",
    "# 5 MINIMO VALOR\n",
    "# 20 MAXIMO VALOR\n",
    "\n",
    "x = random.randrange(5, 21)\n",
    "print(x)\n",
    "y = random.randrange(5, 21)\n",
    "print(y)\n",
    "\n",
    "print(\"suma: \",x+y)"
   ]
  },
  {
   "cell_type": "code",
   "execution_count": 67,
   "metadata": {},
   "outputs": [
    {
     "name": "stdout",
     "output_type": "stream",
     "text": [
      "1\n",
      "2\n",
      "3\n",
      "suma:  6\n"
     ]
    }
   ],
   "source": [
    "#  Casting\n",
    "\n",
    "# x es un NUMERO entero\n",
    "x = int(1)   \n",
    "\n",
    "# y es un NUMERO entero; pero recibe un valor DECIMAL convertido a entero\n",
    "y = int(2.8) \n",
    "\n",
    "# z es un NUMERO entero; pero recibe un valor TEXTO convertido a entero\n",
    "z = int(\"3\") \n",
    "# \"3\" es un TEXTO\n",
    "\n",
    "# imprimir el valor de la variable\n",
    "print(x)\n",
    "print(y)\n",
    "print(z)\n",
    "\n",
    "print(\"suma: \",x+y+z)"
   ]
  },
  {
   "cell_type": "code",
   "execution_count": 68,
   "metadata": {
    "scrolled": false
   },
   "outputs": [
    {
     "name": "stdout",
     "output_type": "stream",
     "text": [
      "1.0\n",
      "2.8\n",
      "3.0\n",
      "4.2\n",
      "suma:  11.0\n"
     ]
    }
   ],
   "source": [
    "#  Casting\n",
    "\n",
    "# todas las variables tienen valores DECIMALES\n",
    "\n",
    "# recibe un valor entero, convertido a DECIMAL\n",
    "x = float(1)     \n",
    "\n",
    "# recibe un valor DECIMAL, convertido a DECIMAL\n",
    "y = float(2.8)   \n",
    "\n",
    "# recibe un valor TEXTO, convertido a DECIMAL\n",
    "z = float(\"3\")   \n",
    "\n",
    "# recibe un valor TEXTO, convertido a DECIMAL\n",
    "w = float(\"4.2\")\n",
    "\n",
    "# imprimir el valor de la variable\n",
    "print(x)\n",
    "print(y)\n",
    "print(z)\n",
    "print(w)\n",
    "\n",
    "print(\"suma: \",x+y+z+w)\n"
   ]
  },
  {
   "cell_type": "code",
   "execution_count": 69,
   "metadata": {},
   "outputs": [
    {
     "name": "stdout",
     "output_type": "stream",
     "text": [
      "s1\n",
      "2\n",
      "3.0\n"
     ]
    }
   ],
   "source": [
    "#  Casting\n",
    "\n",
    "# todas las variables son TEXTO\n",
    "\n",
    "# recibe un valor TEXTO, convertido a TEXTO\n",
    "x = str(\"s1\") \n",
    "# recibe un valor NUMERO, convertido a TEXTO\n",
    "y = str(2)   \n",
    "# recibe un valor DECIMAL, convertido a TEXTO\n",
    "z = str(3.0)  \n",
    "\n",
    "#  str\n",
    "# significa cadena de caracteres o TEXTO\n",
    "\n",
    "# imprimir el valor de la variable\n",
    "print(x)\n",
    "print(y)\n",
    "print(z)\n",
    "\n",
    "# los valores impresos, son todos TEXTO"
   ]
  },
  {
   "cell_type": "code",
   "execution_count": 70,
   "metadata": {},
   "outputs": [
    {
     "name": "stdout",
     "output_type": "stream",
     "text": [
      "Hello\n",
      "Hola\n"
     ]
    }
   ],
   "source": [
    "#  string\n",
    "# significa cadena de caracteres o TEXTO\n",
    "\n",
    "print(\"Hello\")\n",
    "print('Hola')"
   ]
  },
  {
   "cell_type": "code",
   "execution_count": 71,
   "metadata": {},
   "outputs": [
    {
     "name": "stdout",
     "output_type": "stream",
     "text": [
      "Hello\n"
     ]
    }
   ],
   "source": [
    "a = \"Hello\"\n",
    "print(a)"
   ]
  },
  {
   "cell_type": "code",
   "execution_count": 74,
   "metadata": {},
   "outputs": [
    {
     "name": "stdout",
     "output_type": "stream",
     "text": [
      "varias\n",
      "lineas de\n",
      "texto...\n"
     ]
    }
   ],
   "source": [
    "a = \"\"\"varias\n",
    "lineas de\n",
    "texto...\"\"\"\n",
    "print(a)"
   ]
  },
  {
   "cell_type": "code",
   "execution_count": 77,
   "metadata": {},
   "outputs": [
    {
     "name": "stdout",
     "output_type": "stream",
     "text": [
      "H\n",
      "o\n",
      "l\n",
      "a\n"
     ]
    }
   ],
   "source": [
    "# El Texto tiene 4 letras\n",
    "\n",
    "a = \"Hola\"\n",
    "\n",
    "print(a[0])\n",
    "print(a[1])\n",
    "print(a[2])\n",
    "print(a[3])\n",
    "\n",
    "# en la POSICION 0, H\n",
    "# en la POSICION 1, o\n",
    "# en la POSICION 2, l\n",
    "# en la POSICION 3, a\n"
   ]
  },
  {
   "cell_type": "code",
   "execution_count": 79,
   "metadata": {},
   "outputs": [
    {
     "name": "stdout",
     "output_type": "stream",
     "text": [
      "la\n"
     ]
    }
   ],
   "source": [
    "# cortes o rebanadas\n",
    "\n",
    "# El Texto tiene 4 letras\n",
    "b = \"Hola\"\n",
    "\n",
    "print(b[2:4])\n",
    "# se desea imprimir desde la POSICION 2 hasta la POSICION 4-1\n"
   ]
  },
  {
   "cell_type": "code",
   "execution_count": 80,
   "metadata": {},
   "outputs": [
    {
     "name": "stdout",
     "output_type": "stream",
     "text": [
      "la Mun\n"
     ]
    }
   ],
   "source": [
    "# cortes o rebanadas\n",
    "\n",
    "# El Texto tiene 10 letras\n",
    "b = \"Hola Mundo\"\n",
    "\n",
    "print(b[2:8])\n",
    "# se desea imprimir desde la POSICION 2 hasta la POSICION 8-1\n",
    "\n",
    "#  Hola Mundo\n",
    "#  0123456789"
   ]
  },
  {
   "cell_type": "code",
   "execution_count": 82,
   "metadata": {},
   "outputs": [
    {
     "name": "stdout",
     "output_type": "stream",
     "text": [
      "Mun\n"
     ]
    }
   ],
   "source": [
    "\n",
    "b = \"Hola Mundo\"\n",
    "print(b[-5:-2])\n",
    "\n",
    "# Obtenga los caracteres de la posición -5 a la posición -2\n",
    "# comenzando el conteo desde el final de la cadena\n",
    "\n",
    "#  Hola Mundo\n",
    "#  0123456789\n",
    "\n",
    "#  Hola Mundo\n",
    "#       543210\n",
    "#       Mun\n"
   ]
  },
  {
   "cell_type": "code",
   "execution_count": 83,
   "metadata": {},
   "outputs": [
    {
     "name": "stdout",
     "output_type": "stream",
     "text": [
      "4\n"
     ]
    }
   ],
   "source": [
    "# Longitud del TEXTO\n",
    "a =  \"Hola\"\n",
    "print(len(a))"
   ]
  },
  {
   "cell_type": "code",
   "execution_count": 84,
   "metadata": {},
   "outputs": [
    {
     "name": "stdout",
     "output_type": "stream",
     "text": [
      "10\n"
     ]
    }
   ],
   "source": [
    "# Longitud del TEXTO\n",
    "a = \"Hola Mundo\"\n",
    "print(len(a))\n",
    "\n",
    "#  Hola Mundo\n",
    "#  0123456789"
   ]
  },
  {
   "cell_type": "code",
   "execution_count": 85,
   "metadata": {},
   "outputs": [
    {
     "name": "stdout",
     "output_type": "stream",
     "text": [
      "Hello Hola Ciao\n"
     ]
    }
   ],
   "source": [
    "a = \" Hello Hola Ciao \"\n",
    "print(a.strip())"
   ]
  },
  {
   "cell_type": "code",
   "execution_count": 86,
   "metadata": {},
   "outputs": [
    {
     "name": "stdout",
     "output_type": "stream",
     "text": [
      "Hello Hola Ciao\n"
     ]
    }
   ],
   "source": [
    "a = \"               Hello Hola Ciao \"\n",
    "print(a.strip())\n",
    "# elimina los espacios en blanco al inicio y final del TEXTO\n"
   ]
  },
  {
   "cell_type": "code",
   "execution_count": 87,
   "metadata": {},
   "outputs": [
    {
     "name": "stdout",
     "output_type": "stream",
     "text": [
      " hello hola ciao \n"
     ]
    }
   ],
   "source": [
    "a = \" Hello Hola Ciao \"\n",
    "print(a.lower())\n",
    "# MINUSCULAS\n"
   ]
  },
  {
   "cell_type": "code",
   "execution_count": 88,
   "metadata": {},
   "outputs": [
    {
     "name": "stdout",
     "output_type": "stream",
     "text": [
      " HELLO HOLA CIAO \n"
     ]
    }
   ],
   "source": [
    "a = \" Hello Hola Ciao \"\n",
    "print(a.upper())\n",
    "# MAYUSCULAS"
   ]
  },
  {
   "cell_type": "code",
   "execution_count": 89,
   "metadata": {},
   "outputs": [
    {
     "name": "stdout",
     "output_type": "stream",
     "text": [
      "Hallo\n"
     ]
    }
   ],
   "source": [
    "# reemplazar TEXTO\n",
    "a = \"Hello\"\n",
    "print(a.replace(\"e\", \"a\"))\n"
   ]
  },
  {
   "cell_type": "code",
   "execution_count": 90,
   "metadata": {},
   "outputs": [
    {
     "name": "stdout",
     "output_type": "stream",
     "text": [
      "cese\n"
     ]
    }
   ],
   "source": [
    "# reemplazar TEXTO\n",
    "a = \"casa\"\n",
    "print(a.replace(\"a\", \"e\"))\n",
    "# reemplaza la letra a por la letra e"
   ]
  },
  {
   "cell_type": "code",
   "execution_count": 91,
   "metadata": {},
   "outputs": [
    {
     "name": "stdout",
     "output_type": "stream",
     "text": [
      "['Hello', ' Hola', ' Ciao']\n"
     ]
    }
   ],
   "source": [
    "# texto separado por coma\n",
    "a = \"Hello, Hola, Ciao\"\n",
    "print(a.split(\",\"))\n",
    "# separa los textos, por medio de las comas"
   ]
  },
  {
   "cell_type": "code",
   "execution_count": 92,
   "metadata": {},
   "outputs": [
    {
     "name": "stdout",
     "output_type": "stream",
     "text": [
      "['Hello', ' Hola', ' Ciao']\n"
     ]
    }
   ],
   "source": [
    "# texto separado por punto\n",
    "a = \"Hello. Hola. Ciao\"\n",
    "print(a.split(\".\"))\n",
    "# separa los textos, por medio de los puntos"
   ]
  },
  {
   "cell_type": "code",
   "execution_count": 93,
   "metadata": {},
   "outputs": [
    {
     "name": "stdout",
     "output_type": "stream",
     "text": [
      "['Hello', 'Hola', 'Ciao']\n"
     ]
    }
   ],
   "source": [
    "# texto separado por espacios\n",
    "a = \"Hello Hola Ciao\"\n",
    "print(a.split(\" \"))\n",
    "# separa los textos, por medio de los espacios"
   ]
  },
  {
   "cell_type": "code",
   "execution_count": 95,
   "metadata": {},
   "outputs": [
    {
     "name": "stdout",
     "output_type": "stream",
     "text": [
      "True\n"
     ]
    }
   ],
   "source": [
    "txt =  \"Hello Hola Ciao\"\n",
    "\n",
    "# \"Hol\" ESTA INCLUIDO DENTRO DEL texto ? ( Si / No )\n",
    "x = \"Hola\" in txt\n",
    "\n",
    "# Si\n",
    "#  True\n",
    "\n",
    "# No\n",
    "#  False\n",
    "\n",
    "print(x)"
   ]
  },
  {
   "cell_type": "code",
   "execution_count": 96,
   "metadata": {},
   "outputs": [
    {
     "name": "stdout",
     "output_type": "stream",
     "text": [
      "True\n"
     ]
    }
   ],
   "source": [
    "txt =  \"Hello Hola Ciao\"\n",
    "\n",
    "# \"Cia\" ESTA INCLUIDO DENTRO DEL texto ? ( Si / No )\n",
    "x = \"Cia\" in txt\n",
    "\n",
    "print(x)"
   ]
  },
  {
   "cell_type": "code",
   "execution_count": 97,
   "metadata": {},
   "outputs": [
    {
     "name": "stdout",
     "output_type": "stream",
     "text": [
      "False\n"
     ]
    }
   ],
   "source": [
    "txt =  \"Hello Hola Ciao\"\n",
    "\n",
    "# \"Hallo\" ESTA INCLUIDO DENTRO DEL texto ? ( Si / No )\n",
    "x = \"Hallo\" in txt\n",
    "\n",
    "print(x)\n",
    "# NO ESTA INCLUIDO DENTRO DEL texto"
   ]
  },
  {
   "cell_type": "code",
   "execution_count": 99,
   "metadata": {},
   "outputs": [
    {
     "name": "stdout",
     "output_type": "stream",
     "text": [
      "True\n"
     ]
    }
   ],
   "source": [
    "txt =  \"Hello Hola Ciao\"\n",
    "\n",
    "# \"Hallo\" NO ESTA INCLUIDO DENTRO DEL texto ? ( Si / No )\n",
    "x = \"Hallo\" not in txt\n",
    "\n",
    "print(x)"
   ]
  },
  {
   "cell_type": "code",
   "execution_count": 102,
   "metadata": {},
   "outputs": [
    {
     "name": "stdout",
     "output_type": "stream",
     "text": [
      "Hello \n",
      "Hola \n",
      "Ciao \n",
      "Hello Hola Ciao \n"
     ]
    }
   ],
   "source": [
    "# UNION DE TEXTOS\n",
    "txt1 =  \"Hello \"\n",
    "txt2 =  \"Hola \"\n",
    "txt3 =  \"Ciao \"\n",
    "\n",
    "print(txt1)\n",
    "print(txt2)\n",
    "print(txt3)\n",
    "\n",
    "texto = txt1 + txt2 + txt3\n",
    "print(texto)\n"
   ]
  },
  {
   "cell_type": "code",
   "execution_count": 104,
   "metadata": {},
   "outputs": [
    {
     "name": "stdout",
     "output_type": "stream",
     "text": [
      "Hello\n",
      "Hola\n",
      "Ciao\n",
      "Hello Hola Ciao\n"
     ]
    }
   ],
   "source": [
    "# UNION DE TEXTOS\n",
    "txt1 =  \"Hello\"\n",
    "txt2 =  \"Hola\"\n",
    "txt3 =  \"Ciao\"\n",
    "\n",
    "print(txt1)\n",
    "print(txt2)\n",
    "print(txt3)\n",
    "\n",
    "texto = txt1 + \" \" + txt2 + \" \" + txt3\n",
    "print(texto)\n"
   ]
  },
  {
   "cell_type": "code",
   "execution_count": 105,
   "metadata": {},
   "outputs": [
    {
     "name": "stdout",
     "output_type": "stream",
     "text": [
      "Hello\n",
      "Hola\n",
      "Ciao\n",
      "Hello, Hola, Ciao\n"
     ]
    }
   ],
   "source": [
    "# UNION DE TEXTOS\n",
    "txt1 =  \"Hello\"\n",
    "txt2 =  \"Hola\"\n",
    "txt3 =  \"Ciao\"\n",
    "\n",
    "print(txt1)\n",
    "print(txt2)\n",
    "print(txt3)\n",
    "\n",
    "texto = txt1 + \", \" + txt2 + \", \" + txt3\n",
    "print(texto)"
   ]
  },
  {
   "cell_type": "code",
   "execution_count": 108,
   "metadata": {},
   "outputs": [
    {
     "name": "stdout",
     "output_type": "stream",
     "text": [
      "Name: Hanna, ID 1234\n"
     ]
    }
   ],
   "source": [
    "id = 1234\n",
    "\n",
    "# se convierte el NUMERO a TEXTO\n",
    "txt = \"Name: Hanna, ID \" + str(id)\n",
    "print(txt)"
   ]
  },
  {
   "cell_type": "code",
   "execution_count": 109,
   "metadata": {},
   "outputs": [
    {
     "name": "stdout",
     "output_type": "stream",
     "text": [
      "Name: Hanna, ID  36\n"
     ]
    }
   ],
   "source": [
    "# formato de textos\n",
    "\n",
    "id = 36\n",
    "txt = \"Name: Hanna, ID  {}\"\n",
    "# {} indica que recibe un valor\n",
    "\n",
    "print(txt.format(id))\n",
    "# recibe un valor y lo formatea\n",
    "# formatear es convertir\n"
   ]
  },
  {
   "cell_type": "code",
   "execution_count": 111,
   "metadata": {},
   "outputs": [
    {
     "name": "stdout",
     "output_type": "stream",
     "text": [
      "ID 1 ITEM 1234  USD/ 49.95 \n"
     ]
    }
   ],
   "source": [
    "id = 1\n",
    "itemno = 1234\n",
    "price = 49.95\n",
    "myorder = \"ID {} ITEM {}  USD/ {} \"\n",
    "print(myorder.format(id, itemno, price))"
   ]
  },
  {
   "cell_type": "code",
   "execution_count": 112,
   "metadata": {},
   "outputs": [
    {
     "name": "stdout",
     "output_type": "stream",
     "text": [
      "Hallo \"Vikings\" de Terra\n"
     ]
    }
   ],
   "source": [
    "\n",
    "#  txt = \"Hallo \"Vikings\" de Terra\"\n",
    "\n",
    "# el texto anterior es incorrecto, por el subtexto \"Vikings\"\n",
    "# cuando se desea imprimir comillas dobles, se debe usar del siguiente modo:\n",
    "#  \\\"Vikings\\\" \n",
    "\n",
    "# \" comilla doble\n",
    "\n",
    "txt = \"Hallo \\\"Vikings\\\" de Terra\"\n",
    "print(txt)\n"
   ]
  },
  {
   "cell_type": "code",
   "execution_count": 114,
   "metadata": {},
   "outputs": [
    {
     "data": {
      "text/plain": [
       "\"\\n'\\tSingle Quote\\t\\n\\\\\\tBackslash\\t\\n\\n\\tNew Line\\t\\n\\r\\tCarriage Return\\t\\n\\t\\tTab\\t\\n\\x08\\tBackspace\\t\\n\\x0c\\tForm Feed\\t\\n\""
      ]
     },
     "execution_count": 114,
     "metadata": {},
     "output_type": "execute_result"
    }
   ],
   "source": [
    "# caracteres especiales\n",
    "\n",
    "\"\"\"\n",
    "\\'\tSingle Quote\t\n",
    "\\\\\tBackslash\t\n",
    "\\n\tNew Line\t\n",
    "\\r\tCarriage Return\t\n",
    "\\t\tTab\t\n",
    "\\b\tBackspace\t\n",
    "\\f\tForm Feed\t\n",
    "\"\"\""
   ]
  },
  {
   "cell_type": "code",
   "execution_count": 115,
   "metadata": {},
   "outputs": [
    {
     "name": "stdout",
     "output_type": "stream",
     "text": [
      "3\n"
     ]
    }
   ],
   "source": [
    "# repeticiones\n",
    "\n",
    "txt = \"Terra, Gea, Earth, Terra nostra, Terra Nova\"\n",
    "\n",
    "# cuantas veces se repite un texto\n",
    "x = txt.count(\"Terra\")\n",
    "\n",
    "print(x)\n"
   ]
  },
  {
   "cell_type": "code",
   "execution_count": 116,
   "metadata": {},
   "outputs": [
    {
     "name": "stdout",
     "output_type": "stream",
     "text": [
      "2\n"
     ]
    }
   ],
   "source": [
    "# repeticiones\n",
    "\n",
    "txt = \"Terra, Gea, Earth, Terra nostra, terra Nova\"\n",
    "\n",
    "# cuantas veces se repite un texto\n",
    "x = txt.count(\"Terra\")\n",
    "\n",
    "print(x)"
   ]
  },
  {
   "cell_type": "code",
   "execution_count": 117,
   "metadata": {},
   "outputs": [
    {
     "name": "stdout",
     "output_type": "stream",
     "text": [
      "6\n"
     ]
    }
   ],
   "source": [
    "# encontrar\n",
    "\n",
    "txt = \"Hello Hola Ciao\"\n",
    "\n",
    "x = txt.find(\"Hola\")\n",
    "\n",
    "print(x)\n",
    "\n",
    "# Hello Hola Ciao\n",
    "# 012345678901234\n",
    "# 0123456\n",
    "\n",
    "# POSICION donde inicia el TEXTO encontrado"
   ]
  },
  {
   "cell_type": "code",
   "execution_count": 119,
   "metadata": {},
   "outputs": [
    {
     "name": "stdout",
     "output_type": "stream",
     "text": [
      "6\n"
     ]
    }
   ],
   "source": [
    "txt = \"Hello Hola Ciao\"\n",
    "\n",
    "x = txt.index(\"Hola\")\n",
    "\n",
    "print(x)\n",
    "\n",
    "# POSICION o INDICE donde inicia el TEXTO encontrado"
   ]
  },
  {
   "cell_type": "code",
   "execution_count": 120,
   "metadata": {},
   "outputs": [
    {
     "name": "stdout",
     "output_type": "stream",
     "text": [
      "True\n"
     ]
    }
   ],
   "source": [
    "# Compruebe si todos los caracteres del texto son alfanuméricos:\n",
    "\n",
    "txt = \"Company12\"\n",
    "\n",
    "x = txt.isalnum()\n",
    "\n",
    "print(x)"
   ]
  },
  {
   "cell_type": "code",
   "execution_count": 122,
   "metadata": {},
   "outputs": [
    {
     "name": "stdout",
     "output_type": "stream",
     "text": [
      "False\n"
     ]
    }
   ],
   "source": [
    "# Compruebe si todos los caracteres del texto son alfanuméricos:\n",
    "\n",
    "txt = \"Company @1\"\n",
    "\n",
    "x = txt.isalnum()\n",
    "\n",
    "print(x)\n",
    "\n",
    "# @ no es alfanumérico"
   ]
  },
  {
   "cell_type": "code",
   "execution_count": 123,
   "metadata": {},
   "outputs": [
    {
     "name": "stdout",
     "output_type": "stream",
     "text": [
      "True\n"
     ]
    }
   ],
   "source": [
    "# Compruebe si todos los caracteres en el texto son dígitos:\n",
    "\n",
    "txt = \"50800\"\n",
    "\n",
    "x = txt.isdigit()\n",
    "\n",
    "print(x)\n"
   ]
  },
  {
   "cell_type": "code",
   "execution_count": 124,
   "metadata": {},
   "outputs": [
    {
     "name": "stdout",
     "output_type": "stream",
     "text": [
      "False\n"
     ]
    }
   ],
   "source": [
    "# Compruebe si todos los caracteres en el texto son dígitos:\n",
    "\n",
    "txt = \"508.\"\n",
    "\n",
    "x = txt.isdigit()\n",
    "\n",
    "print(x)\n",
    "\n",
    "# . no es dígito"
   ]
  },
  {
   "cell_type": "code",
   "execution_count": 125,
   "metadata": {},
   "outputs": [
    {
     "name": "stdout",
     "output_type": "stream",
     "text": [
      "False\n"
     ]
    }
   ],
   "source": [
    "# Compruebe si todos los caracteres en el texto son dígitos:\n",
    "\n",
    "txt = \"12b\"\n",
    "\n",
    "x = txt.isdigit()\n",
    "\n",
    "print(x)\n",
    "\n",
    "# b no es dígito"
   ]
  },
  {
   "cell_type": "code",
   "execution_count": 127,
   "metadata": {},
   "outputs": [
    {
     "name": "stdout",
     "output_type": "stream",
     "text": [
      "True\n"
     ]
    }
   ],
   "source": [
    "# Verifique si todos los caracteres en el texto son numéricos:\n",
    "\n",
    "txt = \"565543\"\n",
    "\n",
    "x = txt.isnumeric()\n",
    "\n",
    "print(x)"
   ]
  },
  {
   "cell_type": "code",
   "execution_count": 128,
   "metadata": {},
   "outputs": [
    {
     "name": "stdout",
     "output_type": "stream",
     "text": [
      "False\n"
     ]
    }
   ],
   "source": [
    "# Verifique si todos los caracteres en el texto son numéricos:\n",
    "\n",
    "txt = \"565543.\"\n",
    "\n",
    "x = txt.isnumeric()\n",
    "\n",
    "print(x)"
   ]
  },
  {
   "cell_type": "code",
   "execution_count": 129,
   "metadata": {},
   "outputs": [
    {
     "name": "stdout",
     "output_type": "stream",
     "text": [
      "John#Peter#Vicky\n"
     ]
    }
   ],
   "source": [
    "myTuple = (\"John\", \"Peter\", \"Vicky\")\n",
    "\n",
    "# une textos de una tupla\n",
    "x = \"#\".join(myTuple)\n",
    "\n",
    "print(x)\n"
   ]
  },
  {
   "cell_type": "code",
   "execution_count": 130,
   "metadata": {},
   "outputs": [
    {
     "name": "stdout",
     "output_type": "stream",
     "text": [
      "John,Peter,Vicky\n"
     ]
    }
   ],
   "source": [
    "myTuple = (\"John\", \"Peter\", \"Vicky\")\n",
    "\n",
    "# une textos de una tupla\n",
    "x = \",\".join(myTuple)\n",
    "\n",
    "print(x)\n"
   ]
  },
  {
   "cell_type": "code",
   "execution_count": 131,
   "metadata": {},
   "outputs": [
    {
     "name": "stdout",
     "output_type": "stream",
     "text": [
      "John, Peter, Vicky\n"
     ]
    }
   ],
   "source": [
    "myTuple = (\"John\", \"Peter\", \"Vicky\")\n",
    "\n",
    "# une textos de una tupla\n",
    "x = \", \".join(myTuple)\n",
    "\n",
    "print(x)\n"
   ]
  },
  {
   "cell_type": "code",
   "execution_count": 133,
   "metadata": {},
   "outputs": [
    {
     "name": "stdout",
     "output_type": "stream",
     "text": [
      "Terra, Gea, Terra Nova\n"
     ]
    }
   ],
   "source": [
    "txt = \"Terra, gea, terra Nova\"\n",
    "\n",
    "# convierte texto a TITULO\n",
    "x = txt.title()\n",
    "\n",
    "print(x)"
   ]
  },
  {
   "cell_type": "code",
   "execution_count": 134,
   "metadata": {},
   "outputs": [
    {
     "name": "stdout",
     "output_type": "stream",
     "text": [
      "HELLO\n"
     ]
    }
   ],
   "source": [
    "txt = \"Hello\"\n",
    "\n",
    "# convertir a Letras MAYUSCULAS\n",
    "x = txt.upper()\n",
    "\n",
    "print(x)"
   ]
  },
  {
   "cell_type": "code",
   "execution_count": 135,
   "metadata": {},
   "outputs": [
    {
     "name": "stdout",
     "output_type": "stream",
     "text": [
      "0050\n"
     ]
    }
   ],
   "source": [
    "# rellena de ceros a la izquierda de un texto\n",
    "txt = \"50\"\n",
    "\n",
    "x = txt.zfill(4)\n",
    "\n",
    "print(x)\n",
    "\n",
    "#   50\n",
    "# 1234\n",
    "# 0050\n"
   ]
  },
  {
   "cell_type": "code",
   "execution_count": 136,
   "metadata": {},
   "outputs": [
    {
     "name": "stdout",
     "output_type": "stream",
     "text": [
      "00001234\n"
     ]
    }
   ],
   "source": [
    "txt = \"1234\"\n",
    "\n",
    "x = txt.zfill(8)\n",
    "\n",
    "print(x)\n",
    "\n",
    "#    1234ff\n",
    "#00001234"
   ]
  },
  {
   "cell_type": "code",
   "execution_count": null,
   "metadata": {},
   "outputs": [],
   "source": [
    "# https://www.w3schools.com/python/ref_string_zfill.asp"
   ]
  }
 ],
 "metadata": {
  "kernelspec": {
   "display_name": "Python 3",
   "language": "python",
   "name": "python3"
  },
  "language_info": {
   "codemirror_mode": {
    "name": "ipython",
    "version": 3
   },
   "file_extension": ".py",
   "mimetype": "text/x-python",
   "name": "python",
   "nbconvert_exporter": "python",
   "pygments_lexer": "ipython3",
   "version": "3.7.1"
  }
 },
 "nbformat": 4,
 "nbformat_minor": 4
}
