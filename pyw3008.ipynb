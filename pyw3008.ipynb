{
 "cells": [
  {
   "cell_type": "code",
   "execution_count": 1,
   "metadata": {},
   "outputs": [
    {
     "name": "stdout",
     "output_type": "stream",
     "text": [
      "   id                    auto  ratio  tipooctanaje  kilometraje\n",
      "0   1        CAMIONETA NISSAN    5.0            90          500\n",
      "1   2     AUTO TOYOTA COROLLA    3.5            90           50\n",
      "2   3  CAMIONETA HYLUX TOYOTA    9.5            98          100\n",
      "3   4   PICK UP NISSAN NAVARA    8.0            98         1000\n",
      "   id  octanaje  precio_octanaje\n",
      "0   1        90             13.3\n",
      "1   2        98             16.6\n",
      "2   3        85             10.0\n",
      "   id  year  month  day  kilometraje\n",
      "0   1  2020      8   14          500\n",
      "1   2  2020      8   14           50\n",
      "2   3  2020      8   14          100\n",
      "3   4  2020      8   14         1000\n",
      "4   1  2020      8   15          100\n",
      "5   2  2020      8   15          500\n",
      "6   3  2020      8   15          150\n",
      "7   4  2020      8   15            0\n",
      "   id  year  month  day  precio_octanaje\n",
      "0   1  2020      8   14             13.3\n",
      "1   2  2020      8   14             16.6\n",
      "2   3  2020      8   14             10.0\n",
      "3   1  2020      8   15             14.0\n",
      "4   2  2020      8   15             16.0\n",
      "5   3  2020      8   15              9.5\n"
     ]
    }
   ],
   "source": [
    "import pandas as pd\n",
    "df1 = pd.read_excel (r'autos.xlsx', sheet_name='Hoja1')\n",
    "df2 = pd.read_excel (r'autos.xlsx', sheet_name='Hoja2')\n",
    "df3 = pd.read_excel (r'autos.xlsx', sheet_name='Hoja3')\n",
    "df4 = pd.read_excel (r'autos.xlsx', sheet_name='Hoja4')\n",
    "\n",
    "print(df1)\n",
    "print(df2)\n",
    "print(df3)\n",
    "print(df4)\n"
   ]
  },
  {
   "cell_type": "code",
   "execution_count": 2,
   "metadata": {
    "scrolled": false
   },
   "outputs": [
    {
     "name": "stdout",
     "output_type": "stream",
     "text": [
      "   id                    auto  ratio  tipooctanaje  kilometraje_x  year  \\\n",
      "0   1        CAMIONETA NISSAN    5.0            90            500  2020   \n",
      "1   1        CAMIONETA NISSAN    5.0            90            500  2020   \n",
      "2   2     AUTO TOYOTA COROLLA    3.5            90             50  2020   \n",
      "3   2     AUTO TOYOTA COROLLA    3.5            90             50  2020   \n",
      "4   3  CAMIONETA HYLUX TOYOTA    9.5            98            100  2020   \n",
      "5   3  CAMIONETA HYLUX TOYOTA    9.5            98            100  2020   \n",
      "6   4   PICK UP NISSAN NAVARA    8.0            98           1000  2020   \n",
      "7   4   PICK UP NISSAN NAVARA    8.0            98           1000  2020   \n",
      "\n",
      "   month  day  kilometraje_y  \n",
      "0      8   14            500  \n",
      "1      8   15            100  \n",
      "2      8   14             50  \n",
      "3      8   15            500  \n",
      "4      8   14            100  \n",
      "5      8   15            150  \n",
      "6      8   14           1000  \n",
      "7      8   15              0  \n"
     ]
    }
   ],
   "source": [
    "import pandas as pd\n",
    "df1 = pd.read_excel (r'autos.xlsx', sheet_name='Hoja1')\n",
    "df2 = pd.read_excel (r'autos.xlsx', sheet_name='Hoja2')\n",
    "df3 = pd.read_excel (r'autos.xlsx', sheet_name='Hoja3')\n",
    "df4 = pd.read_excel (r'autos.xlsx', sheet_name='Hoja4')\n",
    "\n",
    "df1df3 = pd.merge(df1, df3, on='id', how='inner')\n",
    "print(df1df3)\n"
   ]
  },
  {
   "cell_type": "code",
   "execution_count": 3,
   "metadata": {},
   "outputs": [
    {
     "name": "stdout",
     "output_type": "stream",
     "text": [
      "   id  octanaje  precio_octanaje_x  year  month  day  precio_octanaje_y\n",
      "0   1        90               13.3  2020      8   14               13.3\n",
      "1   1        90               13.3  2020      8   15               14.0\n",
      "2   2        98               16.6  2020      8   14               16.6\n",
      "3   2        98               16.6  2020      8   15               16.0\n",
      "4   3        85               10.0  2020      8   14               10.0\n",
      "5   3        85               10.0  2020      8   15                9.5\n"
     ]
    }
   ],
   "source": [
    "import pandas as pd\n",
    "df1 = pd.read_excel (r'autos.xlsx', sheet_name='Hoja1')\n",
    "df2 = pd.read_excel (r'autos.xlsx', sheet_name='Hoja2')\n",
    "df3 = pd.read_excel (r'autos.xlsx', sheet_name='Hoja3')\n",
    "df4 = pd.read_excel (r'autos.xlsx', sheet_name='Hoja4')\n",
    "\n",
    "df2df4 = pd.merge(df2, df4, on='id', how='inner')\n",
    "print(df2df4)"
   ]
  },
  {
   "cell_type": "code",
   "execution_count": null,
   "metadata": {},
   "outputs": [],
   "source": []
  }
 ],
 "metadata": {
  "kernelspec": {
   "display_name": "Python 3",
   "language": "python",
   "name": "python3"
  },
  "language_info": {
   "codemirror_mode": {
    "name": "ipython",
    "version": 3
   },
   "file_extension": ".py",
   "mimetype": "text/x-python",
   "name": "python",
   "nbconvert_exporter": "python",
   "pygments_lexer": "ipython3",
   "version": "3.7.1"
  }
 },
 "nbformat": 4,
 "nbformat_minor": 4
}
