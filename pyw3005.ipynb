{
 "cells": [
  {
   "cell_type": "code",
   "execution_count": 1,
   "metadata": {},
   "outputs": [
    {
     "name": "stdout",
     "output_type": "stream",
     "text": [
      "km_recorridos:100\n",
      "galones_x_km0.05\n",
      "consumo_de_combustible: 5.0\n"
     ]
    }
   ],
   "source": [
    "# consumo de combustible por unidad vehicular\n",
    "\n",
    "# OUTPUT :\n",
    "# consumo_de_combustible  # gl\n",
    "\n",
    "# INPUT :\n",
    "# km_recorridos # Km\n",
    "# galones_x_km # gl/Km\n",
    "\n",
    "# galones_x_km , CAMIONETA NISSAN  5 gl x 100 Km\n",
    "# galones_x_km , 5/100\n",
    "\n",
    "# int  ENTEROS\n",
    "# float DECIMALES\n",
    "\n",
    "km_recorridos=float(input(\"km_recorridos:\"))\n",
    "galones_x_km= float(input(\"galones_x_km\"))\n",
    "\n",
    "# FORMULA\n",
    "consumo_de_combustible =  km_recorridos * galones_x_km\n",
    "\n",
    "print(\"consumo_de_combustible:\", consumo_de_combustible)\n"
   ]
  },
  {
   "cell_type": "code",
   "execution_count": 2,
   "metadata": {},
   "outputs": [
    {
     "name": "stdout",
     "output_type": "stream",
     "text": [
      "km_recorridos:100\n",
      "consumo_de_combustible: 5.0\n"
     ]
    }
   ],
   "source": [
    "# consumo de combustible por unidad vehicular\n",
    "\n",
    "# galones_x_km , CAMIONETA NISSAN  5 gl x 100 Km\n",
    "\n",
    "km_recorridos=float(input(\"km_recorridos:\"))\n",
    "# galones_x_km= float(input(\"galones_x_km\"))\n",
    "galones_x_km = 5/100\n",
    "\n",
    "# FORMULA\n",
    "consumo_de_combustible =  km_recorridos * galones_x_km\n",
    "\n",
    "print(\"consumo_de_combustible:\", consumo_de_combustible)\n"
   ]
  },
  {
   "cell_type": "code",
   "execution_count": 3,
   "metadata": {},
   "outputs": [
    {
     "name": "stdout",
     "output_type": "stream",
     "text": [
      "CAMIONETA NISSAN\n",
      "km_recorridos:100\n",
      "consumo_de_combustible  gl. : 5.0\n"
     ]
    }
   ],
   "source": [
    "# consumo de combustible por unidad vehicular\n",
    "\n",
    "# galones_x_km , CAMIONETA NISSAN  5 gl x 100 Km\n",
    "# galones_x_km , AUTO TOYOTA COROLLA  3.5 gl x 100 Km\n",
    "\n",
    "print(\"CAMIONETA NISSAN\")\n",
    "km_recorridos=float(input(\"km_recorridos:\"))\n",
    "\n",
    "galones_x_km = 5/100\n",
    "\n",
    "# FORMULA\n",
    "consumo_de_combustible =  km_recorridos * galones_x_km\n",
    "\n",
    "print(\"consumo_de_combustible  gl. :\", consumo_de_combustible)"
   ]
  },
  {
   "cell_type": "code",
   "execution_count": 4,
   "metadata": {},
   "outputs": [
    {
     "name": "stdout",
     "output_type": "stream",
     "text": [
      "AUTO TOYOTA COROLLA\n",
      "km_recorridos:100\n",
      "consumo_de_combustible  gl. : 3.5000000000000004\n"
     ]
    }
   ],
   "source": [
    "# consumo de combustible por unidad vehicular\n",
    "\n",
    "# galones_x_km , CAMIONETA NISSAN  5 gl x 100 Km\n",
    "# galones_x_km , AUTO TOYOTA COROLLA  3.5 gl x 100 Km\n",
    "\n",
    "print(\"AUTO TOYOTA COROLLA\")\n",
    "km_recorridos=float(input(\"km_recorridos:\"))\n",
    "\n",
    "galones_x_km = 3.5/100\n",
    "\n",
    "# FORMULA\n",
    "consumo_de_combustible =  km_recorridos * galones_x_km\n",
    "\n",
    "print(\"consumo_de_combustible  gl. :\", consumo_de_combustible)\n"
   ]
  },
  {
   "cell_type": "code",
   "execution_count": 5,
   "metadata": {},
   "outputs": [
    {
     "name": "stdout",
     "output_type": "stream",
     "text": [
      "CAMIONETA HYLUX TOYOTA\n",
      "km_recorridos:100\n",
      "consumo_de_combustible  gl. : 9.5\n"
     ]
    }
   ],
   "source": [
    "# consumo de combustible por unidad vehicular\n",
    "\n",
    "# galones_x_km , CAMIONETA NISSAN  5 gl x 100 Km\n",
    "# galones_x_km , AUTO TOYOTA COROLLA  3.5 gl x 100 Km\n",
    "# galones_x_km , CAMIONETA HYLUX TOYOTA  9.5 gl x 100 Km\n",
    "\n",
    "print(\"CAMIONETA HYLUX TOYOTA\")\n",
    "km_recorridos=float(input(\"km_recorridos:\"))\n",
    "\n",
    "galones_x_km = 9.5/100\n",
    "\n",
    "# FORMULA\n",
    "consumo_de_combustible =  km_recorridos * galones_x_km\n",
    "\n",
    "print(\"consumo_de_combustible  gl. :\", consumo_de_combustible)\n"
   ]
  },
  {
   "cell_type": "code",
   "execution_count": 6,
   "metadata": {},
   "outputs": [
    {
     "name": "stdout",
     "output_type": "stream",
     "text": [
      "['CAMIONETA NISSAN', 'AUTO TOYOTA COROLLA', 'CAMIONETA HYLUX TOYOTA']\n"
     ]
    }
   ],
   "source": [
    "# array\n",
    "cars = [\"CAMIONETA NISSAN\", \"AUTO TOYOTA COROLLA\", \"CAMIONETA HYLUX TOYOTA\"]\n",
    "\n",
    "print(cars)"
   ]
  },
  {
   "cell_type": "code",
   "execution_count": 7,
   "metadata": {},
   "outputs": [
    {
     "name": "stdout",
     "output_type": "stream",
     "text": [
      "[5, 3.5, 9.5]\n"
     ]
    }
   ],
   "source": [
    "# array\n",
    "ratio = [5 , 3.5 , 9.5]\n",
    "\n",
    "print(ratio)\n"
   ]
  },
  {
   "cell_type": "code",
   "execution_count": 11,
   "metadata": {},
   "outputs": [
    {
     "name": "stdout",
     "output_type": "stream",
     "text": [
      "['CAMIONETA NISSAN', 'AUTO TOYOTA COROLLA', 'CAMIONETA HYLUX TOYOTA']\n",
      "[5, 3.5, 9.5]\n"
     ]
    }
   ],
   "source": [
    "# array\n",
    "cars = [\"CAMIONETA NISSAN\", \"AUTO TOYOTA COROLLA\", \"CAMIONETA HYLUX TOYOTA\"]\n",
    "\n",
    "print(cars)\n",
    "\n",
    "# array\n",
    "ratio = [5 , 3.5 , 9.5]\n",
    "\n",
    "print(ratio)"
   ]
  },
  {
   "cell_type": "code",
   "execution_count": 10,
   "metadata": {},
   "outputs": [
    {
     "name": "stdout",
     "output_type": "stream",
     "text": [
      "[100, 100, 100]\n"
     ]
    }
   ],
   "source": [
    "kilometraje = [100,100,100]\n",
    "print(kilometraje)"
   ]
  },
  {
   "cell_type": "code",
   "execution_count": 12,
   "metadata": {},
   "outputs": [
    {
     "name": "stdout",
     "output_type": "stream",
     "text": [
      "['CAMIONETA NISSAN', 'AUTO TOYOTA COROLLA', 'CAMIONETA HYLUX TOYOTA']\n",
      "[5, 3.5, 9.5]\n",
      "[100, 100, 100]\n"
     ]
    }
   ],
   "source": [
    "# arrays\n",
    "cars = [\"CAMIONETA NISSAN\", \"AUTO TOYOTA COROLLA\", \"CAMIONETA HYLUX TOYOTA\"]\n",
    "ratio = [5 , 3.5 , 9.5]\n",
    "kilometraje = [100,100,100]\n",
    "\n",
    "print(cars)\n",
    "print(ratio)\n",
    "print(kilometraje)\n",
    "\n",
    "# FORMULA\n",
    "# consumo_de_combustible =  km_recorridos * galones_x_km\n"
   ]
  },
  {
   "cell_type": "code",
   "execution_count": 15,
   "metadata": {},
   "outputs": [
    {
     "name": "stdout",
     "output_type": "stream",
     "text": [
      "['CAMIONETA NISSAN', 'AUTO TOYOTA COROLLA', 'CAMIONETA HYLUX TOYOTA']\n",
      "[5, 3.5, 9.5]\n",
      "[100, 100, 100]\n",
      "\n",
      "CAMIONETA NISSAN\n",
      "consumo_de_combustible  gl. : 5.0\n"
     ]
    }
   ],
   "source": [
    "# arrays\n",
    "cars = [\"CAMIONETA NISSAN\", \"AUTO TOYOTA COROLLA\", \"CAMIONETA HYLUX TOYOTA\"]\n",
    "ratio = [5 , 3.5 , 9.5]\n",
    "kilometraje = [100,100,100]\n",
    "\n",
    "print(cars)\n",
    "print(ratio)\n",
    "print(kilometraje)\n",
    "\n",
    "print(\"\")\n",
    "print(cars[0])\n",
    "consumo_de_combustible = kilometraje[0] * ratio[0]/100\n",
    "\n",
    "print(\"consumo_de_combustible  gl. :\", consumo_de_combustible)\n"
   ]
  },
  {
   "cell_type": "code",
   "execution_count": 16,
   "metadata": {},
   "outputs": [
    {
     "name": "stdout",
     "output_type": "stream",
     "text": [
      "['CAMIONETA NISSAN', 'AUTO TOYOTA COROLLA', 'CAMIONETA HYLUX TOYOTA']\n",
      "[5, 3.5, 9.5]\n",
      "[100, 100, 100]\n",
      "\n",
      "AUTO TOYOTA COROLLA\n",
      "consumo_de_combustible  gl. : 3.5\n"
     ]
    }
   ],
   "source": [
    "# arrays\n",
    "cars = [\"CAMIONETA NISSAN\", \"AUTO TOYOTA COROLLA\", \"CAMIONETA HYLUX TOYOTA\"]\n",
    "ratio = [5 , 3.5 , 9.5]\n",
    "kilometraje = [100,100,100]\n",
    "\n",
    "print(cars)\n",
    "print(ratio)\n",
    "print(kilometraje)\n",
    "\n",
    "print(\"\")\n",
    "print(cars[1])\n",
    "consumo_de_combustible = kilometraje[1] * ratio[1]/100\n",
    "\n",
    "print(\"consumo_de_combustible  gl. :\", consumo_de_combustible)\n"
   ]
  },
  {
   "cell_type": "code",
   "execution_count": 17,
   "metadata": {},
   "outputs": [
    {
     "name": "stdout",
     "output_type": "stream",
     "text": [
      "['CAMIONETA NISSAN', 'AUTO TOYOTA COROLLA', 'CAMIONETA HYLUX TOYOTA']\n",
      "[5, 3.5, 9.5]\n",
      "[100, 100, 100]\n",
      "\n",
      "CAMIONETA HYLUX TOYOTA\n",
      "consumo_de_combustible  gl. : 9.5\n"
     ]
    }
   ],
   "source": [
    "# arrays\n",
    "cars = [\"CAMIONETA NISSAN\", \"AUTO TOYOTA COROLLA\", \"CAMIONETA HYLUX TOYOTA\"]\n",
    "ratio = [5 , 3.5 , 9.5]\n",
    "kilometraje = [100,100,100]\n",
    "\n",
    "print(cars)\n",
    "print(ratio)\n",
    "print(kilometraje)\n",
    "\n",
    "print(\"\")\n",
    "print(cars[2])\n",
    "consumo_de_combustible = kilometraje[2] * ratio[2]/100\n",
    "\n",
    "print(\"consumo_de_combustible  gl. :\", consumo_de_combustible)"
   ]
  },
  {
   "cell_type": "code",
   "execution_count": 18,
   "metadata": {},
   "outputs": [
    {
     "name": "stdout",
     "output_type": "stream",
     "text": [
      "['CAMIONETA NISSAN', 'AUTO TOYOTA COROLLA', 'CAMIONETA HYLUX TOYOTA']\n",
      "[5, 3.5, 9.5]\n",
      "[100, 100, 100]\n",
      "\n",
      "CAMIONETA NISSAN\n",
      "consumo_de_combustible  gl. : 5.0\n"
     ]
    }
   ],
   "source": [
    "# arrays\n",
    "cars = [\"CAMIONETA NISSAN\", \"AUTO TOYOTA COROLLA\", \"CAMIONETA HYLUX TOYOTA\"]\n",
    "ratio = [5 , 3.5 , 9.5]\n",
    "kilometraje = [100,100,100]\n",
    "\n",
    "print(cars)\n",
    "print(ratio)\n",
    "print(kilometraje)\n",
    "\n",
    "i = 0\n",
    "\n",
    "print(\"\")\n",
    "print(cars[i])\n",
    "consumo_de_combustible = kilometraje[i] * ratio[i]/100\n",
    "\n",
    "print(\"consumo_de_combustible  gl. :\", consumo_de_combustible)\n"
   ]
  },
  {
   "cell_type": "code",
   "execution_count": 19,
   "metadata": {},
   "outputs": [
    {
     "name": "stdout",
     "output_type": "stream",
     "text": [
      "['CAMIONETA NISSAN', 'AUTO TOYOTA COROLLA', 'CAMIONETA HYLUX TOYOTA']\n",
      "[5, 3.5, 9.5]\n",
      "[100, 100, 100]\n",
      "\n",
      "AUTO TOYOTA COROLLA\n",
      "consumo_de_combustible  gl. : 3.5\n"
     ]
    }
   ],
   "source": [
    "# arrays\n",
    "cars = [\"CAMIONETA NISSAN\", \"AUTO TOYOTA COROLLA\", \"CAMIONETA HYLUX TOYOTA\"]\n",
    "ratio = [5 , 3.5 , 9.5]\n",
    "kilometraje = [100,100,100]\n",
    "\n",
    "print(cars)\n",
    "print(ratio)\n",
    "print(kilometraje)\n",
    "\n",
    "i = 1\n",
    "\n",
    "print(\"\")\n",
    "print(cars[i])\n",
    "consumo_de_combustible = kilometraje[i] * ratio[i]/100\n",
    "\n",
    "print(\"consumo_de_combustible  gl. :\", consumo_de_combustible)\n"
   ]
  },
  {
   "cell_type": "code",
   "execution_count": 20,
   "metadata": {},
   "outputs": [
    {
     "name": "stdout",
     "output_type": "stream",
     "text": [
      "['CAMIONETA NISSAN', 'AUTO TOYOTA COROLLA', 'CAMIONETA HYLUX TOYOTA']\n",
      "[5, 3.5, 9.5]\n",
      "[100, 100, 100]\n",
      "\n",
      "CAMIONETA HYLUX TOYOTA\n",
      "consumo_de_combustible  gl. : 9.5\n"
     ]
    }
   ],
   "source": [
    "# arrays\n",
    "cars = [\"CAMIONETA NISSAN\", \"AUTO TOYOTA COROLLA\", \"CAMIONETA HYLUX TOYOTA\"]\n",
    "ratio = [5 , 3.5 , 9.5]\n",
    "kilometraje = [100,100,100]\n",
    "\n",
    "print(cars)\n",
    "print(ratio)\n",
    "print(kilometraje)\n",
    "\n",
    "i = 2\n",
    "\n",
    "print(\"\")\n",
    "print(cars[i])\n",
    "consumo_de_combustible = kilometraje[i] * ratio[i]/100\n",
    "\n",
    "print(\"consumo_de_combustible  gl. :\", consumo_de_combustible)"
   ]
  },
  {
   "cell_type": "code",
   "execution_count": null,
   "metadata": {},
   "outputs": [],
   "source": [
    "# arrays\n",
    "cars = [\"CAMIONETA NISSAN\", \"AUTO TOYOTA COROLLA\", \"CAMIONETA HYLUX TOYOTA\"]\n",
    "ratio = [5 , 3.5 , 9.5]\n",
    "kilometraje = [100,100,100]\n",
    "\n",
    "print(cars)\n",
    "print(ratio)\n",
    "print(kilometraje)\n",
    "\n",
    "i = 2\n",
    "\n",
    "print(\"\")\n",
    "print(cars[i])\n",
    "consumo_de_combustible = kilometraje[i] * ratio[i]/100\n",
    "\n",
    "print(\"consumo_de_combustible  gl. :\", consumo_de_combustible)\n"
   ]
  },
  {
   "cell_type": "code",
   "execution_count": 21,
   "metadata": {},
   "outputs": [
    {
     "name": "stdout",
     "output_type": "stream",
     "text": [
      "0\n",
      "1\n",
      "2\n"
     ]
    }
   ],
   "source": [
    "# 0,1,2\n",
    "# range(3)\n",
    "\n",
    "for x in range(3):\n",
    "  print(x) \n"
   ]
  },
  {
   "cell_type": "code",
   "execution_count": 22,
   "metadata": {},
   "outputs": [
    {
     "name": "stdout",
     "output_type": "stream",
     "text": [
      "0\n",
      "1\n",
      "2\n"
     ]
    }
   ],
   "source": [
    "for i in range(3):\n",
    "  print(i) "
   ]
  },
  {
   "cell_type": "code",
   "execution_count": 23,
   "metadata": {},
   "outputs": [
    {
     "name": "stdout",
     "output_type": "stream",
     "text": [
      "['CAMIONETA NISSAN', 'AUTO TOYOTA COROLLA', 'CAMIONETA HYLUX TOYOTA']\n",
      "[5, 3.5, 9.5]\n",
      "[100, 100, 100]\n",
      "\n",
      "CAMIONETA NISSAN\n",
      "consumo_de_combustible  gl. : 5.0\n",
      "\n",
      "AUTO TOYOTA COROLLA\n",
      "consumo_de_combustible  gl. : 3.5\n",
      "\n",
      "CAMIONETA HYLUX TOYOTA\n",
      "consumo_de_combustible  gl. : 9.5\n"
     ]
    }
   ],
   "source": [
    "# arrays\n",
    "cars = [\"CAMIONETA NISSAN\", \"AUTO TOYOTA COROLLA\", \"CAMIONETA HYLUX TOYOTA\"]\n",
    "ratio = [5 , 3.5 , 9.5]\n",
    "kilometraje = [100,100,100]\n",
    "\n",
    "print(cars)\n",
    "print(ratio)\n",
    "print(kilometraje)\n",
    "\n",
    "for i in range(3):\n",
    "    print(\"\")\n",
    "    print(cars[i])\n",
    "    consumo_de_combustible = kilometraje[i] * ratio[i]/100\n",
    "\n",
    "    print(\"consumo_de_combustible  gl. :\", consumo_de_combustible)\n"
   ]
  },
  {
   "cell_type": "code",
   "execution_count": 24,
   "metadata": {},
   "outputs": [
    {
     "name": "stdout",
     "output_type": "stream",
     "text": [
      "['CAMIONETA NISSAN', 'AUTO TOYOTA COROLLA', 'CAMIONETA HYLUX TOYOTA', 'PICK UP NISSAN NAVARA']\n",
      "[5, 3.5, 9.5, 8]\n",
      "[100, 100, 100, 100]\n",
      "\n",
      "CAMIONETA NISSAN\n",
      "consumo_de_combustible  gl. : 5.0\n",
      "\n",
      "AUTO TOYOTA COROLLA\n",
      "consumo_de_combustible  gl. : 3.5\n",
      "\n",
      "CAMIONETA HYLUX TOYOTA\n",
      "consumo_de_combustible  gl. : 9.5\n"
     ]
    }
   ],
   "source": [
    "# arrays\n",
    "cars = [\"CAMIONETA NISSAN\", \"AUTO TOYOTA COROLLA\", \"CAMIONETA HYLUX TOYOTA\", \"PICK UP NISSAN NAVARA\"]\n",
    "ratio = [5 , 3.5 , 9.5, 8]\n",
    "kilometraje = [100,100,100,100]\n",
    "\n",
    "print(cars)\n",
    "print(ratio)\n",
    "print(kilometraje)\n",
    "\n",
    "for i in range(3):\n",
    "    print(\"\")\n",
    "    print(cars[i])\n",
    "    consumo_de_combustible = kilometraje[i] * ratio[i]/100\n",
    "\n",
    "    print(\"consumo_de_combustible  gl. :\", consumo_de_combustible)"
   ]
  },
  {
   "cell_type": "code",
   "execution_count": 25,
   "metadata": {},
   "outputs": [
    {
     "name": "stdout",
     "output_type": "stream",
     "text": [
      "['CAMIONETA NISSAN', 'AUTO TOYOTA COROLLA', 'CAMIONETA HYLUX TOYOTA', 'PICK UP NISSAN NAVARA']\n",
      "[5, 3.5, 9.5, 8]\n",
      "[100, 100, 100, 100]\n",
      "\n",
      "CAMIONETA NISSAN\n",
      "consumo_de_combustible  gl. : 5.0\n",
      "\n",
      "AUTO TOYOTA COROLLA\n",
      "consumo_de_combustible  gl. : 3.5\n",
      "\n",
      "CAMIONETA HYLUX TOYOTA\n",
      "consumo_de_combustible  gl. : 9.5\n",
      "\n",
      "PICK UP NISSAN NAVARA\n",
      "consumo_de_combustible  gl. : 8.0\n"
     ]
    }
   ],
   "source": [
    "# arrays\n",
    "cars = [\"CAMIONETA NISSAN\", \"AUTO TOYOTA COROLLA\", \"CAMIONETA HYLUX TOYOTA\", \"PICK UP NISSAN NAVARA\"]\n",
    "ratio = [5 , 3.5 , 9.5, 8]\n",
    "kilometraje = [100,100,100,100]\n",
    "\n",
    "print(cars)\n",
    "print(ratio)\n",
    "print(kilometraje)\n",
    "\n",
    "for i in range(4):\n",
    "    print(\"\")\n",
    "    print(cars[i])\n",
    "    consumo_de_combustible = kilometraje[i] * ratio[i]/100\n",
    "\n",
    "    print(\"consumo_de_combustible  gl. :\", consumo_de_combustible)"
   ]
  },
  {
   "cell_type": "code",
   "execution_count": 26,
   "metadata": {},
   "outputs": [
    {
     "name": "stdout",
     "output_type": "stream",
     "text": [
      "['CAMIONETA NISSAN', 'AUTO TOYOTA COROLLA', 'CAMIONETA HYLUX TOYOTA', 'PICK UP NISSAN NAVARA']\n",
      "[5, 3.5, 9.5, 8]\n",
      "[100, 100, 100, 100]\n",
      "\n",
      "CAMIONETA NISSAN\n",
      "consumo_de_combustible  gl. : 5.0\n",
      "\n",
      "AUTO TOYOTA COROLLA\n",
      "consumo_de_combustible  gl. : 3.5\n",
      "\n",
      "CAMIONETA HYLUX TOYOTA\n",
      "consumo_de_combustible  gl. : 9.5\n",
      "\n",
      "PICK UP NISSAN NAVARA\n",
      "consumo_de_combustible  gl. : 8.0\n"
     ]
    }
   ],
   "source": [
    "# arrays\n",
    "cars = [\"CAMIONETA NISSAN\", \"AUTO TOYOTA COROLLA\", \"CAMIONETA HYLUX TOYOTA\", \"PICK UP NISSAN NAVARA\"]\n",
    "ratio = [5 , 3.5 , 9.5, 8]\n",
    "kilometraje = [100,100,100,100]\n",
    "\n",
    "print(cars)\n",
    "print(ratio)\n",
    "print(kilometraje)\n",
    "\n",
    "# len, brinda la cantidad de elementos del Array\n",
    "x = len(cars)\n",
    "\n",
    "for i in range(x):\n",
    "    print(\"\")\n",
    "    print(cars[i])\n",
    "    consumo_de_combustible = kilometraje[i] * ratio[i]/100\n",
    "\n",
    "    print(\"consumo_de_combustible  gl. :\", consumo_de_combustible)"
   ]
  },
  {
   "cell_type": "code",
   "execution_count": 29,
   "metadata": {},
   "outputs": [
    {
     "name": "stdout",
     "output_type": "stream",
     "text": [
      "['CAMIONETA NISSAN', 'AUTO TOYOTA COROLLA', 'CAMIONETA HYLUX TOYOTA', 'PICK UP NISSAN NAVARA']\n",
      "[5, 3.5, 9.5, 8]\n",
      "[100, 100, 100, 100]\n",
      "[90, 90, 98, 98]\n",
      "[90, 98]\n",
      "[13.3, 16.6]\n",
      "\n",
      "CAMIONETA NISSAN\n",
      "consumo_de_combustible  gl. : 5.0\n",
      "precio_de_combustible  PEN/SOL : 0\n",
      "\n",
      "AUTO TOYOTA COROLLA\n",
      "consumo_de_combustible  gl. : 3.5\n",
      "precio_de_combustible  PEN/SOL : 0\n",
      "\n",
      "CAMIONETA HYLUX TOYOTA\n",
      "consumo_de_combustible  gl. : 9.5\n",
      "precio_de_combustible  PEN/SOL : 0\n",
      "\n",
      "PICK UP NISSAN NAVARA\n",
      "consumo_de_combustible  gl. : 8.0\n",
      "precio_de_combustible  PEN/SOL : 0\n"
     ]
    }
   ],
   "source": [
    "# arrays\n",
    "cars = [\"CAMIONETA NISSAN\", \"AUTO TOYOTA COROLLA\", \"CAMIONETA HYLUX TOYOTA\", \"PICK UP NISSAN NAVARA\"]\n",
    "ratio = [5 , 3.5 , 9.5, 8]\n",
    "kilometraje = [100,100,100,100]\n",
    "tipooctanaje = [90, 90, 98, 98]\n",
    "\n",
    "octanaje = [90, 98]\n",
    "precio_octanaje = [13.30 , 16.60]\n",
    "\n",
    "            \n",
    "print(cars)\n",
    "print(ratio)\n",
    "print(kilometraje)\n",
    "print(tipooctanaje)\n",
    "\n",
    "print(octanaje)\n",
    "print(precio_octanaje)\n",
    "\n",
    "# len, brinda la cantidad de elementos del Array\n",
    "x = len(cars)\n",
    "\n",
    "for i in range(x):\n",
    "    print(\"\")\n",
    "    print(cars[i])\n",
    "    consumo_de_combustible = kilometraje[i] * ratio[i]/100\n",
    "\n",
    "    print(\"consumo_de_combustible  gl. :\", consumo_de_combustible)\n",
    "    precio_de_combustible = 0\n",
    "    print(\"precio_de_combustible  PEN/SOL :\", precio_de_combustible)\n",
    "    "
   ]
  },
  {
   "cell_type": "code",
   "execution_count": 33,
   "metadata": {},
   "outputs": [
    {
     "name": "stdout",
     "output_type": "stream",
     "text": [
      "[90, 98]\n",
      "[13.3, 16.6]\n",
      "2\n",
      "90\n",
      "98\n"
     ]
    }
   ],
   "source": [
    "octanaje = [90, 98]\n",
    "precio_octanaje = [13.30 , 16.60]\n",
    "\n",
    "print(octanaje)\n",
    "print(precio_octanaje)\n",
    "\n",
    "precio = 0\n",
    "y = len(octanaje)\n",
    "print(y)\n",
    "\n",
    "for j in range(y):\n",
    "    print(octanaje[j])"
   ]
  },
  {
   "cell_type": "code",
   "execution_count": 36,
   "metadata": {},
   "outputs": [
    {
     "name": "stdout",
     "output_type": "stream",
     "text": [
      "[90, 98]\n",
      "[13.3, 16.6]\n",
      "90\n",
      "13.3\n"
     ]
    }
   ],
   "source": [
    "octanaje = [90, 98]\n",
    "precio_octanaje = [13.30 , 16.60]\n",
    "\n",
    "print(octanaje)\n",
    "print(precio_octanaje)\n",
    "\n",
    "y = len(octanaje)\n",
    "valor = 90\n",
    "\n",
    "for j in range(y):\n",
    "    if valor == octanaje[j]:\n",
    "        print(octanaje[j])\n",
    "        print(precio_octanaje[j])\n"
   ]
  },
  {
   "cell_type": "code",
   "execution_count": 37,
   "metadata": {},
   "outputs": [
    {
     "name": "stdout",
     "output_type": "stream",
     "text": [
      "[90, 98]\n",
      "[13.3, 16.6]\n",
      "98\n",
      "16.6\n"
     ]
    }
   ],
   "source": [
    "octanaje = [90, 98]\n",
    "precio_octanaje = [13.30 , 16.60]\n",
    "\n",
    "print(octanaje)\n",
    "print(precio_octanaje)\n",
    "\n",
    "y = len(octanaje)\n",
    "valor = 98\n",
    "\n",
    "for j in range(y):\n",
    "    if valor == octanaje[j]:\n",
    "        print(octanaje[j])\n",
    "        print(precio_octanaje[j])"
   ]
  },
  {
   "cell_type": "code",
   "execution_count": 39,
   "metadata": {},
   "outputs": [
    {
     "name": "stdout",
     "output_type": "stream",
     "text": [
      "[90, 98]\n",
      "[13.3, 16.6]\n",
      "16.6\n"
     ]
    }
   ],
   "source": [
    "octanaje = [90, 98]\n",
    "precio_octanaje = [13.30 , 16.60]\n",
    "\n",
    "print(octanaje)\n",
    "print(precio_octanaje)\n",
    "\n",
    "y = len(octanaje)\n",
    "xoctanaje = 98\n",
    "\n",
    "xprecio_octanaje = 0\n",
    "\n",
    "for j in range(y):\n",
    "    if xoctanaje == octanaje[j]:\n",
    "        xprecio_octanaje = precio_octanaje[j]\n",
    " \n",
    "print(xprecio_octanaje)"
   ]
  },
  {
   "cell_type": "code",
   "execution_count": 40,
   "metadata": {},
   "outputs": [
    {
     "name": "stdout",
     "output_type": "stream",
     "text": [
      "[90, 98]\n",
      "[13.3, 16.6]\n",
      "13.3\n"
     ]
    }
   ],
   "source": [
    "octanaje = [90, 98]\n",
    "precio_octanaje = [13.30 , 16.60]\n",
    "\n",
    "print(octanaje)\n",
    "print(precio_octanaje)\n",
    "\n",
    "y = len(octanaje)\n",
    "xoctanaje = 90\n",
    "\n",
    "xprecio_octanaje = 0\n",
    "\n",
    "for j in range(y):\n",
    "    if xoctanaje == octanaje[j]:\n",
    "        xprecio_octanaje = precio_octanaje[j]\n",
    " \n",
    "print(xprecio_octanaje)"
   ]
  },
  {
   "cell_type": "code",
   "execution_count": 41,
   "metadata": {},
   "outputs": [
    {
     "name": "stdout",
     "output_type": "stream",
     "text": [
      "[90, 98]\n",
      "[13.3, 16.6]\n",
      "0\n"
     ]
    }
   ],
   "source": [
    "octanaje = [90, 98]\n",
    "precio_octanaje = [13.30 , 16.60]\n",
    "\n",
    "print(octanaje)\n",
    "print(precio_octanaje)\n",
    "\n",
    "y = len(octanaje)\n",
    "xoctanaje = 85\n",
    "\n",
    "xprecio_octanaje = 0\n",
    "\n",
    "for j in range(y):\n",
    "    if xoctanaje == octanaje[j]:\n",
    "        xprecio_octanaje = precio_octanaje[j]\n",
    " \n",
    "print(xprecio_octanaje)"
   ]
  },
  {
   "cell_type": "code",
   "execution_count": 30,
   "metadata": {
    "scrolled": true
   },
   "outputs": [
    {
     "name": "stdout",
     "output_type": "stream",
     "text": [
      "['CAMIONETA NISSAN', 'AUTO TOYOTA COROLLA', 'CAMIONETA HYLUX TOYOTA', 'PICK UP NISSAN NAVARA']\n",
      "[5, 3.5, 9.5, 8]\n",
      "[100, 100, 100, 100]\n",
      "[90, 90, 98, 98]\n",
      "[90, 98]\n",
      "[13.3, 16.6]\n",
      "\n",
      "CAMIONETA NISSAN\n",
      "consumo_de_combustible  gl. : 5.0\n",
      "precio_de_combustible  PEN/SOL : 0.0\n",
      "\n",
      "AUTO TOYOTA COROLLA\n",
      "consumo_de_combustible  gl. : 3.5\n",
      "precio_de_combustible  PEN/SOL : 0.0\n",
      "\n",
      "CAMIONETA HYLUX TOYOTA\n",
      "consumo_de_combustible  gl. : 9.5\n",
      "precio_de_combustible  PEN/SOL : 0.0\n",
      "\n",
      "PICK UP NISSAN NAVARA\n",
      "consumo_de_combustible  gl. : 8.0\n",
      "precio_de_combustible  PEN/SOL : 0.0\n"
     ]
    }
   ],
   "source": [
    "# arrays\n",
    "cars = [\"CAMIONETA NISSAN\", \"AUTO TOYOTA COROLLA\", \"CAMIONETA HYLUX TOYOTA\", \"PICK UP NISSAN NAVARA\"]\n",
    "ratio = [5 , 3.5 , 9.5, 8]\n",
    "kilometraje = [100,100,100,100]\n",
    "tipooctanaje = [90, 90, 98, 98]\n",
    "\n",
    "octanaje = [90, 98]\n",
    "precio_octanaje = [13.30 , 16.60]\n",
    "\n",
    "            \n",
    "print(cars)\n",
    "print(ratio)\n",
    "print(kilometraje)\n",
    "print(tipooctanaje)\n",
    "\n",
    "print(octanaje)\n",
    "print(precio_octanaje)\n",
    "\n",
    "# len, brinda la cantidad de elementos del Array\n",
    "x = len(cars)\n",
    "\n",
    "for i in range(x):\n",
    "    print(\"\")\n",
    "    print(cars[i])\n",
    "    consumo_de_combustible = kilometraje[i] * ratio[i]/100\n",
    "\n",
    "    print(\"consumo_de_combustible  gl. :\", consumo_de_combustible)\n",
    "    \n",
    "    xtipooctanaje = tipooctanaje[i]\n",
    "    \n",
    "    precio_octanaje_vehiculo = 0\n",
    "    precio_de_combustible = consumo_de_combustible * precio_octanaje_vehiculo\n",
    "    print(\"precio_de_combustible  PEN/SOL :\", precio_de_combustible)\n",
    "    "
   ]
  },
  {
   "cell_type": "code",
   "execution_count": 43,
   "metadata": {},
   "outputs": [
    {
     "name": "stdout",
     "output_type": "stream",
     "text": [
      "['CAMIONETA NISSAN', 'AUTO TOYOTA COROLLA', 'CAMIONETA HYLUX TOYOTA', 'PICK UP NISSAN NAVARA']\n",
      "[5, 3.5, 9.5, 8]\n",
      "[100, 100, 100, 100]\n",
      "[90, 90, 98, 98]\n",
      "[90, 98]\n",
      "[13.3, 16.6]\n",
      "\n",
      "CAMIONETA NISSAN\n",
      "consumo_de_combustible  gl. : 5.0\n",
      "xprecio_octanaje:  13.3\n",
      "precio_de_combustible  PEN/SOL : 66.5\n",
      "\n",
      "AUTO TOYOTA COROLLA\n",
      "consumo_de_combustible  gl. : 3.5\n",
      "xprecio_octanaje:  13.3\n",
      "precio_de_combustible  PEN/SOL : 46.550000000000004\n",
      "\n",
      "CAMIONETA HYLUX TOYOTA\n",
      "consumo_de_combustible  gl. : 9.5\n",
      "xprecio_octanaje:  16.6\n",
      "precio_de_combustible  PEN/SOL : 157.70000000000002\n",
      "\n",
      "PICK UP NISSAN NAVARA\n",
      "consumo_de_combustible  gl. : 8.0\n",
      "xprecio_octanaje:  16.6\n",
      "precio_de_combustible  PEN/SOL : 132.8\n"
     ]
    }
   ],
   "source": [
    "# arrays\n",
    "cars = [\"CAMIONETA NISSAN\", \"AUTO TOYOTA COROLLA\", \"CAMIONETA HYLUX TOYOTA\", \"PICK UP NISSAN NAVARA\"]\n",
    "ratio = [5 , 3.5 , 9.5, 8]\n",
    "kilometraje = [100,100,100,100]\n",
    "tipooctanaje = [90, 90, 98, 98]\n",
    "\n",
    "octanaje = [90, 98]\n",
    "precio_octanaje = [13.30 , 16.60]\n",
    "\n",
    "            \n",
    "print(cars)\n",
    "print(ratio)\n",
    "print(kilometraje)\n",
    "print(tipooctanaje)\n",
    "\n",
    "print(octanaje)\n",
    "print(precio_octanaje)\n",
    "\n",
    "# len, brinda la cantidad de elementos del Array\n",
    "x = len(cars)\n",
    "\n",
    "for i in range(x):\n",
    "    print(\"\")\n",
    "    print(cars[i])\n",
    "    consumo_de_combustible = kilometraje[i] * ratio[i]/100\n",
    "\n",
    "    print(\"consumo_de_combustible  gl. :\", consumo_de_combustible)\n",
    "        \n",
    "    y = len(octanaje)\n",
    "    xoctanaje = tipooctanaje[i]\n",
    "    xprecio_octanaje = 0\n",
    "    for j in range(y):\n",
    "        if xoctanaje == octanaje[j]:\n",
    "            xprecio_octanaje = precio_octanaje[j]\n",
    "    print(\"xprecio_octanaje: \",xprecio_octanaje)\n",
    "\n",
    "    \n",
    "    precio_octanaje_vehiculo = xprecio_octanaje\n",
    "    precio_de_combustible = consumo_de_combustible * precio_octanaje_vehiculo\n",
    "    print(\"precio_de_combustible  PEN/SOL :\", precio_de_combustible)\n",
    "    "
   ]
  },
  {
   "cell_type": "code",
   "execution_count": 44,
   "metadata": {},
   "outputs": [
    {
     "name": "stdout",
     "output_type": "stream",
     "text": [
      "30\n"
     ]
    }
   ],
   "source": [
    "# sumatoria\n",
    "a=10\n",
    "b=20\n",
    "s = a + b\n",
    "print(s)\n"
   ]
  },
  {
   "cell_type": "code",
   "execution_count": 45,
   "metadata": {},
   "outputs": [
    {
     "name": "stdout",
     "output_type": "stream",
     "text": [
      "[1, 2, 3, 4]\n"
     ]
    }
   ],
   "source": [
    "r = [1,2,3,4]\n",
    "print(r)\n",
    "\n",
    "    "
   ]
  },
  {
   "cell_type": "code",
   "execution_count": 47,
   "metadata": {},
   "outputs": [
    {
     "name": "stdout",
     "output_type": "stream",
     "text": [
      "[1, 2, 3, 4]\n",
      "1\n",
      "4\n",
      "9\n",
      "16\n"
     ]
    }
   ],
   "source": [
    "r = [1,2,3,4]\n",
    "print(r)\n",
    "\n",
    "x = len(r)\n",
    "\n",
    "for i in range(x):\n",
    "    num = r[i]\n",
    "    print(num*num)"
   ]
  },
  {
   "cell_type": "code",
   "execution_count": 48,
   "metadata": {},
   "outputs": [
    {
     "name": "stdout",
     "output_type": "stream",
     "text": [
      "[1, 2, 3, 4]\n",
      "1\n",
      "4\n",
      "9\n",
      "16\n",
      "sumatoria: 30\n"
     ]
    }
   ],
   "source": [
    "r = [1,2,3,4]\n",
    "print(r)\n",
    "\n",
    "x = len(r)\n",
    "sumatoria = 0\n",
    "for i in range(x):\n",
    "    num = r[i]\n",
    "    print(num*num)\n",
    "    sumatoria = sumatoria + num*num\n",
    "    \n",
    "print(\"sumatoria:\",sumatoria)    "
   ]
  },
  {
   "cell_type": "code",
   "execution_count": 50,
   "metadata": {},
   "outputs": [
    {
     "name": "stdout",
     "output_type": "stream",
     "text": [
      "['CAMIONETA NISSAN', 'AUTO TOYOTA COROLLA', 'CAMIONETA HYLUX TOYOTA', 'PICK UP NISSAN NAVARA']\n",
      "[5, 3.5, 9.5, 8]\n",
      "[100, 100, 100, 100]\n",
      "[90, 90, 98, 98]\n",
      "[90, 98]\n",
      "[13.3, 16.6]\n",
      "\n",
      "CAMIONETA NISSAN\n",
      "consumo_de_combustible  gl. : 5.0\n",
      "xprecio_octanaje:  13.3\n",
      "precio_de_combustible  PEN/SOL : 66.5\n",
      "\n",
      "AUTO TOYOTA COROLLA\n",
      "consumo_de_combustible  gl. : 3.5\n",
      "xprecio_octanaje:  13.3\n",
      "precio_de_combustible  PEN/SOL : 46.550000000000004\n",
      "\n",
      "CAMIONETA HYLUX TOYOTA\n",
      "consumo_de_combustible  gl. : 9.5\n",
      "xprecio_octanaje:  16.6\n",
      "precio_de_combustible  PEN/SOL : 157.70000000000002\n",
      "\n",
      "PICK UP NISSAN NAVARA\n",
      "consumo_de_combustible  gl. : 8.0\n",
      "xprecio_octanaje:  16.6\n",
      "precio_de_combustible  PEN/SOL : 132.8\n",
      "\n",
      "sumatoria PEN/SOL: 403.55\n"
     ]
    }
   ],
   "source": [
    "# arrays\n",
    "cars = [\"CAMIONETA NISSAN\", \"AUTO TOYOTA COROLLA\", \"CAMIONETA HYLUX TOYOTA\", \"PICK UP NISSAN NAVARA\"]\n",
    "ratio = [5 , 3.5 , 9.5, 8]\n",
    "kilometraje = [100,100,100,100]\n",
    "tipooctanaje = [90, 90, 98, 98]\n",
    "\n",
    "octanaje = [90, 98]\n",
    "precio_octanaje = [13.30 , 16.60]\n",
    "\n",
    "            \n",
    "print(cars)\n",
    "print(ratio)\n",
    "print(kilometraje)\n",
    "print(tipooctanaje)\n",
    "\n",
    "print(octanaje)\n",
    "print(precio_octanaje)\n",
    "\n",
    "# len, brinda la cantidad de elementos del Array\n",
    "x = len(cars)\n",
    "sumatoria = 0\n",
    "for i in range(x):\n",
    "    print(\"\")\n",
    "    print(cars[i])\n",
    "    consumo_de_combustible = kilometraje[i] * ratio[i]/100\n",
    "\n",
    "    print(\"consumo_de_combustible  gl. :\", consumo_de_combustible)\n",
    "        \n",
    "    y = len(octanaje)\n",
    "    xoctanaje = tipooctanaje[i]\n",
    "    xprecio_octanaje = 0\n",
    "    for j in range(y):\n",
    "        if xoctanaje == octanaje[j]:\n",
    "            xprecio_octanaje = precio_octanaje[j]\n",
    "    print(\"xprecio_octanaje: \",xprecio_octanaje)\n",
    "\n",
    "    \n",
    "    precio_octanaje_vehiculo = xprecio_octanaje\n",
    "    precio_de_combustible = consumo_de_combustible * precio_octanaje_vehiculo\n",
    "    print(\"precio_de_combustible  PEN/SOL :\", precio_de_combustible)\n",
    "    \n",
    "    sumatoria = sumatoria + precio_de_combustible\n",
    "    \n",
    "print(\"\")    \n",
    "print(\"sumatoria PEN/SOL:\",sumatoria)        "
   ]
  },
  {
   "cell_type": "code",
   "execution_count": 51,
   "metadata": {},
   "outputs": [
    {
     "name": "stdout",
     "output_type": "stream",
     "text": [
      "['CAMIONETA NISSAN', 'AUTO TOYOTA COROLLA', 'CAMIONETA HYLUX TOYOTA', 'PICK UP NISSAN NAVARA']\n",
      "[5, 3.5, 9.5, 8]\n",
      "[500, 50, 100, 1000]\n",
      "[90, 90, 98, 98]\n",
      "[90, 98]\n",
      "[13.3, 16.6]\n",
      "\n",
      "CAMIONETA NISSAN\n",
      "consumo_de_combustible  gl. : 25.0\n",
      "xprecio_octanaje:  13.3\n",
      "precio_de_combustible  PEN/SOL : 332.5\n",
      "\n",
      "AUTO TOYOTA COROLLA\n",
      "consumo_de_combustible  gl. : 1.75\n",
      "xprecio_octanaje:  13.3\n",
      "precio_de_combustible  PEN/SOL : 23.275000000000002\n",
      "\n",
      "CAMIONETA HYLUX TOYOTA\n",
      "consumo_de_combustible  gl. : 9.5\n",
      "xprecio_octanaje:  16.6\n",
      "precio_de_combustible  PEN/SOL : 157.70000000000002\n",
      "\n",
      "PICK UP NISSAN NAVARA\n",
      "consumo_de_combustible  gl. : 80.0\n",
      "xprecio_octanaje:  16.6\n",
      "precio_de_combustible  PEN/SOL : 1328.0\n",
      "\n",
      "sumatoria PEN/SOL: 1841.475\n"
     ]
    }
   ],
   "source": [
    "# arrays\n",
    "cars = [\"CAMIONETA NISSAN\", \"AUTO TOYOTA COROLLA\", \"CAMIONETA HYLUX TOYOTA\", \"PICK UP NISSAN NAVARA\"]\n",
    "ratio = [5 , 3.5 , 9.5, 8]\n",
    "kilometraje = [500,50,100,1000]\n",
    "tipooctanaje = [90, 90, 98, 98]\n",
    "\n",
    "octanaje = [90, 98]\n",
    "precio_octanaje = [13.30 , 16.60]\n",
    "\n",
    "            \n",
    "print(cars)\n",
    "print(ratio)\n",
    "print(kilometraje)\n",
    "print(tipooctanaje)\n",
    "\n",
    "print(octanaje)\n",
    "print(precio_octanaje)\n",
    "\n",
    "# len, brinda la cantidad de elementos del Array\n",
    "x = len(cars)\n",
    "sumatoria = 0\n",
    "for i in range(x):\n",
    "    print(\"\")\n",
    "    print(cars[i])\n",
    "    consumo_de_combustible = kilometraje[i] * ratio[i]/100\n",
    "\n",
    "    print(\"consumo_de_combustible  gl. :\", consumo_de_combustible)\n",
    "        \n",
    "    y = len(octanaje)\n",
    "    xoctanaje = tipooctanaje[i]\n",
    "    xprecio_octanaje = 0\n",
    "    for j in range(y):\n",
    "        if xoctanaje == octanaje[j]:\n",
    "            xprecio_octanaje = precio_octanaje[j]\n",
    "    print(\"xprecio_octanaje: \",xprecio_octanaje)\n",
    "\n",
    "    \n",
    "    precio_octanaje_vehiculo = xprecio_octanaje\n",
    "    precio_de_combustible = consumo_de_combustible * precio_octanaje_vehiculo\n",
    "    print(\"precio_de_combustible  PEN/SOL :\", precio_de_combustible)\n",
    "    \n",
    "    sumatoria = sumatoria + precio_de_combustible\n",
    "    \n",
    "print(\"\")    \n",
    "print(\"sumatoria PEN/SOL:\",sumatoria) "
   ]
  },
  {
   "cell_type": "code",
   "execution_count": null,
   "metadata": {},
   "outputs": [],
   "source": []
  }
 ],
 "metadata": {
  "kernelspec": {
   "display_name": "Python 3",
   "language": "python",
   "name": "python3"
  },
  "language_info": {
   "codemirror_mode": {
    "name": "ipython",
    "version": 3
   },
   "file_extension": ".py",
   "mimetype": "text/x-python",
   "name": "python",
   "nbconvert_exporter": "python",
   "pygments_lexer": "ipython3",
   "version": "3.7.1"
  }
 },
 "nbformat": 4,
 "nbformat_minor": 4
}
