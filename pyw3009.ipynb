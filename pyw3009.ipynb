{
 "cells": [
  {
   "cell_type": "code",
   "execution_count": 12,
   "metadata": {},
   "outputs": [
    {
     "name": "stdout",
     "output_type": "stream",
     "text": [
      "   id                    auto  ratio  octanaje  kilometraje\n",
      "0   1        CAMIONETA NISSAN    5.0        90          500\n",
      "1   2     AUTO TOYOTA COROLLA    3.5        90           50\n",
      "2   3  CAMIONETA HYLUX TOYOTA    9.5        98          100\n",
      "3   4   PICK UP NISSAN NAVARA    8.0        98         1000\n",
      "   ido  octanaje  precio_octanaje\n",
      "0    1        90             13.3\n",
      "1    2        98             16.6\n",
      "2    3        85             10.0\n",
      "   id  year  month  day  kilometraje\n",
      "0   1  2020      8   14          500\n",
      "1   2  2020      8   14           50\n",
      "2   3  2020      8   14          100\n",
      "3   4  2020      8   14         1000\n",
      "4   1  2020      8   15          100\n",
      "5   2  2020      8   15          500\n",
      "6   3  2020      8   15          150\n",
      "7   4  2020      8   15            0\n",
      "   ido  year  month  day  precio_octanaje\n",
      "0    1  2020      8   14             13.3\n",
      "1    2  2020      8   14             16.6\n",
      "2    3  2020      8   14             10.0\n",
      "3    1  2020      8   15             14.0\n",
      "4    2  2020      8   15             16.0\n",
      "5    3  2020      8   15              9.5\n"
     ]
    }
   ],
   "source": [
    "import pandas as pd\n",
    "df1 = pd.read_excel (r'autos2.xlsx', sheet_name='Hoja1')\n",
    "df2 = pd.read_excel (r'autos2.xlsx', sheet_name='Hoja2')\n",
    "df3 = pd.read_excel (r'autos2.xlsx', sheet_name='Hoja3')\n",
    "df4 = pd.read_excel (r'autos2.xlsx', sheet_name='Hoja4')\n",
    "\n",
    "print(df1)\n",
    "print(df2)\n",
    "print(df3)\n",
    "print(df4)\n"
   ]
  },
  {
   "cell_type": "code",
   "execution_count": 2,
   "metadata": {},
   "outputs": [
    {
     "name": "stdout",
     "output_type": "stream",
     "text": [
      "   id                    auto  ratio  octanaje  kilometraje_x  year  month  \\\n",
      "0   1        CAMIONETA NISSAN    5.0        90            500  2020      8   \n",
      "1   1        CAMIONETA NISSAN    5.0        90            500  2020      8   \n",
      "2   2     AUTO TOYOTA COROLLA    3.5        90             50  2020      8   \n",
      "3   2     AUTO TOYOTA COROLLA    3.5        90             50  2020      8   \n",
      "4   3  CAMIONETA HYLUX TOYOTA    9.5        98            100  2020      8   \n",
      "5   3  CAMIONETA HYLUX TOYOTA    9.5        98            100  2020      8   \n",
      "6   4   PICK UP NISSAN NAVARA    8.0        98           1000  2020      8   \n",
      "7   4   PICK UP NISSAN NAVARA    8.0        98           1000  2020      8   \n",
      "\n",
      "   day  kilometraje_y  \n",
      "0   14            500  \n",
      "1   15            100  \n",
      "2   14             50  \n",
      "3   15            500  \n",
      "4   14            100  \n",
      "5   15            150  \n",
      "6   14           1000  \n",
      "7   15              0  \n"
     ]
    }
   ],
   "source": [
    "import pandas as pd\n",
    "df1 = pd.read_excel (r'autos2.xlsx', sheet_name='Hoja1')\n",
    "df2 = pd.read_excel (r'autos2.xlsx', sheet_name='Hoja2')\n",
    "df3 = pd.read_excel (r'autos2.xlsx', sheet_name='Hoja3')\n",
    "df4 = pd.read_excel (r'autos2.xlsx', sheet_name='Hoja4')\n",
    "\n",
    "df1df3 = pd.merge(df1, df3, on='id', how='inner')\n",
    "print(df1df3)"
   ]
  },
  {
   "cell_type": "code",
   "execution_count": 13,
   "metadata": {},
   "outputs": [
    {
     "ename": "KeyError",
     "evalue": "'id'",
     "output_type": "error",
     "traceback": [
      "\u001b[1;31m---------------------------------------------------------------------\u001b[0m",
      "\u001b[1;31mKeyError\u001b[0m                            Traceback (most recent call last)",
      "\u001b[1;32m<ipython-input-13-f36200e952e5>\u001b[0m in \u001b[0;36m<module>\u001b[1;34m\u001b[0m\n\u001b[0;32m      5\u001b[0m \u001b[0mdf4\u001b[0m \u001b[1;33m=\u001b[0m \u001b[0mpd\u001b[0m\u001b[1;33m.\u001b[0m\u001b[0mread_excel\u001b[0m \u001b[1;33m(\u001b[0m\u001b[1;34mr'autos2.xlsx'\u001b[0m\u001b[1;33m,\u001b[0m \u001b[0msheet_name\u001b[0m\u001b[1;33m=\u001b[0m\u001b[1;34m'Hoja4'\u001b[0m\u001b[1;33m)\u001b[0m\u001b[1;33m\u001b[0m\u001b[1;33m\u001b[0m\u001b[0m\n\u001b[0;32m      6\u001b[0m \u001b[1;33m\u001b[0m\u001b[0m\n\u001b[1;32m----> 7\u001b[1;33m \u001b[0mdf2df4\u001b[0m \u001b[1;33m=\u001b[0m \u001b[0mpd\u001b[0m\u001b[1;33m.\u001b[0m\u001b[0mmerge\u001b[0m\u001b[1;33m(\u001b[0m\u001b[0mdf2\u001b[0m\u001b[1;33m,\u001b[0m \u001b[0mdf4\u001b[0m\u001b[1;33m,\u001b[0m \u001b[0mon\u001b[0m\u001b[1;33m=\u001b[0m\u001b[1;34m'id'\u001b[0m\u001b[1;33m,\u001b[0m \u001b[0mhow\u001b[0m\u001b[1;33m=\u001b[0m\u001b[1;34m'inner'\u001b[0m\u001b[1;33m)\u001b[0m\u001b[1;33m\u001b[0m\u001b[1;33m\u001b[0m\u001b[0m\n\u001b[0m\u001b[0;32m      8\u001b[0m \u001b[0mprint\u001b[0m\u001b[1;33m(\u001b[0m\u001b[0mdf2df4\u001b[0m\u001b[1;33m)\u001b[0m\u001b[1;33m\u001b[0m\u001b[1;33m\u001b[0m\u001b[0m\n",
      "\u001b[1;32mC:\\Anaconda3\\lib\\site-packages\\pandas\\core\\reshape\\merge.py\u001b[0m in \u001b[0;36mmerge\u001b[1;34m(left, right, how, on, left_on, right_on, left_index, right_index, sort, suffixes, copy, indicator, validate)\u001b[0m\n\u001b[0;32m     84\u001b[0m         \u001b[0mcopy\u001b[0m\u001b[1;33m=\u001b[0m\u001b[0mcopy\u001b[0m\u001b[1;33m,\u001b[0m\u001b[1;33m\u001b[0m\u001b[1;33m\u001b[0m\u001b[0m\n\u001b[0;32m     85\u001b[0m         \u001b[0mindicator\u001b[0m\u001b[1;33m=\u001b[0m\u001b[0mindicator\u001b[0m\u001b[1;33m,\u001b[0m\u001b[1;33m\u001b[0m\u001b[1;33m\u001b[0m\u001b[0m\n\u001b[1;32m---> 86\u001b[1;33m         \u001b[0mvalidate\u001b[0m\u001b[1;33m=\u001b[0m\u001b[0mvalidate\u001b[0m\u001b[1;33m,\u001b[0m\u001b[1;33m\u001b[0m\u001b[1;33m\u001b[0m\u001b[0m\n\u001b[0m\u001b[0;32m     87\u001b[0m     )\n\u001b[0;32m     88\u001b[0m     \u001b[1;32mreturn\u001b[0m \u001b[0mop\u001b[0m\u001b[1;33m.\u001b[0m\u001b[0mget_result\u001b[0m\u001b[1;33m(\u001b[0m\u001b[1;33m)\u001b[0m\u001b[1;33m\u001b[0m\u001b[1;33m\u001b[0m\u001b[0m\n",
      "\u001b[1;32mC:\\Anaconda3\\lib\\site-packages\\pandas\\core\\reshape\\merge.py\u001b[0m in \u001b[0;36m__init__\u001b[1;34m(self, left, right, how, on, left_on, right_on, axis, left_index, right_index, sort, suffixes, copy, indicator, validate)\u001b[0m\n\u001b[0;32m    625\u001b[0m             \u001b[0mself\u001b[0m\u001b[1;33m.\u001b[0m\u001b[0mright_join_keys\u001b[0m\u001b[1;33m,\u001b[0m\u001b[1;33m\u001b[0m\u001b[1;33m\u001b[0m\u001b[0m\n\u001b[0;32m    626\u001b[0m             \u001b[0mself\u001b[0m\u001b[1;33m.\u001b[0m\u001b[0mjoin_names\u001b[0m\u001b[1;33m,\u001b[0m\u001b[1;33m\u001b[0m\u001b[1;33m\u001b[0m\u001b[0m\n\u001b[1;32m--> 627\u001b[1;33m         ) = self._get_merge_keys()\n\u001b[0m\u001b[0;32m    628\u001b[0m \u001b[1;33m\u001b[0m\u001b[0m\n\u001b[0;32m    629\u001b[0m         \u001b[1;31m# validate the merge keys dtypes. We may need to coerce\u001b[0m\u001b[1;33m\u001b[0m\u001b[1;33m\u001b[0m\u001b[1;33m\u001b[0m\u001b[0m\n",
      "\u001b[1;32mC:\\Anaconda3\\lib\\site-packages\\pandas\\core\\reshape\\merge.py\u001b[0m in \u001b[0;36m_get_merge_keys\u001b[1;34m(self)\u001b[0m\n\u001b[0;32m    981\u001b[0m                     \u001b[1;32mif\u001b[0m \u001b[1;32mnot\u001b[0m \u001b[0mis_rkey\u001b[0m\u001b[1;33m(\u001b[0m\u001b[0mrk\u001b[0m\u001b[1;33m)\u001b[0m\u001b[1;33m:\u001b[0m\u001b[1;33m\u001b[0m\u001b[1;33m\u001b[0m\u001b[0m\n\u001b[0;32m    982\u001b[0m                         \u001b[1;32mif\u001b[0m \u001b[0mrk\u001b[0m \u001b[1;32mis\u001b[0m \u001b[1;32mnot\u001b[0m \u001b[1;32mNone\u001b[0m\u001b[1;33m:\u001b[0m\u001b[1;33m\u001b[0m\u001b[1;33m\u001b[0m\u001b[0m\n\u001b[1;32m--> 983\u001b[1;33m                             \u001b[0mright_keys\u001b[0m\u001b[1;33m.\u001b[0m\u001b[0mappend\u001b[0m\u001b[1;33m(\u001b[0m\u001b[0mright\u001b[0m\u001b[1;33m.\u001b[0m\u001b[0m_get_label_or_level_values\u001b[0m\u001b[1;33m(\u001b[0m\u001b[0mrk\u001b[0m\u001b[1;33m)\u001b[0m\u001b[1;33m)\u001b[0m\u001b[1;33m\u001b[0m\u001b[1;33m\u001b[0m\u001b[0m\n\u001b[0m\u001b[0;32m    984\u001b[0m                         \u001b[1;32melse\u001b[0m\u001b[1;33m:\u001b[0m\u001b[1;33m\u001b[0m\u001b[1;33m\u001b[0m\u001b[0m\n\u001b[0;32m    985\u001b[0m                             \u001b[1;31m# work-around for merge_asof(right_index=True)\u001b[0m\u001b[1;33m\u001b[0m\u001b[1;33m\u001b[0m\u001b[1;33m\u001b[0m\u001b[0m\n",
      "\u001b[1;32mC:\\Anaconda3\\lib\\site-packages\\pandas\\core\\generic.py\u001b[0m in \u001b[0;36m_get_label_or_level_values\u001b[1;34m(self, key, axis)\u001b[0m\n\u001b[0;32m   1689\u001b[0m             \u001b[0mvalues\u001b[0m \u001b[1;33m=\u001b[0m \u001b[0mself\u001b[0m\u001b[1;33m.\u001b[0m\u001b[0maxes\u001b[0m\u001b[1;33m[\u001b[0m\u001b[0maxis\u001b[0m\u001b[1;33m]\u001b[0m\u001b[1;33m.\u001b[0m\u001b[0mget_level_values\u001b[0m\u001b[1;33m(\u001b[0m\u001b[0mkey\u001b[0m\u001b[1;33m)\u001b[0m\u001b[1;33m.\u001b[0m\u001b[0m_values\u001b[0m\u001b[1;33m\u001b[0m\u001b[1;33m\u001b[0m\u001b[0m\n\u001b[0;32m   1690\u001b[0m         \u001b[1;32melse\u001b[0m\u001b[1;33m:\u001b[0m\u001b[1;33m\u001b[0m\u001b[1;33m\u001b[0m\u001b[0m\n\u001b[1;32m-> 1691\u001b[1;33m             \u001b[1;32mraise\u001b[0m \u001b[0mKeyError\u001b[0m\u001b[1;33m(\u001b[0m\u001b[0mkey\u001b[0m\u001b[1;33m)\u001b[0m\u001b[1;33m\u001b[0m\u001b[1;33m\u001b[0m\u001b[0m\n\u001b[0m\u001b[0;32m   1692\u001b[0m \u001b[1;33m\u001b[0m\u001b[0m\n\u001b[0;32m   1693\u001b[0m         \u001b[1;31m# Check for duplicates\u001b[0m\u001b[1;33m\u001b[0m\u001b[1;33m\u001b[0m\u001b[1;33m\u001b[0m\u001b[0m\n",
      "\u001b[1;31mKeyError\u001b[0m: 'id'"
     ]
    }
   ],
   "source": [
    "import pandas as pd\n",
    "df1 = pd.read_excel (r'autos2.xlsx', sheet_name='Hoja1')\n",
    "df2 = pd.read_excel (r'autos2.xlsx', sheet_name='Hoja2')\n",
    "df3 = pd.read_excel (r'autos2.xlsx', sheet_name='Hoja3')\n",
    "df4 = pd.read_excel (r'autos2.xlsx', sheet_name='Hoja4')\n",
    "\n",
    "df2df4 = pd.merge(df2, df4, on='id', how='inner')\n",
    "print(df2df4)"
   ]
  },
  {
   "cell_type": "code",
   "execution_count": 4,
   "metadata": {},
   "outputs": [
    {
     "name": "stdout",
     "output_type": "stream",
     "text": [
      "   id_x                    auto  ratio  octanaje  kilometraje  id_y  \\\n",
      "0     1        CAMIONETA NISSAN    5.0        90          500     1   \n",
      "1     2     AUTO TOYOTA COROLLA    3.5        90           50     1   \n",
      "2     3  CAMIONETA HYLUX TOYOTA    9.5        98          100     2   \n",
      "3     4   PICK UP NISSAN NAVARA    8.0        98         1000     2   \n",
      "\n",
      "   precio_octanaje  \n",
      "0             13.3  \n",
      "1             13.3  \n",
      "2             16.6  \n",
      "3             16.6  \n"
     ]
    }
   ],
   "source": [
    "import pandas as pd\n",
    "df1 = pd.read_excel (r'autos2.xlsx', sheet_name='Hoja1')\n",
    "df2 = pd.read_excel (r'autos2.xlsx', sheet_name='Hoja2')\n",
    "df3 = pd.read_excel (r'autos2.xlsx', sheet_name='Hoja3')\n",
    "df4 = pd.read_excel (r'autos2.xlsx', sheet_name='Hoja4')\n",
    "\n",
    "df1df2 = pd.merge(df1, df2, on='octanaje', how='inner')\n",
    "print(df1df2)"
   ]
  },
  {
   "cell_type": "code",
   "execution_count": 14,
   "metadata": {
    "scrolled": true
   },
   "outputs": [
    {
     "name": "stdout",
     "output_type": "stream",
     "text": [
      "   id                    auto  ratio  octanaje  kilometraje_x  year  month  \\\n",
      "0   1        CAMIONETA NISSAN    5.0        90            500  2020      8   \n",
      "1   1        CAMIONETA NISSAN    5.0        90            500  2020      8   \n",
      "2   2     AUTO TOYOTA COROLLA    3.5        90             50  2020      8   \n",
      "3   2     AUTO TOYOTA COROLLA    3.5        90             50  2020      8   \n",
      "4   3  CAMIONETA HYLUX TOYOTA    9.5        98            100  2020      8   \n",
      "5   3  CAMIONETA HYLUX TOYOTA    9.5        98            100  2020      8   \n",
      "6   4   PICK UP NISSAN NAVARA    8.0        98           1000  2020      8   \n",
      "7   4   PICK UP NISSAN NAVARA    8.0        98           1000  2020      8   \n",
      "\n",
      "   day  kilometraje_y  ido  precio_octanaje  \n",
      "0   14            500    1             13.3  \n",
      "1   15            100    1             13.3  \n",
      "2   14             50    1             13.3  \n",
      "3   15            500    1             13.3  \n",
      "4   14            100    2             16.6  \n",
      "5   15            150    2             16.6  \n",
      "6   14           1000    2             16.6  \n",
      "7   15              0    2             16.6  \n"
     ]
    }
   ],
   "source": [
    "import pandas as pd\n",
    "df1 = pd.read_excel (r'autos2.xlsx', sheet_name='Hoja1')\n",
    "df2 = pd.read_excel (r'autos2.xlsx', sheet_name='Hoja2')\n",
    "df3 = pd.read_excel (r'autos2.xlsx', sheet_name='Hoja3')\n",
    "df4 = pd.read_excel (r'autos2.xlsx', sheet_name='Hoja4')\n",
    "\n",
    "df1df3 = pd.merge(df1, df3, on='id', how='inner')\n",
    "#print(df1df3)\n",
    "\n",
    "df1df3df2 = pd.merge(df1df3, df2, on='octanaje', how='inner')\n",
    "print(df1df3df2)\n"
   ]
  },
  {
   "cell_type": "code",
   "execution_count": 17,
   "metadata": {},
   "outputs": [
    {
     "name": "stdout",
     "output_type": "stream",
     "text": [
      "    id                    auto  ratio  octanaje  kilometraje_x  year_x  \\\n",
      "0    1        CAMIONETA NISSAN    5.0        90            500    2020   \n",
      "1    1        CAMIONETA NISSAN    5.0        90            500    2020   \n",
      "2    1        CAMIONETA NISSAN    5.0        90            500    2020   \n",
      "3    1        CAMIONETA NISSAN    5.0        90            500    2020   \n",
      "4    2     AUTO TOYOTA COROLLA    3.5        90             50    2020   \n",
      "5    2     AUTO TOYOTA COROLLA    3.5        90             50    2020   \n",
      "6    2     AUTO TOYOTA COROLLA    3.5        90             50    2020   \n",
      "7    2     AUTO TOYOTA COROLLA    3.5        90             50    2020   \n",
      "8    3  CAMIONETA HYLUX TOYOTA    9.5        98            100    2020   \n",
      "9    3  CAMIONETA HYLUX TOYOTA    9.5        98            100    2020   \n",
      "10   3  CAMIONETA HYLUX TOYOTA    9.5        98            100    2020   \n",
      "11   3  CAMIONETA HYLUX TOYOTA    9.5        98            100    2020   \n",
      "12   4   PICK UP NISSAN NAVARA    8.0        98           1000    2020   \n",
      "13   4   PICK UP NISSAN NAVARA    8.0        98           1000    2020   \n",
      "14   4   PICK UP NISSAN NAVARA    8.0        98           1000    2020   \n",
      "15   4   PICK UP NISSAN NAVARA    8.0        98           1000    2020   \n",
      "\n",
      "    month_x  day_x  kilometraje_y  ido  precio_octanaje_x  year_y  month_y  \\\n",
      "0         8     14            500    1               13.3    2020        8   \n",
      "1         8     14            500    1               13.3    2020        8   \n",
      "2         8     15            100    1               13.3    2020        8   \n",
      "3         8     15            100    1               13.3    2020        8   \n",
      "4         8     14             50    1               13.3    2020        8   \n",
      "5         8     14             50    1               13.3    2020        8   \n",
      "6         8     15            500    1               13.3    2020        8   \n",
      "7         8     15            500    1               13.3    2020        8   \n",
      "8         8     14            100    2               16.6    2020        8   \n",
      "9         8     14            100    2               16.6    2020        8   \n",
      "10        8     15            150    2               16.6    2020        8   \n",
      "11        8     15            150    2               16.6    2020        8   \n",
      "12        8     14           1000    2               16.6    2020        8   \n",
      "13        8     14           1000    2               16.6    2020        8   \n",
      "14        8     15              0    2               16.6    2020        8   \n",
      "15        8     15              0    2               16.6    2020        8   \n",
      "\n",
      "    day_y  precio_octanaje_y  \n",
      "0      14               13.3  \n",
      "1      15               14.0  \n",
      "2      14               13.3  \n",
      "3      15               14.0  \n",
      "4      14               13.3  \n",
      "5      15               14.0  \n",
      "6      14               13.3  \n",
      "7      15               14.0  \n",
      "8      14               16.6  \n",
      "9      15               16.0  \n",
      "10     14               16.6  \n",
      "11     15               16.0  \n",
      "12     14               16.6  \n",
      "13     15               16.0  \n",
      "14     14               16.6  \n",
      "15     15               16.0  \n"
     ]
    }
   ],
   "source": [
    "import pandas as pd\n",
    "df1 = pd.read_excel (r'autos2.xlsx', sheet_name='Hoja1')\n",
    "df2 = pd.read_excel (r'autos2.xlsx', sheet_name='Hoja2')\n",
    "df3 = pd.read_excel (r'autos2.xlsx', sheet_name='Hoja3')\n",
    "df4 = pd.read_excel (r'autos2.xlsx', sheet_name='Hoja4')\n",
    "\n",
    "df1df3 = pd.merge(df1, df3, on='id', how='inner')\n",
    "#print(df1df3)\n",
    "\n",
    "df1df3df2 = pd.merge(df1df3, df2, on='octanaje', how='inner')\n",
    "#print(df1df3df2)\n",
    "\n",
    "df1df3df2df4 = pd.merge(df1df3df2, df4, on='ido', how='inner')\n",
    "# ????\n",
    "print(df1df3df2df4)\n"
   ]
  },
  {
   "cell_type": "code",
   "execution_count": 20,
   "metadata": {},
   "outputs": [
    {
     "name": "stdout",
     "output_type": "stream",
     "text": [
      "   id                    auto  ratio  octanaje  kilometraje_x  year  month  \\\n",
      "0   1        CAMIONETA NISSAN    5.0        90            500  2020      8   \n",
      "1   2     AUTO TOYOTA COROLLA    3.5        90             50  2020      8   \n",
      "2   1        CAMIONETA NISSAN    5.0        90            500  2020      8   \n",
      "3   2     AUTO TOYOTA COROLLA    3.5        90             50  2020      8   \n",
      "4   3  CAMIONETA HYLUX TOYOTA    9.5        98            100  2020      8   \n",
      "5   4   PICK UP NISSAN NAVARA    8.0        98           1000  2020      8   \n",
      "6   3  CAMIONETA HYLUX TOYOTA    9.5        98            100  2020      8   \n",
      "7   4   PICK UP NISSAN NAVARA    8.0        98           1000  2020      8   \n",
      "\n",
      "   day  kilometraje_y  ido  precio_octanaje_x  precio_octanaje_y  \n",
      "0   14            500    1               13.3               13.3  \n",
      "1   14             50    1               13.3               13.3  \n",
      "2   15            100    1               13.3               14.0  \n",
      "3   15            500    1               13.3               14.0  \n",
      "4   14            100    2               16.6               16.6  \n",
      "5   14           1000    2               16.6               16.6  \n",
      "6   15            150    2               16.6               16.0  \n",
      "7   15              0    2               16.6               16.0  \n"
     ]
    }
   ],
   "source": [
    "import pandas as pd\n",
    "df1 = pd.read_excel (r'autos2.xlsx', sheet_name='Hoja1')\n",
    "df2 = pd.read_excel (r'autos2.xlsx', sheet_name='Hoja2')\n",
    "df3 = pd.read_excel (r'autos2.xlsx', sheet_name='Hoja3')\n",
    "df4 = pd.read_excel (r'autos2.xlsx', sheet_name='Hoja4')\n",
    "\n",
    "df1df3 = pd.merge(df1, df3, on='id', how='inner')\n",
    "#print(df1df3)\n",
    "\n",
    "df1df3df2 = pd.merge(df1df3, df2, on='octanaje', how='inner')\n",
    "#print(df1df3df2)\n",
    "\n",
    "# ?\n",
    "#df1df3df2df4 = pd.merge(df1df3df2, df4, on='ido,year,month,day', how='inner')\n",
    "\n",
    "#new_df = pd.merge(A_df, B_df,  how='left', left_on=['A_c1','c2'], right_on = ['B_c1','c2'])\n",
    "df1df3df2df4 = pd.merge(df1df3df2, df4, how='inner', left_on=['ido','year','month','day'], right_on = ['ido','year','month','day'])\n",
    "print(df1df3df2df4)\n",
    "\n"
   ]
  },
  {
   "cell_type": "code",
   "execution_count": 23,
   "metadata": {},
   "outputs": [
    {
     "name": "stdout",
     "output_type": "stream",
     "text": [
      "   id                    auto  ratio  octanaje  kilometraje_x  year  month  \\\n",
      "0   1        CAMIONETA NISSAN    5.0        90            500  2020      8   \n",
      "1   2     AUTO TOYOTA COROLLA    3.5        90             50  2020      8   \n",
      "2   1        CAMIONETA NISSAN    5.0        90            500  2020      8   \n",
      "3   2     AUTO TOYOTA COROLLA    3.5        90             50  2020      8   \n",
      "4   3  CAMIONETA HYLUX TOYOTA    9.5        98            100  2020      8   \n",
      "5   4   PICK UP NISSAN NAVARA    8.0        98           1000  2020      8   \n",
      "6   3  CAMIONETA HYLUX TOYOTA    9.5        98            100  2020      8   \n",
      "7   4   PICK UP NISSAN NAVARA    8.0        98           1000  2020      8   \n",
      "\n",
      "   day  kilometraje_y  ido  precio_octanaje_x  precio_octanaje_y  \n",
      "0   14            500    1               13.3               13.3  \n",
      "1   14             50    1               13.3               13.3  \n",
      "2   15            100    1               13.3               14.0  \n",
      "3   15            500    1               13.3               14.0  \n",
      "4   14            100    2               16.6               16.6  \n",
      "5   14           1000    2               16.6               16.6  \n",
      "6   15            150    2               16.6               16.0  \n",
      "7   15              0    2               16.6               16.0  \n",
      "\\sumatoria_precio_total PEN/SOL: 36375.0\n"
     ]
    }
   ],
   "source": [
    "import pandas as pd\n",
    "df1 = pd.read_excel (r'autos2.xlsx', sheet_name='Hoja1')\n",
    "df2 = pd.read_excel (r'autos2.xlsx', sheet_name='Hoja2')\n",
    "df3 = pd.read_excel (r'autos2.xlsx', sheet_name='Hoja3')\n",
    "df4 = pd.read_excel (r'autos2.xlsx', sheet_name='Hoja4')\n",
    "df1df3 = pd.merge(df1, df3, on='id', how='inner')\n",
    "df1df3df2 = pd.merge(df1df3, df2, on='octanaje', how='inner')\n",
    "df1df3df2df4 = pd.merge(df1df3df2, df4, how='inner', left_on=['ido','year','month','day'], right_on = ['ido','year','month','day'])\n",
    "print(df1df3df2df4)\n",
    "sumatoria_precio_total = 0\n",
    "for i, row in df1df3df2df4.iterrows():\n",
    "    precio_de_combustible = row[8] *  row[11] \n",
    "    sumatoria_precio_total = sumatoria_precio_total + precio_de_combustible\n",
    "print(\"\\sumatoria_precio_total PEN/SOL:\",sumatoria_precio_total)     "
   ]
  },
  {
   "cell_type": "code",
   "execution_count": 24,
   "metadata": {},
   "outputs": [
    {
     "name": "stdout",
     "output_type": "stream",
     "text": [
      "   id                    auto  ratio  octanaje  kilometraje_x  year  month  \\\n",
      "0   1        CAMIONETA NISSAN    5.0        90            500  2020      8   \n",
      "1   2     AUTO TOYOTA COROLLA    3.5        90             50  2020      8   \n",
      "2   1        CAMIONETA NISSAN    5.0        90            500  2020      8   \n",
      "3   2     AUTO TOYOTA COROLLA    3.5        90             50  2020      8   \n",
      "4   3  CAMIONETA HYLUX TOYOTA    9.5        98            100  2020      8   \n",
      "5   4   PICK UP NISSAN NAVARA    8.0        98           1000  2020      8   \n",
      "6   3  CAMIONETA HYLUX TOYOTA    9.5        98            100  2020      8   \n",
      "7   4   PICK UP NISSAN NAVARA    8.0        98           1000  2020      8   \n",
      "\n",
      "   day  kilometraje_y  ido  precio_octanaje_x  precio_octanaje_y  \n",
      "0   14            500    1               13.3               13.3  \n",
      "1   14             50    1               13.3               13.3  \n",
      "2   15            100    1               13.3               14.0  \n",
      "3   15            500    1               13.3               14.0  \n",
      "4   14            100    2               16.6               16.6  \n",
      "5   14           1000    2               16.6               16.6  \n",
      "6   15            150    2               16.6               16.0  \n",
      "7   15              0    2               16.6               16.0  \n",
      "\\sumatoria_precio_total PEN/SOL: 6302.368421052632\n"
     ]
    }
   ],
   "source": [
    "import pandas as pd\n",
    "df1 = pd.read_excel (r'autos2.xlsx', sheet_name='Hoja1')\n",
    "df2 = pd.read_excel (r'autos2.xlsx', sheet_name='Hoja2')\n",
    "df3 = pd.read_excel (r'autos2.xlsx', sheet_name='Hoja3')\n",
    "df4 = pd.read_excel (r'autos2.xlsx', sheet_name='Hoja4')\n",
    "df1df3 = pd.merge(df1, df3, on='id', how='inner')\n",
    "df1df3df2 = pd.merge(df1df3, df2, on='octanaje', how='inner')\n",
    "df1df3df2df4 = pd.merge(df1df3df2, df4, how='inner', left_on=['ido','year','month','day'], right_on = ['ido','year','month','day'])\n",
    "print(df1df3df2df4)\n",
    "sumatoria_precio_total = 0\n",
    "for i, row in df1df3df2df4.iterrows():\n",
    "    precio_de_combustible = row[8] *  row[11] / row[2]\n",
    "    sumatoria_precio_total = sumatoria_precio_total + precio_de_combustible\n",
    "print(\"\\sumatoria_precio_total PEN/SOL:\",sumatoria_precio_total)    "
   ]
  },
  {
   "cell_type": "code",
   "execution_count": null,
   "metadata": {},
   "outputs": [],
   "source": []
  }
 ],
 "metadata": {
  "kernelspec": {
   "display_name": "Python 3",
   "language": "python",
   "name": "python3"
  },
  "language_info": {
   "codemirror_mode": {
    "name": "ipython",
    "version": 3
   },
   "file_extension": ".py",
   "mimetype": "text/x-python",
   "name": "python",
   "nbconvert_exporter": "python",
   "pygments_lexer": "ipython3",
   "version": "3.7.1"
  }
 },
 "nbformat": 4,
 "nbformat_minor": 4
}
